{
 "cells": [
  {
   "cell_type": "markdown",
   "metadata": {},
   "source": [
    "**1. Decorator for Logging Execution Time**\n",
    "\n",
    "**Problem:** Write a decorator log_execution_time that measures and prints the execution time of any function it wraps. Test this decorator with a sample function that calculates the sum of the first n integers.\n",
    "\n",
    "**Focus:** Decorators, function wrapping, time module."
   ]
  },
  {
   "cell_type": "code",
   "execution_count": null,
   "metadata": {},
   "outputs": [],
   "source": [
    "import time\n",
    "\n",
    "def log_execution_time(func):\n",
    "    def wrapper(*args, **kwargs):\n",
    "        "
   ]
  }
 ],
 "metadata": {
  "kernelspec": {
   "display_name": "ai",
   "language": "python",
   "name": "python3"
  },
  "language_info": {
   "name": "python",
   "version": "3.7.17"
  }
 },
 "nbformat": 4,
 "nbformat_minor": 2
}
