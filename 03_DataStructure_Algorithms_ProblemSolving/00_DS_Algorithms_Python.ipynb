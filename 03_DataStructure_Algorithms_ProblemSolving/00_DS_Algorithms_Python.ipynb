{
 "cells": [
  {
   "cell_type": "markdown",
   "metadata": {},
   "source": [
    "## Table of Contents\n",
    "\n",
    "\n",
    "### 1. Introduction to Algorithms\n",
    "   - Introduction\n",
    "   - Recap\n",
    "\n",
    "### 2. Selection Sort\n",
    "   - What you’ll learn about performance\n",
    "   - Solving problems\n",
    "   - Binary search\n",
    "   - Big O notation\n",
    "   - Memory, Arrays, and Linked Lists\n",
    "   - Inserting and Deletions\n",
    "   - Recap\n",
    "\n",
    "### 3. Recursion\n",
    "   - Base case and recursive case\n",
    "   - The call stack\n",
    "   - Recap\n",
    "\n",
    "### 4. Quicksort\n",
    "   - Divide & conquer\n",
    "   - Big O notation revisited\n",
    "   - Merge sort vs. quicksort\n",
    "   - Average vs. worst case\n",
    "   - Recap\n",
    "\n",
    "### 5. Hash Tables\n",
    "   - Hash functions & use cases\n",
    "   - Collisions\n",
    "   - Performance & Load factor\n",
    "   - A good hash function\n",
    "   - Recap\n",
    "\n",
    "### 6. Breadth-First Search\n",
    "   - Introduction to graphs\n",
    "   - Finding the shortest path\n",
    "   - Implementing BFS\n",
    "   - Running time\n",
    "   - Recap\n",
    "\n",
    "### 7. Dijkstra’s Algorithm\n",
    "   - Working with Dijkstra’s algorithm\n",
    "   - Terminology\n",
    "   - Negative-weight edges\n",
    "   - Implementation\n",
    "   - Recap\n",
    "\n",
    "### 8. Greedy Algorithms\n",
    "   - Classroom scheduling problem\n",
    "   - Knapsack problem\n",
    "   - Approximation algorithms\n",
    "   - NP-complete problems\n",
    "   - Recap\n",
    "\n",
    "### 9. Dynamic Programming\n",
    "   - Knapsack problem & FAQ\n",
    "   - Longest common substring\n",
    "   - Longest common subsequence\n",
    "   - Recap\n",
    "\n",
    "### 10. K-Nearest Neighbors\n",
    "   - Classifying oranges vs. grapefruit\n",
    "   - Recommendations system\n",
    "   - Feature extraction\n",
    "   - Introduction to machine learning\n",
    "   - Recap\n",
    "\n",
    "### 11. Where to Go Next\n",
    "   - Trees\n",
    "   - Fourier transform\n",
    "   - Parallel algorithms\n",
    "   - MapReduce\n",
    "   - Bloom filters & HyperLogLog\n",
    "   - Epilogue\n"
   ]
  },
  {
   "cell_type": "markdown",
   "metadata": {},
   "source": [
    "# Example\n",
    "\n",
    "**QUESTION 1:** \n",
    "\n",
    "Alice has some cards with numbers written on them. She arranges the cards in decreasing order, and lays them out face down in a sequence on a table. She challenges Bob to pick out the card containing a given number by turning over as few cards as possible. Write a function to help Bob locate the card.\n",
    "\n",
    "[Explanation in depth](https://jovian.com/learn/data-structures-and-algorithms-in-python/lesson/lesson-1-binary-search-linked-lists-and-complexity)"
   ]
  },
  {
   "cell_type": "code",
   "execution_count": 3,
   "metadata": {},
   "outputs": [
    {
     "name": "stdout",
     "output_type": "stream",
     "text": [
      "None\n"
     ]
    }
   ],
   "source": [
    "\n",
    "\n",
    "\n",
    "\n",
    "\n",
    "\n",
    "\n",
    "\n",
    "\n",
    "\n"
   ]
  },
  {
   "cell_type": "code",
   "execution_count": null,
   "metadata": {},
   "outputs": [],
   "source": []
  },
  {
   "cell_type": "code",
   "execution_count": null,
   "metadata": {},
   "outputs": [],
   "source": []
  },
  {
   "cell_type": "code",
   "execution_count": null,
   "metadata": {},
   "outputs": [],
   "source": []
  },
  {
   "cell_type": "code",
   "execution_count": null,
   "metadata": {},
   "outputs": [],
   "source": []
  },
  {
   "cell_type": "code",
   "execution_count": null,
   "metadata": {},
   "outputs": [],
   "source": []
  },
  {
   "cell_type": "code",
   "execution_count": null,
   "metadata": {},
   "outputs": [],
   "source": []
  },
  {
   "cell_type": "code",
   "execution_count": null,
   "metadata": {},
   "outputs": [],
   "source": []
  },
  {
   "cell_type": "code",
   "execution_count": null,
   "metadata": {},
   "outputs": [],
   "source": []
  },
  {
   "cell_type": "code",
   "execution_count": null,
   "metadata": {},
   "outputs": [],
   "source": []
  },
  {
   "cell_type": "code",
   "execution_count": null,
   "metadata": {},
   "outputs": [],
   "source": []
  },
  {
   "cell_type": "code",
   "execution_count": null,
   "metadata": {},
   "outputs": [],
   "source": []
  },
  {
   "cell_type": "code",
   "execution_count": null,
   "metadata": {},
   "outputs": [],
   "source": []
  },
  {
   "cell_type": "code",
   "execution_count": null,
   "metadata": {},
   "outputs": [],
   "source": []
  },
  {
   "cell_type": "code",
   "execution_count": null,
   "metadata": {},
   "outputs": [],
   "source": []
  },
  {
   "cell_type": "code",
   "execution_count": null,
   "metadata": {},
   "outputs": [],
   "source": []
  }
 ],
 "metadata": {
  "kernelspec": {
   "display_name": ".venv",
   "language": "python",
   "name": "python3"
  },
  "language_info": {
   "codemirror_mode": {
    "name": "ipython",
    "version": 3
   },
   "file_extension": ".py",
   "mimetype": "text/x-python",
   "name": "python",
   "nbconvert_exporter": "python",
   "pygments_lexer": "ipython3",
   "version": "3.7.17"
  }
 },
 "nbformat": 4,
 "nbformat_minor": 2
}
