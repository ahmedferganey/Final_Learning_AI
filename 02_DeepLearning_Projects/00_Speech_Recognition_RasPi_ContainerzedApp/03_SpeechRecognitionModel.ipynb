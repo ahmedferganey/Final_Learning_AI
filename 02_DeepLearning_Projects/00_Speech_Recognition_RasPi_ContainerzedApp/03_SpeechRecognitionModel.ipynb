{
 "cells": [
  {
   "cell_type": "markdown",
   "metadata": {},
   "source": [
    "# **Getting The Model**"
   ]
  },
  {
   "cell_type": "markdown",
   "metadata": {},
   "source": [
    "## **Resources**\n",
    "\n",
    "[Gymnasium](https://github.com/Farama-Foundation/Gymnasium)"
   ]
  },
  {
   "cell_type": "code",
   "execution_count": null,
   "metadata": {
    "vscode": {
     "languageId": "plaintext"
    }
   },
   "outputs": [],
   "source": []
  }
 ],
 "metadata": {
  "language_info": {
   "name": "python"
  }
 },
 "nbformat": 4,
 "nbformat_minor": 2
}
