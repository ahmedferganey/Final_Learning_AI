{
 "cells": [
  {
   "cell_type": "markdown",
   "metadata": {},
   "source": [
    "```python\n",
    "AppController\n",
    "|\n",
    "|--> Initializes AudioInputHandler and WhisperModel\n",
    "|--> Starts thread for:\n",
    "|     - Streaming live audio via AudioInputHandler.\n",
    "|     - Processing audio queue for transcription.\n",
    "|\n",
    "AudioInputHandler\n",
    "|\n",
    "|--> Streams audio chunks to a queue.\n",
    "|--> Sends non-empty audio chunks only.\n",
    "|\n",
    "WhisperModel\n",
    "|\n",
    "|--> Preprocess audio chunks.\n",
    "|--> Transcribes audio using Whisper model.\n",
    "|--> Saves transcriptions to file.\n",
    "```"
   ]
  },
  {
   "cell_type": "markdown",
   "metadata": {},
   "source": [
    "```python\n",
    "project/\n",
    "│\n",
    "├── ring_buffer.py\n",
    "├── audio_input_handler.py\n",
    "├── whisper_transcriber.py\n",
    "├── main.py\n",
    "│\n",
    "└── requirements.txt\n",
    "\n",
    "```"
   ]
  }
 ],
 "metadata": {
  "language_info": {
   "name": "python"
  }
 },
 "nbformat": 4,
 "nbformat_minor": 2
}
