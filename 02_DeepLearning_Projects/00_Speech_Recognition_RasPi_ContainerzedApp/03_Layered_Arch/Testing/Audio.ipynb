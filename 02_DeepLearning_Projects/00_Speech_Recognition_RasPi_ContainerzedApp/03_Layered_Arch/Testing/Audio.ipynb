{
 "cells": [
  {
   "cell_type": "code",
   "execution_count": null,
   "metadata": {},
   "outputs": [
    {
     "ename": "ModuleNotFoundError",
     "evalue": "No module named 'audio_input_handler'",
     "output_type": "error",
     "traceback": [
      "\u001b[0;31m---------------------------------------------------------------------------\u001b[0m",
      "\u001b[0;31mModuleNotFoundError\u001b[0m                       Traceback (most recent call last)",
      "Cell \u001b[0;32mIn[8], line 13\u001b[0m\n\u001b[1;32m     10\u001b[0m \u001b[38;5;28;01mfrom\u001b[39;00m \u001b[38;5;21;01maudio_capture\u001b[39;00m \u001b[38;5;28;01mimport\u001b[39;00m AudioInputHandler\n\u001b[1;32m     12\u001b[0m \u001b[38;5;28;01mimport\u001b[39;00m \u001b[38;5;21;01mtime\u001b[39;00m\n\u001b[0;32m---> 13\u001b[0m \u001b[38;5;28;01mfrom\u001b[39;00m \u001b[38;5;21;01maudio_input_handler\u001b[39;00m \u001b[38;5;28;01mimport\u001b[39;00m AudioInputHandler\n\u001b[1;32m     14\u001b[0m \u001b[38;5;28;01mfrom\u001b[39;00m \u001b[38;5;21;01mring_buffer\u001b[39;00m \u001b[38;5;28;01mimport\u001b[39;00m RingBuffer\n\u001b[1;32m     16\u001b[0m \u001b[38;5;28;01mdef\u001b[39;00m \u001b[38;5;21mtest_audio_stream\u001b[39m():\n",
      "\u001b[0;31mModuleNotFoundError\u001b[0m: No module named 'audio_input_handler'"
     ]
    }
   ],
   "source": [
    "import scipy.io.wavfile as wav\n",
    "\n",
    "import time\n",
    "import sounddevice as sd\n",
    "import numpy as np\n",
    "\n",
    "import sys\n",
    "sys.path.append(\"/media/ferganey/Data1/03_Projects/Final_Learning_AI-Projects/02_DeepLearning_Projects/00_Speech_Recognition_RasPi_ContainerzedApp/03_Layered_Arch\")\n",
    "\n",
    "from audio_capture import AudioInputHandler\n",
    "\n",
    "\n",
    "\n",
    "def test_audio_stream():\n",
    "    \"\"\"\n",
    "    Tests the AudioInputHandler and verifies if audio data is being buffered properly.\n",
    "    \"\"\"\n",
    "    # Create an instance of the AudioInputHandler\n",
    "    audio_handler = AudioInputHandler()\n",
    "    \n",
    "    # Start the audio stream in a separate thread\n",
    "    try:\n",
    "        print(\"Starting audio stream test...\")\n",
    "        audio_handler.stream_audio()\n",
    "        \n",
    "        # Monitor the ring buffer for a while\n",
    "        start_time = time.time()\n",
    "        while time.time() - start_time < 10:  # Monitor for 10 seconds\n",
    "            buffer_len = len(audio_handler.get_ring_buffer())\n",
    "            print(f\"Ring buffer current length: {buffer_len}\")\n",
    "            time.sleep(0.5)  # Check every 0.5 seconds\n",
    "            \n",
    "    except KeyboardInterrupt:\n",
    "        print(\"Audio streaming test interrupted by user.\")\n",
    "    finally:\n",
    "        print(\"Stopping audio stream test.\")\n",
    "\n",
    "if __name__ == \"__main__\":\n",
    "    test_audio_stream()\n"
   ]
  }
 ],
 "metadata": {
  "kernelspec": {
   "display_name": "Python (spechmdl)",
   "language": "python",
   "name": "spechmdl"
  },
  "language_info": {
   "codemirror_mode": {
    "name": "ipython",
    "version": 3
   },
   "file_extension": ".py",
   "mimetype": "text/x-python",
   "name": "python",
   "nbconvert_exporter": "python",
   "pygments_lexer": "ipython3",
   "version": "3.12.3"
  }
 },
 "nbformat": 4,
 "nbformat_minor": 2
}
