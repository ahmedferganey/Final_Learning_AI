{
 "cells": [
  {
   "cell_type": "code",
   "execution_count": 8,
   "metadata": {},
   "outputs": [
    {
     "name": "stdout",
     "output_type": "stream",
     "text": [
      "Stopping the audio stream...\n"
     ]
    },
    {
     "ename": "AttributeError",
     "evalue": "'AudioInputHandler' object has no attribute 'start_stream'",
     "output_type": "error",
     "traceback": [
      "\u001b[0;31m---------------------------------------------------------------------------\u001b[0m",
      "\u001b[0;31mAttributeError\u001b[0m                            Traceback (most recent call last)",
      "Cell \u001b[0;32mIn[8], line 15\u001b[0m\n\u001b[1;32m     11\u001b[0m audio_handler \u001b[38;5;241m=\u001b[39m AudioInputHandler()\n\u001b[1;32m     13\u001b[0m \u001b[38;5;28;01mtry\u001b[39;00m:\n\u001b[1;32m     14\u001b[0m     \u001b[38;5;66;03m# Start audio streaming\u001b[39;00m\n\u001b[0;32m---> 15\u001b[0m     \u001b[43maudio_handler\u001b[49m\u001b[38;5;241;43m.\u001b[39;49m\u001b[43mstart_stream\u001b[49m()\n\u001b[1;32m     16\u001b[0m \u001b[38;5;28;01mexcept\u001b[39;00m \u001b[38;5;167;01mKeyboardInterrupt\u001b[39;00m:\n\u001b[1;32m     17\u001b[0m     \u001b[38;5;28mprint\u001b[39m(\u001b[38;5;124m\"\u001b[39m\u001b[38;5;124mInterrupted by user.\u001b[39m\u001b[38;5;124m\"\u001b[39m)\n",
      "\u001b[0;31mAttributeError\u001b[0m: 'AudioInputHandler' object has no attribute 'start_stream'"
     ]
    }
   ],
   "source": [
    "import scipy.io.wavfile as wav\n",
    "\n",
    "from threading import Thread\n",
    "import time\n",
    "import sys\n",
    "sys.path.append(\"/media/sda1/03_Projects/Final_Learning_AI-Projects/02_DeepLearning_Projects/00_Speech_Recognition_RasPi_ContainerzedApp/03_Layered_Arch\")\n",
    "from audio_capture import AudioInputHandler\n",
    "\n",
    "\n",
    "if __name__ == \"__main__\":\n",
    "    audio_handler = AudioInputHandler()\n",
    "\n",
    "    try:\n",
    "        # Start audio streaming\n",
    "        audio_handler.start_stream()\n",
    "    except KeyboardInterrupt:\n",
    "        print(\"Interrupted by user.\")\n",
    "    finally:\n",
    "        # Ensure the stream is stopped cleanly\n",
    "        audio_handler.stop_stream()\n",
    "\n"
   ]
  }
 ],
 "metadata": {
  "kernelspec": {
   "display_name": "Python (spechmdl)",
   "language": "python",
   "name": "spechmdl"
  },
  "language_info": {
   "codemirror_mode": {
    "name": "ipython",
    "version": 3
   },
   "file_extension": ".py",
   "mimetype": "text/x-python",
   "name": "python",
   "nbconvert_exporter": "python",
   "pygments_lexer": "ipython3",
   "version": "3.12.3"
  }
 },
 "nbformat": 4,
 "nbformat_minor": 2
}
