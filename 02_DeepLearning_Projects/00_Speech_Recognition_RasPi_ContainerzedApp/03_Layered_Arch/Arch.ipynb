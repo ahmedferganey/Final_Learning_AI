{
 "cells": [
  {
   "cell_type": "markdown",
   "metadata": {},
   "source": [
    "```python\n",
    "AppController\n",
    "|\n",
    "|--> Initializes AudioInputHandler and WhisperModel\n",
    "|--> Starts thread for:\n",
    "|     - Streaming live audio via AudioInputHandler.\n",
    "|     - Processing audio queue for transcription.\n",
    "|\n",
    "AudioInputHandler\n",
    "|\n",
    "|--> Streams audio chunks to a queue.\n",
    "|--> Sends non-empty audio chunks only.\n",
    "|\n",
    "WhisperModel\n",
    "|\n",
    "|--> Preprocess audio chunks.\n",
    "|--> Transcribes audio using Whisper model.\n",
    "|--> Saves transcriptions to file.\n",
    "```"
   ]
  },
  {
   "cell_type": "markdown",
   "metadata": {},
   "source": [
    "```python\n",
    "project/\n",
    "│\n",
    "├── main.py\n",
    "├── app.py\n",
    "├── audio_capture.py\n",
    "├── whisper_model.py\n",
    "└── ring_buffer.py\n",
    "\n",
    "```"
   ]
  }
 ],
 "metadata": {
  "language_info": {
   "name": "python"
  }
 },
 "nbformat": 4,
 "nbformat_minor": 2
}
