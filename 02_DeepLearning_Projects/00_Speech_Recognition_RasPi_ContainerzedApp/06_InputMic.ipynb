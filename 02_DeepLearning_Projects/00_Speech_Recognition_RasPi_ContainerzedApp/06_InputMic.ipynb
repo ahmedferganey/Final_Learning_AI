{
 "cells": [
  {
   "cell_type": "markdown",
   "metadata": {},
   "source": [
    "\n",
    "# **Pipeline Architecture**"
   ]
  },
  {
   "cell_type": "markdown",
   "metadata": {},
   "source": [
    "\n",
    "1. **Audio Input**:\n",
    "   - Capture microphone input using libraries like `pyaudio` or `sounddevice`.\n",
    "\n",
    "2. **Noise Reduction**:\n",
    "   - Apply real-time noise suppression (e.g., WebRTC).\n",
    "\n",
    "3. **Speech Recognition**:\n",
    "   - Use lightweight, low-latency ASR models (e.g., Whisper Tiny, DeepSpeech).\n",
    "\n",
    "4. **Post-Processing**:\n",
    "   - Clean and interpret recognized text using NLP libraries (e.g., `spaCy`).\n",
    "\n",
    "5. **Command Handling**:\n",
    "   - Map text output to vehicle actions.\n"
   ]
  },
  {
   "cell_type": "markdown",
   "metadata": {},
   "source": [
    "# **Capturing Audio**"
   ]
  },
  {
   "cell_type": "code",
   "execution_count": null,
   "metadata": {
    "vscode": {
     "languageId": "plaintext"
    }
   },
   "outputs": [],
   "source": [
    "import sounddevice as sd\n",
    "import numpy as np\n",
    "import wave\n",
    "\n",
    "\n",
    "# Callback function to process audio input\n",
    "def audio_callback(indata, frames, time, status):\n",
    "    \"\"\"Callback function that processes audio data.\"\"\"\n",
    "    if status:\n",
    "        print(f\"Audio stream status: {status}\")\n",
    "    # Log raw audio data (you can process this as needed)\n",
    "    print(\"Audio input received\")\n",
    "\n",
    "\n",
    "# Function to capture and save microphone input\n",
    "def record_audio(filename, duration=5, samplerate=44100):\n",
    "    \"\"\"\n",
    "    Records audio from the microphone for a given duration and saves it to a WAV file.\n",
    "    :param filename: Path of the file to save recorded audio\n",
    "    :param duration: Recording duration in seconds\n",
    "    :param samplerate: Sample rate for recording\n",
    "    \"\"\"\n",
    "    print(\"Recording started...\")\n",
    "    # Record audio stream\n",
    "    audio_data = sd.rec(int(samplerate * duration), samplerate=samplerate, channels=2, dtype=\"int16\")\n",
    "    sd.wait()  # Wait for recording to finish\n",
    "    print(\"Recording finished. Saving file...\")\n",
    "\n",
    "    # Save audio data as WAV\n",
    "    with wave.open(filename, \"wb\") as wf:\n",
    "        wf.setnchannels(2)  # Stereo audio\n",
    "        wf.setsampwidth(2)  # Two bytes per sample\n",
    "        wf.setframerate(samplerate)\n",
    "        wf.writeframes(audio_data.tobytes())\n",
    "    print(f\"Saved audio to {filename}\")\n",
    "\n",
    "\n",
    "# Main function\n",
    "def main():\n",
    "    filename = \"output.wav\"\n",
    "    record_audio(filename)\n",
    "\n",
    "\n",
    "if __name__ == \"__main__\":\n",
    "    main()\n"
   ]
  },
  {
   "cell_type": "markdown",
   "metadata": {},
   "source": []
  }
 ],
 "metadata": {
  "language_info": {
   "name": "python"
  }
 },
 "nbformat": 4,
 "nbformat_minor": 2
}
