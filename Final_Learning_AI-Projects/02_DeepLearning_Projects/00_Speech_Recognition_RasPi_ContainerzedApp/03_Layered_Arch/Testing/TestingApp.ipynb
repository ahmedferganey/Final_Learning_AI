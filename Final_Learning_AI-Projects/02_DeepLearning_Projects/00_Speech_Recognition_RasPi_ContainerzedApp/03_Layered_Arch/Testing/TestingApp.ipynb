{
 "cells": [
  {
   "cell_type": "code",
   "execution_count": null,
   "metadata": {
    "vscode": {
     "languageId": "plaintext"
    }
   },
   "outputs": [],
   "source": [
    "import threading\n",
    "from audio_input import AudioInputHandler\n",
    "from whisper_transcriber import WhisperTranscriber\n",
    "\n",
    "\n",
    "if __name__ == \"__main__\":\n",
    "    audio_handler = AudioInputHandler(silence_threshold=0.01, buffer_duration=60)\n",
    "    transcriber = WhisperTranscriber(audio_handler)\n",
    "\n",
    "    # Run audio streaming in a thread\n",
    "    threading.Thread(target=audio_handler.start_stream, daemon=True).start()\n",
    "\n",
    "    # Start transcription\n",
    "    transcriber.transcribe()\n"
   ]
  }
 ],
 "metadata": {
  "language_info": {
   "name": "python"
  }
 },
 "nbformat": 4,
 "nbformat_minor": 2
}
