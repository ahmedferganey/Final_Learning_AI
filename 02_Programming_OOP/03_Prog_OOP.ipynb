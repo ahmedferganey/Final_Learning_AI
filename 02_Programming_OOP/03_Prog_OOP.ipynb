{
 "cells": [
  {
   "cell_type": "code",
   "execution_count": 4,
   "metadata": {},
   "outputs": [
    {
     "name": "stdout",
     "output_type": "stream",
     "text": [
      "hello world\n",
      "14000000000\n"
     ]
    }
   ],
   "source": [
    "print(\"hello world\")\n",
    "universe_age = 14_000_000_000\n",
    "print(universe_age)"
   ]
  },
  {
   "cell_type": "markdown",
   "metadata": {},
   "source": [
    "# True Division (`/`) vs. Floor Division (`//`)"
   ]
  },
  {
   "cell_type": "code",
   "execution_count": 5,
   "metadata": {},
   "outputs": [
    {
     "data": {
      "text/plain": [
       "1.75"
      ]
     },
     "execution_count": 5,
     "metadata": {},
     "output_type": "execute_result"
    }
   ],
   "source": [
    "7 / 4 # division always returns a floating point number"
   ]
  },
  {
   "cell_type": "code",
   "execution_count": 3,
   "metadata": {},
   "outputs": [
    {
     "data": {
      "text/plain": [
       "2.0"
      ]
     },
     "execution_count": 3,
     "metadata": {},
     "output_type": "execute_result"
    }
   ],
   "source": [
    "4 / 2"
   ]
  },
  {
   "cell_type": "code",
   "execution_count": 6,
   "metadata": {},
   "outputs": [
    {
     "data": {
      "text/plain": [
       "1"
      ]
     },
     "execution_count": 6,
     "metadata": {},
     "output_type": "execute_result"
    }
   ],
   "source": [
    "\"\"\" \n",
    "To do ﬂoor division and get an integer result (discarding any fractional\n",
    "result) you can use the // operator; to calculate the remainder you can use %:\n",
    "\"\"\"\n",
    "7 // 4"
   ]
  },
  {
   "cell_type": "code",
   "execution_count": 7,
   "metadata": {},
   "outputs": [
    {
     "data": {
      "text/plain": [
       "0"
      ]
     },
     "execution_count": 7,
     "metadata": {},
     "output_type": "execute_result"
    }
   ],
   "source": [
    "3 // 5"
   ]
  },
  {
   "cell_type": "code",
   "execution_count": 9,
   "metadata": {},
   "outputs": [
    {
     "data": {
      "text/plain": [
       "3"
      ]
     },
     "execution_count": 9,
     "metadata": {},
     "output_type": "execute_result"
    }
   ],
   "source": [
    "13 // 4"
   ]
  },
  {
   "cell_type": "code",
   "execution_count": 8,
   "metadata": {},
   "outputs": [
    {
     "data": {
      "text/plain": [
       "-4"
      ]
     },
     "execution_count": 8,
     "metadata": {},
     "output_type": "execute_result"
    }
   ],
   "source": [
    "-13 // 4"
   ]
  },
  {
   "cell_type": "code",
   "execution_count": 10,
   "metadata": {},
   "outputs": [
    {
     "data": {
      "text/plain": [
       "3.0"
      ]
     },
     "execution_count": 10,
     "metadata": {},
     "output_type": "execute_result"
    }
   ],
   "source": [
    "1.0 + 2"
   ]
  },
  {
   "cell_type": "code",
   "execution_count": 12,
   "metadata": {},
   "outputs": [
    {
     "data": {
      "text/plain": [
       "2"
      ]
     },
     "execution_count": 12,
     "metadata": {},
     "output_type": "execute_result"
    }
   ],
   "source": [
    "17 % 5"
   ]
  },
  {
   "cell_type": "code",
   "execution_count": 13,
   "metadata": {},
   "outputs": [
    {
     "data": {
      "text/plain": [
       "0"
      ]
     },
     "execution_count": 13,
     "metadata": {},
     "output_type": "execute_result"
    }
   ],
   "source": [
    "4 % 2"
   ]
  },
  {
   "cell_type": "code",
   "execution_count": 14,
   "metadata": {},
   "outputs": [
    {
     "data": {
      "text/plain": [
       "0.5"
      ]
     },
     "execution_count": 14,
     "metadata": {},
     "output_type": "execute_result"
    }
   ],
   "source": [
    "7.5 % 3.5"
   ]
  },
  {
   "cell_type": "code",
   "execution_count": 4,
   "metadata": {},
   "outputs": [
    {
     "data": {
      "text/plain": [
       "128"
      ]
     },
     "execution_count": 4,
     "metadata": {},
     "output_type": "execute_result"
    }
   ],
   "source": [
    "2 ** 7"
   ]
  },
  {
   "cell_type": "markdown",
   "metadata": {},
   "source": [
    "# strings"
   ]
  },
  {
   "cell_type": "code",
   "execution_count": 15,
   "metadata": {},
   "outputs": [
    {
     "data": {
      "text/plain": [
       "' hello '"
      ]
     },
     "execution_count": 15,
     "metadata": {},
     "output_type": "execute_result"
    }
   ],
   "source": [
    "\" hello \""
   ]
  },
  {
   "cell_type": "code",
   "execution_count": 16,
   "metadata": {},
   "outputs": [
    {
     "data": {
      "text/plain": [
       "' hello '"
      ]
     },
     "execution_count": 16,
     "metadata": {},
     "output_type": "execute_result"
    }
   ],
   "source": [
    "' hello '"
   ]
  },
  {
   "cell_type": "code",
   "execution_count": 17,
   "metadata": {},
   "outputs": [
    {
     "data": {
      "text/plain": [
       "'hello \"aria\"'"
      ]
     },
     "execution_count": 17,
     "metadata": {},
     "output_type": "execute_result"
    }
   ],
   "source": [
    "'hello \"aria\"'"
   ]
  },
  {
   "cell_type": "code",
   "execution_count": 18,
   "metadata": {},
   "outputs": [
    {
     "data": {
      "text/plain": [
       "\"hello 'aria'\""
      ]
     },
     "execution_count": 18,
     "metadata": {},
     "output_type": "execute_result"
    }
   ],
   "source": [
    "\"hello 'aria'\""
   ]
  },
  {
   "cell_type": "code",
   "execution_count": 20,
   "metadata": {},
   "outputs": [],
   "source": [
    "# \"One of Python's strengths is its \"diverse\" and supportive community.\""
   ]
  },
  {
   "cell_type": "code",
   "execution_count": 2,
   "metadata": {},
   "outputs": [
    {
     "data": {
      "text/plain": [
       "' tripple quatoed\\n    ahed\\n    \\n'"
      ]
     },
     "execution_count": 2,
     "metadata": {},
     "output_type": "execute_result"
    }
   ],
   "source": [
    "triple = \"\"\" tripple quatoed\n",
    "    ahed\n",
    "    \n",
    "\"\"\"\n",
    "triple"
   ]
  },
  {
   "cell_type": "code",
   "execution_count": 22,
   "metadata": {},
   "outputs": [
    {
     "name": "stdout",
     "output_type": "stream",
     "text": [
      "\"Isn't,\" they said.\n"
     ]
    }
   ],
   "source": [
    "print('\"Isn\\'t,\" they said.')"
   ]
  },
  {
   "cell_type": "markdown",
   "metadata": {},
   "source": [
    "## Escape characters"
   ]
  },
  {
   "cell_type": "code",
   "execution_count": 1,
   "metadata": {},
   "outputs": [
    {
     "data": {
      "text/plain": [
       "\" i told ali, 'python'  \""
      ]
     },
     "execution_count": 1,
     "metadata": {},
     "output_type": "execute_result"
    }
   ],
   "source": [
    "' i told ali, \\'python\\'  '"
   ]
  },
  {
   "cell_type": "code",
   "execution_count": 6,
   "metadata": {},
   "outputs": [],
   "source": [
    "# If a variable is not “deﬁned” (assigned a value), trying to use it will give you an error:\n",
    "\n",
    "# y"
   ]
  },
  {
   "cell_type": "code",
   "execution_count": 19,
   "metadata": {},
   "outputs": [
    {
     "data": {
      "text/plain": [
       "6"
      ]
     },
     "execution_count": 19,
     "metadata": {},
     "output_type": "execute_result"
    }
   ],
   "source": [
    "y = 6\n",
    "y"
   ]
  },
  {
   "cell_type": "code",
   "execution_count": 20,
   "metadata": {},
   "outputs": [
    {
     "data": {
      "text/plain": [
       "10.12889"
      ]
     },
     "execution_count": 20,
     "metadata": {},
     "output_type": "execute_result"
    }
   ],
   "source": [
    "# n interactive mode, the last printed expression is assigned to the variable _.\n",
    "u = 4.12889 + _\n",
    "u"
   ]
  },
  {
   "cell_type": "code",
   "execution_count": 21,
   "metadata": {},
   "outputs": [
    {
     "data": {
      "text/plain": [
       "10.13"
      ]
     },
     "execution_count": 21,
     "metadata": {},
     "output_type": "execute_result"
    }
   ],
   "source": [
    "round(_, 2)"
   ]
  },
  {
   "cell_type": "code",
   "execution_count": 23,
   "metadata": {},
   "outputs": [
    {
     "name": "stdout",
     "output_type": "stream",
     "text": [
      "C:\\some\n",
      "ame\n",
      "C:\\some\\name\n"
     ]
    }
   ],
   "source": [
    "# If you don’t want characters prefaced by \\ to be interpreted as special characters, you can use raw strings\n",
    "#by adding an r before the ﬁrst quote:\n",
    "\n",
    "print ('C:\\some\\name')\n",
    "print (r'C:\\some\\name')\n"
   ]
  },
  {
   "cell_type": "code",
   "execution_count": 24,
   "metadata": {},
   "outputs": [
    {
     "name": "stdout",
     "output_type": "stream",
     "text": [
      "Usage: thingy [OPTIONS]\n",
      "-h\n",
      "-H hostname\n",
      "\n"
     ]
    }
   ],
   "source": [
    "# produces the following output (note that the initial newline is not included):\n",
    "print(\"\"\"\\\n",
    "Usage: thingy [OPTIONS]\n",
    "-h\n",
    "-H hostname\n",
    "\"\"\")"
   ]
  },
  {
   "cell_type": "code",
   "execution_count": 25,
   "metadata": {},
   "outputs": [
    {
     "name": "stdout",
     "output_type": "stream",
     "text": [
      "\n",
      "Usage: thingy [OPTIONS]\n",
      "-h\n",
      "-H hostname\n",
      "\n"
     ]
    }
   ],
   "source": [
    "print(\"\"\"\n",
    "Usage: thingy [OPTIONS]\n",
    "-h\n",
    "-H hostname\n",
    "\"\"\")"
   ]
  },
  {
   "cell_type": "code",
   "execution_count": 29,
   "metadata": {},
   "outputs": [
    {
     "name": "stdout",
     "output_type": "stream",
     "text": [
      "alialiali\n",
      "ali     asd\n"
     ]
    }
   ],
   "source": [
    "# Strings can be concatenated (glued together) with the + operator, and repeated with *:\n",
    "\n",
    "print(3 * 'ali')\n",
    "print('ali' + '     asd')"
   ]
  },
  {
   "cell_type": "code",
   "execution_count": 32,
   "metadata": {},
   "outputs": [
    {
     "data": {
      "text/plain": [
       "'python'"
      ]
     },
     "execution_count": 32,
     "metadata": {},
     "output_type": "execute_result"
    }
   ],
   "source": [
    "# This feature is particularly useful when you want to break long strings:\n",
    "'py'    'thon'"
   ]
  },
  {
   "cell_type": "code",
   "execution_count": 33,
   "metadata": {},
   "outputs": [
    {
     "data": {
      "text/plain": [
       "'Put several strings within parentheses to have them joined together.'"
      ]
     },
     "execution_count": 33,
     "metadata": {},
     "output_type": "execute_result"
    }
   ],
   "source": [
    "text = ('Put several strings within parentheses '\n",
    "        'to have them joined together.')\n",
    "text"
   ]
  },
  {
   "cell_type": "code",
   "execution_count": 37,
   "metadata": {},
   "outputs": [
    {
     "data": {
      "text/plain": [
       "'aliasd'"
      ]
     },
     "execution_count": 37,
     "metadata": {},
     "output_type": "execute_result"
    }
   ],
   "source": [
    "# can't concatenate a variable and a string literal\n",
    "\n",
    "w = 'ali'\n",
    "\n",
    "#w 'asd'\n",
    "\n",
    "w + 'asd'"
   ]
  },
  {
   "cell_type": "code",
   "execution_count": 48,
   "metadata": {},
   "outputs": [
    {
     "name": "stdout",
     "output_type": "stream",
     "text": [
      "P\n",
      "n\n",
      "n\n",
      "P\n",
      "Py\n",
      "tho\n",
      "Python\n",
      "on\n"
     ]
    },
    {
     "data": {
      "text/plain": [
       "'Jython'"
      ]
     },
     "execution_count": 48,
     "metadata": {},
     "output_type": "execute_result"
    }
   ],
   "source": [
    "word = 'Python'\n",
    "\n",
    "print(word[0])\n",
    "print(word[5])\n",
    "print(word[-1])\n",
    "print(word[-6])\n",
    "print(word[0:2])\n",
    "print(word[2:5])\n",
    "print(word[:2] + word[2:])\n",
    "print(word[4:42])\n",
    "word[42:]\n",
    "'J' + word[1:]\n",
    "\n",
    "# word[0] = 'J' # Python strings cannot be changed — they are immutable.\n",
    "# word[6]   # IndexError: string index out of range\""
   ]
  },
  {
   "cell_type": "markdown",
   "metadata": {},
   "source": [
    "# Built-in Functions"
   ]
  },
  {
   "cell_type": "code",
   "execution_count": 49,
   "metadata": {},
   "outputs": [
    {
     "data": {
      "text/plain": [
       "6"
      ]
     },
     "execution_count": 49,
     "metadata": {},
     "output_type": "execute_result"
    }
   ],
   "source": [
    "len(word)"
   ]
  },
  {
   "cell_type": "code",
   "execution_count": 81,
   "metadata": {},
   "outputs": [],
   "source": [
    "# any and all\n",
    "# Used to check dataset consistency or whether certain conditions are met across all data points."
   ]
  },
  {
   "cell_type": "code",
   "execution_count": 50,
   "metadata": {},
   "outputs": [],
   "source": [
    "# Return True if all elements of the iterable are true (or if the iterable is empty). Equivalent to:\n",
    "\n",
    "def all(iterable):\n",
    "    for element in iterable:\n",
    "        if not element:\n",
    "            return False\n",
    "    return True"
   ]
  },
  {
   "cell_type": "code",
   "execution_count": 51,
   "metadata": {},
   "outputs": [
    {
     "data": {
      "text/plain": [
       "True"
      ]
     },
     "execution_count": 51,
     "metadata": {},
     "output_type": "execute_result"
    }
   ],
   "source": [
    "all(word)"
   ]
  },
  {
   "cell_type": "code",
   "execution_count": 59,
   "metadata": {},
   "outputs": [
    {
     "data": {
      "text/plain": [
       "True"
      ]
     },
     "execution_count": 59,
     "metadata": {},
     "output_type": "execute_result"
    }
   ],
   "source": [
    "letter = ''\n",
    "all(letter)\n"
   ]
  },
  {
   "cell_type": "code",
   "execution_count": 56,
   "metadata": {},
   "outputs": [
    {
     "data": {
      "text/plain": [
       "False"
      ]
     },
     "execution_count": 56,
     "metadata": {},
     "output_type": "execute_result"
    }
   ],
   "source": [
    "all(['', 'Hello', 'World'])  # Returns False because '' is an empty string\n"
   ]
  },
  {
   "cell_type": "code",
   "execution_count": 55,
   "metadata": {},
   "outputs": [
    {
     "data": {
      "text/plain": [
       "False"
      ]
     },
     "execution_count": 55,
     "metadata": {},
     "output_type": "execute_result"
    }
   ],
   "source": [
    "all([True, False, True])  # Returns False because False is present\n"
   ]
  },
  {
   "cell_type": "code",
   "execution_count": 62,
   "metadata": {},
   "outputs": [],
   "source": [
    "# Return True if any element of the iterable is true. If the iterable is empty, return False. Equivalent to:\n",
    "\n",
    "def any(iterable):\n",
    "    for element in iterable:\n",
    "        if element:\n",
    "            return True\n",
    "    return False"
   ]
  },
  {
   "cell_type": "code",
   "execution_count": 63,
   "metadata": {},
   "outputs": [
    {
     "data": {
      "text/plain": [
       "True"
      ]
     },
     "execution_count": 63,
     "metadata": {},
     "output_type": "execute_result"
    }
   ],
   "source": [
    "any([True, False, True])"
   ]
  },
  {
   "cell_type": "code",
   "execution_count": 64,
   "metadata": {},
   "outputs": [
    {
     "data": {
      "text/plain": [
       "False"
      ]
     },
     "execution_count": 64,
     "metadata": {},
     "output_type": "execute_result"
    }
   ],
   "source": [
    "any([False, False,False ])"
   ]
  },
  {
   "cell_type": "code",
   "execution_count": 82,
   "metadata": {},
   "outputs": [
    {
     "data": {
      "text/plain": [
       "True"
      ]
     },
     "execution_count": 82,
     "metadata": {},
     "output_type": "execute_result"
    }
   ],
   "source": [
    "predictions = [True, True, False]\n",
    "has_false = any(predictions)  # Output: True\n",
    "all_true = all(predictions)  # Output: False\n",
    "has_false"
   ]
  },
  {
   "cell_type": "code",
   "execution_count": 61,
   "metadata": {},
   "outputs": [
    {
     "data": {
      "text/plain": [
       "1"
      ]
     },
     "execution_count": 61,
     "metadata": {},
     "output_type": "execute_result"
    }
   ],
   "source": [
    "values = [1, 2, 3]\n",
    "min_value = min(values)  # Output: 1\n",
    "max_value = max(values)  # Output: 3\n",
    "min_value"
   ]
  },
  {
   "cell_type": "code",
   "execution_count": 65,
   "metadata": {},
   "outputs": [
    {
     "name": "stdout",
     "output_type": "stream",
     "text": [
      "4\n"
     ]
    }
   ],
   "source": [
    "data = [1, 2, 3, 4]\n",
    "print(len(data))  # Output: 4\n"
   ]
  },
  {
   "cell_type": "code",
   "execution_count": 74,
   "metadata": {},
   "outputs": [
    {
     "data": {
      "text/plain": [
       "0.8999999999999999"
      ]
     },
     "execution_count": 74,
     "metadata": {},
     "output_type": "execute_result"
    }
   ],
   "source": [
    "weights = [0.1, 0.5, 0.3]\n",
    "total_weight = (sum(weights))  # Output: 0.9\n",
    "total_weight"
   ]
  },
  {
   "cell_type": "code",
   "execution_count": 76,
   "metadata": {},
   "outputs": [
    {
     "data": {
      "text/plain": [
       "0.9"
      ]
     },
     "execution_count": 76,
     "metadata": {},
     "output_type": "execute_result"
    }
   ],
   "source": [
    "total_weight = round(sum(weights), 4)  # Output: 0.9\n",
    "total_weight"
   ]
  },
  {
   "cell_type": "code",
   "execution_count": 77,
   "metadata": {},
   "outputs": [
    {
     "data": {
      "text/plain": [
       "77"
      ]
     },
     "execution_count": 77,
     "metadata": {},
     "output_type": "execute_result"
    }
   ],
   "source": [
    "ord('M')"
   ]
  },
  {
   "cell_type": "code",
   "execution_count": 78,
   "metadata": {},
   "outputs": [
    {
     "data": {
      "text/plain": [
       "'E'"
      ]
     },
     "execution_count": 78,
     "metadata": {},
     "output_type": "execute_result"
    }
   ],
   "source": [
    "chr(69)"
   ]
  },
  {
   "cell_type": "code",
   "execution_count": 80,
   "metadata": {},
   "outputs": [
    {
     "data": {
      "text/plain": [
       "[1, 4, 9]"
      ]
     },
     "execution_count": 80,
     "metadata": {},
     "output_type": "execute_result"
    }
   ],
   "source": [
    "def square(x):\n",
    "    return  x ** 2\n",
    "\n",
    "numbers = [1, 2, 3]\n",
    "\n",
    "# Commonly used in preprocessing steps, applying transformations like scaling or normalization across datasets.\n",
    "squared_numbers = list(map(square, numbers))\n",
    "\n",
    "squared_numbers"
   ]
  },
  {
   "cell_type": "code",
   "execution_count": 83,
   "metadata": {},
   "outputs": [
    {
     "data": {
      "text/plain": [
       "45"
      ]
     },
     "execution_count": 83,
     "metadata": {},
     "output_type": "execute_result"
    }
   ],
   "source": [
    "abs(-45)"
   ]
  },
  {
   "cell_type": "code",
   "execution_count": 86,
   "metadata": {},
   "outputs": [
    {
     "data": {
      "text/plain": [
       "[1, 2]"
      ]
     },
     "execution_count": 86,
     "metadata": {},
     "output_type": "execute_result"
    }
   ],
   "source": [
    "# filter : To filter elements from an iterable that satisfy a certain condition.\n",
    "#  Used for cleaning datasets by removing invalid or irrelevant data points.\n",
    "\n",
    "def is_positive(x):\n",
    "    return x > 0\n",
    "data = [-1, 0, 1, 2, -3]\n",
    "positive_data = list(filter(is_positive, data))  # Output: [1, 2]\n",
    "positive_data"
   ]
  },
  {
   "cell_type": "code",
   "execution_count": 87,
   "metadata": {},
   "outputs": [
    {
     "data": {
      "text/plain": [
       "[False, False, True, True, False]"
      ]
     },
     "execution_count": 87,
     "metadata": {},
     "output_type": "execute_result"
    }
   ],
   "source": [
    "positive_data = list(map(is_positive, data))  # Output: [1, 2]\n",
    "positive_data\n"
   ]
  },
  {
   "cell_type": "code",
   "execution_count": 89,
   "metadata": {},
   "outputs": [
    {
     "data": {
      "text/plain": [
       "[(1, 'a'), (2, 'b'), (3, 'c')]"
      ]
     },
     "execution_count": 89,
     "metadata": {},
     "output_type": "execute_result"
    }
   ],
   "source": [
    "# zip()\n",
    "# Usage: To combine elements from multiple iterables.\n",
    "# Useful for combining features and labels or merging two different datasets.\n",
    "\n",
    "features = [1, 2, 3]\n",
    "labels = ['a', 'b', 'c']\n",
    "combined = list(zip(features, labels))  # Output: [(1, 'a'), (2, 'b'), (3, 'c')]\n",
    "combined\n"
   ]
  },
  {
   "cell_type": "code",
   "execution_count": 91,
   "metadata": {},
   "outputs": [
    {
     "data": {
      "text/plain": [
       "[0.3, 0.5, 0.9]"
      ]
     },
     "execution_count": 91,
     "metadata": {},
     "output_type": "execute_result"
    }
   ],
   "source": [
    "probabilities = [0.5, 0.9, 0.3]\n",
    "sorted_probs = sorted(probabilities)  # Output: [0.3, 0.5, 0.9]\n",
    "sorted_probs"
   ]
  },
  {
   "cell_type": "code",
   "execution_count": 92,
   "metadata": {},
   "outputs": [
    {
     "name": "stdout",
     "output_type": "stream",
     "text": [
      "0 10\n",
      "1 20\n",
      "2 30\n"
     ]
    }
   ],
   "source": [
    "for index, value in enumerate([10, 20, 30]):\n",
    "    print(index, value)     \n"
   ]
  },
  {
   "cell_type": "code",
   "execution_count": 95,
   "metadata": {},
   "outputs": [
    {
     "name": "stdout",
     "output_type": "stream",
     "text": [
      "Epoch 1\n",
      "Epoch {epoch + 1} \n",
      "\n",
      "Epoch 2\n",
      "Epoch {epoch + 1} \n",
      "\n",
      "Epoch 3\n",
      "Epoch {epoch + 1} \n",
      "\n",
      "Epoch 4\n",
      "Epoch {epoch + 1} \n",
      "\n",
      "Epoch 5\n",
      "Epoch {epoch + 1} \n",
      "\n",
      "Epoch 6\n",
      "Epoch {epoch + 1} \n",
      "\n",
      "Epoch 7\n",
      "Epoch {epoch + 1} \n",
      "\n",
      "Epoch 8\n",
      "Epoch {epoch + 1} \n",
      "\n",
      "Epoch 9\n",
      "Epoch {epoch + 1} \n",
      "\n",
      "Epoch 10\n",
      "Epoch {epoch + 1} \n",
      "\n"
     ]
    }
   ],
   "source": [
    "# range()\n",
    "# Usage: To generate a sequence of numbers.\n",
    "# Commonly used in loops for iterating through datasets or epochs during training.\n",
    "\n",
    "for epoch in range(10):\n",
    "    print(f\"Epoch {epoch + 1}\")\n",
    "    print(\"Epoch {epoch + 1} \\n\")\n"
   ]
  },
  {
   "cell_type": "code",
   "execution_count": 96,
   "metadata": {},
   "outputs": [],
   "source": [
    "### Function `input()` Always Returns a String\n",
    "name = input(\"What's your name? \")"
   ]
  },
  {
   "cell_type": "code",
   "execution_count": 97,
   "metadata": {},
   "outputs": [
    {
     "data": {
      "text/plain": [
       "'ali'"
      ]
     },
     "execution_count": 97,
     "metadata": {},
     "output_type": "execute_result"
    }
   ],
   "source": [
    "name"
   ]
  },
  {
   "cell_type": "code",
   "execution_count": 98,
   "metadata": {},
   "outputs": [
    {
     "data": {
      "text/plain": [
       "'12'"
      ]
     },
     "execution_count": 98,
     "metadata": {},
     "output_type": "execute_result"
    }
   ],
   "source": [
    "value1 = input('Enter first number: ')\n",
    "value2 = input('Enter second number: ')\n",
    "\n",
    "value1 + value2"
   ]
  },
  {
   "cell_type": "code",
   "execution_count": 102,
   "metadata": {},
   "outputs": [
    {
     "data": {
      "text/plain": [
       "26"
      ]
     },
     "execution_count": 102,
     "metadata": {},
     "output_type": "execute_result"
    }
   ],
   "source": [
    "name = input('What is your name? ')\n",
    "yob = input('And what is your year of birth?')\n",
    "\n",
    "#yob = int(input('And what is your year of birth?'))\n",
    "\n",
    "\n",
    "#age = 2021 - yob # error\n",
    "\n",
    "age = 2024 - int(yob)\n",
    "\n",
    "age"
   ]
  },
  {
   "cell_type": "code",
   "execution_count": 103,
   "metadata": {},
   "outputs": [
    {
     "data": {
      "text/plain": [
       "10"
      ]
     },
     "execution_count": 103,
     "metadata": {},
     "output_type": "execute_result"
    }
   ],
   "source": [
    "int(10.5)"
   ]
  },
  {
   "cell_type": "code",
   "execution_count": 104,
   "metadata": {},
   "outputs": [
    {
     "data": {
      "text/plain": [
       "int"
      ]
     },
     "execution_count": 104,
     "metadata": {},
     "output_type": "execute_result"
    }
   ],
   "source": [
    "type(7)"
   ]
  },
  {
   "cell_type": "code",
   "execution_count": 105,
   "metadata": {},
   "outputs": [
    {
     "data": {
      "text/plain": [
       "str"
      ]
     },
     "execution_count": 105,
     "metadata": {},
     "output_type": "execute_result"
    }
   ],
   "source": [
    "type('python')"
   ]
  },
  {
   "cell_type": "code",
   "execution_count": 106,
   "metadata": {},
   "outputs": [
    {
     "data": {
      "text/plain": [
       "str"
      ]
     },
     "execution_count": 106,
     "metadata": {},
     "output_type": "execute_result"
    }
   ],
   "source": [
    "y = 'python'\n",
    "type(y)"
   ]
  },
  {
   "cell_type": "code",
   "execution_count": 107,
   "metadata": {},
   "outputs": [
    {
     "data": {
      "text/plain": [
       "str"
      ]
     },
     "execution_count": 107,
     "metadata": {},
     "output_type": "execute_result"
    }
   ],
   "source": [
    "type(\"\"\"python\"\"\")"
   ]
  },
  {
   "cell_type": "code",
   "execution_count": 108,
   "metadata": {},
   "outputs": [],
   "source": [
    "some_text = 'This is a text'"
   ]
  },
  {
   "cell_type": "code",
   "execution_count": 109,
   "metadata": {},
   "outputs": [
    {
     "data": {
      "text/plain": [
       "str"
      ]
     },
     "execution_count": 109,
     "metadata": {},
     "output_type": "execute_result"
    }
   ],
   "source": [
    "type(some_text)"
   ]
  },
  {
   "cell_type": "code",
   "execution_count": 110,
   "metadata": {},
   "outputs": [
    {
     "data": {
      "text/plain": [
       "float"
      ]
     },
     "execution_count": 110,
     "metadata": {},
     "output_type": "execute_result"
    }
   ],
   "source": [
    "y  = 5.1\n",
    "\n",
    "type(y)"
   ]
  },
  {
   "cell_type": "code",
   "execution_count": 111,
   "metadata": {},
   "outputs": [
    {
     "data": {
      "text/plain": [
       "int"
      ]
     },
     "execution_count": 111,
     "metadata": {},
     "output_type": "execute_result"
    }
   ],
   "source": [
    "y = 29\n",
    "type(y)"
   ]
  },
  {
   "cell_type": "markdown",
   "metadata": {},
   "source": [
    "# Difference Between Function and Method\n",
    "\n",
    "The key difference between a **function** and a **method** in Python lies in how they are associated with objects and classes. Here’s a breakdown of the differences:\n",
    "\n",
    "## 1. Function:\n",
    "- **Definition**: A function is a standalone block of code that performs a specific task. It is not tied to any object or class and can be used independently.\n",
    "- **How it’s called**: Functions are called using their name, and they can accept parameters and return values.\n",
    "- **Example**:\n",
    "    ```python\n",
    "    def my_function(x):\n",
    "        return x ** 2\n",
    "    \n",
    "    result = my_function(5)  # Output: 25\n",
    "    ```\n",
    "\n",
    "## 2. Method:\n",
    "- **Definition**: A method is a function that is associated with an object or a class. It is defined inside a class and operates on instances (objects) of that class. In other words, methods are functions that belong to an object.\n",
    "- **How it’s called**: Methods are called using the dot (`.`) notation, on an object. They can modify the object’s internal state or use the object’s attributes.\n",
    "- **Types**: \n",
    "    - **Instance Methods**: Operate on instances of the class.\n",
    "    - **Class Methods**: Operate on the class itself (defined with `@classmethod`).\n",
    "    - **Static Methods**: Independent of class/instance state (defined with `@staticmethod`).\n",
    "- **Example**:\n",
    "    ```python\n",
    "    class MyClass:\n",
    "        def my_method(self, x):\n",
    "            return x ** 2\n",
    "    \n",
    "    obj = MyClass()\n",
    "    result = obj.my_method(5)  # Output: 25\n",
    "    ```\n",
    "\n",
    "## Key Differences:\n",
    "| Aspect                  | Function                                 | Method                                      |\n",
    "|-------------------------|------------------------------------------|---------------------------------------------|\n",
    "| **Association**          | Not tied to any class or object          | Belongs to an object or class               |\n",
    "| **How it’s called**      | Directly by its name                     | Called on an object (e.g., `object.method()`)|\n",
    "| **Defined in**           | Global scope or within another function  | Inside a class                              |\n",
    "| **Example**              | `my_function()`                          | `object.my_method()`                        |\n",
    "| **`self` Parameter**     | Not required                             | Requires `self` (or `cls` for class methods) to access object attributes|\n",
    "\n",
    "In summary, a function is a more general construct used in any part of the code, while a method is specifically associated with an object or class in object-oriented programming.\n"
   ]
  },
  {
   "cell_type": "code",
   "execution_count": 114,
   "metadata": {},
   "outputs": [
    {
     "data": {
      "text/plain": [
       "25"
      ]
     },
     "execution_count": 114,
     "metadata": {},
     "output_type": "execute_result"
    }
   ],
   "source": [
    "def my_function(x):\n",
    "    return x ** 2\n",
    "\n",
    "result = my_function(5)  # Output: 25\n",
    "result"
   ]
  },
  {
   "cell_type": "code",
   "execution_count": 115,
   "metadata": {},
   "outputs": [
    {
     "data": {
      "text/plain": [
       "25"
      ]
     },
     "execution_count": 115,
     "metadata": {},
     "output_type": "execute_result"
    }
   ],
   "source": [
    "class MyClass:\n",
    "    def my_method(self, x):\n",
    "        return x ** 2\n",
    "\n",
    "obj = MyClass()\n",
    "result = obj.my_method(5)  # Output: 25\n",
    "result"
   ]
  },
  {
   "cell_type": "markdown",
   "metadata": {},
   "source": [
    "# String and Numbers as Objects"
   ]
  },
  {
   "cell_type": "code",
   "execution_count": 117,
   "metadata": {},
   "outputs": [
    {
     "name": "stdout",
     "output_type": "stream",
     "text": [
      "Ada Lovelace\n",
      "ADA LOVELACE\n",
      "ada lovelace\n"
     ]
    }
   ],
   "source": [
    "name = \"ada lovelace\"\n",
    "print(name.title()) # title() is called a method\n",
    "print(name.upper())\n",
    "print(name.lower())"
   ]
  },
  {
   "cell_type": "code",
   "execution_count": 121,
   "metadata": {},
   "outputs": [
    {
     "name": "stdout",
     "output_type": "stream",
     "text": [
      "Ada Lovelace\n",
      "Hello, Ada Lovelace!\n"
     ]
    }
   ],
   "source": [
    "name = \"ada lovelace\"\n",
    "print(name.title())\n",
    "first_name = \"ada\"\n",
    "last_name = \"lovelace\"\n",
    "full_name = first_name + \" \" + last_name\n",
    "print(\"Hello, \" + full_name.title() + \"!\")"
   ]
  },
  {
   "cell_type": "code",
   "execution_count": 122,
   "metadata": {},
   "outputs": [
    {
     "data": {
      "text/plain": [
       "'python'"
      ]
     },
     "execution_count": 122,
     "metadata": {},
     "output_type": "execute_result"
    }
   ],
   "source": [
    "favorite_language = 'python '\n",
    "favorite_language = favorite_language.rstrip()\n",
    "favorite_language\n",
    "\n",
    "\"\"\"  \n",
    "method in Python is used to remove trailing \n",
    "(right-side) whitespace or specified characters \n",
    "from a string. It does not modify the original \n",
    "string but returns a new string with the trailing \n",
    "characters removed.\n",
    "\"\"\""
   ]
  },
  {
   "cell_type": "code",
   "execution_count": 123,
   "metadata": {},
   "outputs": [
    {
     "name": "stdout",
     "output_type": "stream",
     "text": [
      "Hello, World!\n"
     ]
    }
   ],
   "source": [
    "text = \"   Hello, World!   \"\n",
    "result = text.strip()\n",
    "print(result)  # Output: \"Hello, World!\"\n"
   ]
  },
  {
   "cell_type": "code",
   "execution_count": 124,
   "metadata": {},
   "outputs": [
    {
     "name": "stdout",
     "output_type": "stream",
     "text": [
      "Hello\n"
     ]
    }
   ],
   "source": [
    "text = \"!!Hello!!\"\n",
    "result = text.strip(\"!\")\n",
    "print(result)  # Output: \"Hello\"\n"
   ]
  },
  {
   "cell_type": "code",
   "execution_count": 128,
   "metadata": {},
   "outputs": [
    {
     "name": "stdout",
     "output_type": "stream",
     "text": [
      "!  Hello, World!   !  \n"
     ]
    }
   ],
   "source": [
    "text = \"  !  Hello, World!   !  \"\n",
    "result = text.lstrip()\n",
    "print(result)  # Output: \"Hello, World!   \"\n"
   ]
  },
  {
   "cell_type": "code",
   "execution_count": 130,
   "metadata": {},
   "outputs": [
    {
     "data": {
      "text/plain": [
       "7"
      ]
     },
     "execution_count": 130,
     "metadata": {},
     "output_type": "execute_result"
    }
   ],
   "source": [
    "y = 123\n",
    "\n",
    "y.bit_length()"
   ]
  },
  {
   "cell_type": "code",
   "execution_count": 131,
   "metadata": {},
   "outputs": [
    {
     "data": {
      "text/plain": [
       "'0b1111011'"
      ]
     },
     "execution_count": 131,
     "metadata": {},
     "output_type": "execute_result"
    }
   ],
   "source": [
    "bin(y)"
   ]
  },
  {
   "cell_type": "code",
   "execution_count": 133,
   "metadata": {},
   "outputs": [
    {
     "data": {
      "text/plain": [
       "(6993527271352959, 562949953421312)"
      ]
     },
     "execution_count": 133,
     "metadata": {},
     "output_type": "execute_result"
    }
   ],
   "source": [
    "#y.as_integer_ratio()\n",
    "\n",
    "\"\"\"   \n",
    "\n",
    "The as_integer_ratio() method in Python is used to \n",
    "express a floating-point number as a fraction of two \n",
    "integers: the numerator and denominator.\n",
    " This method is available for float objects and \n",
    " helps to represent the number precisely as \n",
    " an integer ratio.\n",
    "\n",
    "\"\"\"\n",
    "\n",
    "u = 12.423\n",
    "u.as_integer_ratio()\n"
   ]
  },
  {
   "cell_type": "code",
   "execution_count": 134,
   "metadata": {},
   "outputs": [
    {
     "data": {
      "text/plain": [
       "123.0"
      ]
     },
     "execution_count": 134,
     "metadata": {},
     "output_type": "execute_result"
    }
   ],
   "source": [
    "float(y)"
   ]
  },
  {
   "cell_type": "code",
   "execution_count": 135,
   "metadata": {},
   "outputs": [
    {
     "name": "stdout",
     "output_type": "stream",
     "text": [
      "1700.0\n"
     ]
    },
    {
     "data": {
      "text/plain": [
       "11"
      ]
     },
     "execution_count": 135,
     "metadata": {},
     "output_type": "execute_result"
    }
   ],
   "source": [
    "z = 1.7e3\n",
    "print(z) \n",
    "int(z).bit_length()"
   ]
  },
  {
   "cell_type": "code",
   "execution_count": 136,
   "metadata": {},
   "outputs": [
    {
     "data": {
      "text/plain": [
       "'0b11010100100'"
      ]
     },
     "execution_count": 136,
     "metadata": {},
     "output_type": "execute_result"
    }
   ],
   "source": [
    "bin(int(z))"
   ]
  },
  {
   "cell_type": "code",
   "execution_count": 138,
   "metadata": {},
   "outputs": [
    {
     "name": "stdout",
     "output_type": "stream",
     "text": [
      "0x1.91eb851eb851fp+1\n"
     ]
    }
   ],
   "source": [
    "# bin(float(z)) # error \n",
    "\n",
    "num = 3.14\n",
    "hex_rep = num.hex()\n",
    "print(hex_rep)  # Output: '0x1.91eb851eb851fp+1'\n"
   ]
  },
  {
   "cell_type": "code",
   "execution_count": 139,
   "metadata": {},
   "outputs": [
    {
     "data": {
      "text/plain": [
       "['__add__',\n",
       " '__class__',\n",
       " '__contains__',\n",
       " '__delattr__',\n",
       " '__dir__',\n",
       " '__doc__',\n",
       " '__eq__',\n",
       " '__format__',\n",
       " '__ge__',\n",
       " '__getattribute__',\n",
       " '__getitem__',\n",
       " '__getnewargs__',\n",
       " '__gt__',\n",
       " '__hash__',\n",
       " '__init__',\n",
       " '__init_subclass__',\n",
       " '__iter__',\n",
       " '__le__',\n",
       " '__len__',\n",
       " '__lt__',\n",
       " '__mod__',\n",
       " '__mul__',\n",
       " '__ne__',\n",
       " '__new__',\n",
       " '__reduce__',\n",
       " '__reduce_ex__',\n",
       " '__repr__',\n",
       " '__rmod__',\n",
       " '__rmul__',\n",
       " '__setattr__',\n",
       " '__sizeof__',\n",
       " '__str__',\n",
       " '__subclasshook__',\n",
       " 'capitalize',\n",
       " 'casefold',\n",
       " 'center',\n",
       " 'count',\n",
       " 'encode',\n",
       " 'endswith',\n",
       " 'expandtabs',\n",
       " 'find',\n",
       " 'format',\n",
       " 'format_map',\n",
       " 'index',\n",
       " 'isalnum',\n",
       " 'isalpha',\n",
       " 'isascii',\n",
       " 'isdecimal',\n",
       " 'isdigit',\n",
       " 'isidentifier',\n",
       " 'islower',\n",
       " 'isnumeric',\n",
       " 'isprintable',\n",
       " 'isspace',\n",
       " 'istitle',\n",
       " 'isupper',\n",
       " 'join',\n",
       " 'ljust',\n",
       " 'lower',\n",
       " 'lstrip',\n",
       " 'maketrans',\n",
       " 'partition',\n",
       " 'replace',\n",
       " 'rfind',\n",
       " 'rindex',\n",
       " 'rjust',\n",
       " 'rpartition',\n",
       " 'rsplit',\n",
       " 'rstrip',\n",
       " 'split',\n",
       " 'splitlines',\n",
       " 'startswith',\n",
       " 'strip',\n",
       " 'swapcase',\n",
       " 'title',\n",
       " 'translate',\n",
       " 'upper',\n",
       " 'zfill']"
      ]
     },
     "execution_count": 139,
     "metadata": {},
     "output_type": "execute_result"
    }
   ],
   "source": [
    "# Using `dir()` function to display possible attributes\n",
    "\n",
    "name = 'Michael'\n",
    "\n",
    "dir(name)"
   ]
  },
  {
   "cell_type": "code",
   "execution_count": 140,
   "metadata": {},
   "outputs": [
    {
     "data": {
      "text/plain": [
       "bool"
      ]
     },
     "execution_count": 140,
     "metadata": {},
     "output_type": "execute_result"
    }
   ],
   "source": [
    "type(True)"
   ]
  },
  {
   "cell_type": "code",
   "execution_count": 141,
   "metadata": {},
   "outputs": [
    {
     "data": {
      "text/plain": [
       "False"
      ]
     },
     "execution_count": 141,
     "metadata": {},
     "output_type": "execute_result"
    }
   ],
   "source": [
    "False"
   ]
  },
  {
   "cell_type": "code",
   "execution_count": 145,
   "metadata": {},
   "outputs": [
    {
     "name": "stdout",
     "output_type": "stream",
     "text": [
      "False\n",
      "True\n"
     ]
    }
   ],
   "source": [
    "print(True and True and False)\n",
    "print(True or True or False)"
   ]
  },
  {
   "cell_type": "code",
   "execution_count": 146,
   "metadata": {},
   "outputs": [
    {
     "data": {
      "text/plain": [
       "False"
      ]
     },
     "execution_count": 146,
     "metadata": {},
     "output_type": "execute_result"
    }
   ],
   "source": [
    "1 == 2"
   ]
  },
  {
   "cell_type": "code",
   "execution_count": 149,
   "metadata": {},
   "outputs": [
    {
     "name": "stdout",
     "output_type": "stream",
     "text": [
      "/bin/bash: line 1: 1: command not found\n"
     ]
    }
   ],
   "source": [
    "!1 "
   ]
  },
  {
   "cell_type": "code",
   "execution_count": 150,
   "metadata": {},
   "outputs": [
    {
     "data": {
      "text/plain": [
       "True"
      ]
     },
     "execution_count": 150,
     "metadata": {},
     "output_type": "execute_result"
    }
   ],
   "source": [
    "1 != 0"
   ]
  },
  {
   "cell_type": "code",
   "execution_count": 151,
   "metadata": {},
   "outputs": [
    {
     "data": {
      "text/plain": [
       "False"
      ]
     },
     "execution_count": 151,
     "metadata": {},
     "output_type": "execute_result"
    }
   ],
   "source": [
    "not 0 == 0"
   ]
  },
  {
   "cell_type": "code",
   "execution_count": 152,
   "metadata": {},
   "outputs": [
    {
     "data": {
      "text/plain": [
       "False"
      ]
     },
     "execution_count": 152,
     "metadata": {},
     "output_type": "execute_result"
    }
   ],
   "source": [
    "not 2 == 2 "
   ]
  },
  {
   "cell_type": "code",
   "execution_count": 153,
   "metadata": {},
   "outputs": [
    {
     "data": {
      "text/plain": [
       "bool"
      ]
     },
     "execution_count": 153,
     "metadata": {},
     "output_type": "execute_result"
    }
   ],
   "source": [
    "type(not 2 == 2 )"
   ]
  },
  {
   "cell_type": "code",
   "execution_count": 154,
   "metadata": {},
   "outputs": [
    {
     "data": {
      "text/plain": [
       "True"
      ]
     },
     "execution_count": 154,
     "metadata": {},
     "output_type": "execute_result"
    }
   ],
   "source": [
    "x = 6\n",
    "1 <= x <= 10"
   ]
  },
  {
   "cell_type": "code",
   "execution_count": 155,
   "metadata": {},
   "outputs": [
    {
     "data": {
      "text/plain": [
       "False"
      ]
     },
     "execution_count": 155,
     "metadata": {},
     "output_type": "execute_result"
    }
   ],
   "source": [
    "bool(0)"
   ]
  },
  {
   "cell_type": "code",
   "execution_count": 157,
   "metadata": {},
   "outputs": [
    {
     "data": {
      "text/plain": [
       "True"
      ]
     },
     "execution_count": 157,
     "metadata": {},
     "output_type": "execute_result"
    }
   ],
   "source": [
    "bool(' ')"
   ]
  },
  {
   "cell_type": "code",
   "execution_count": 158,
   "metadata": {},
   "outputs": [
    {
     "data": {
      "text/plain": [
       "False"
      ]
     },
     "execution_count": 158,
     "metadata": {},
     "output_type": "execute_result"
    }
   ],
   "source": [
    "bool('')"
   ]
  },
  {
   "cell_type": "code",
   "execution_count": 160,
   "metadata": {},
   "outputs": [
    {
     "data": {
      "text/plain": [
       "str"
      ]
     },
     "execution_count": 160,
     "metadata": {},
     "output_type": "execute_result"
    }
   ],
   "source": [
    "t = str(True)\n",
    "type(t)"
   ]
  },
  {
   "cell_type": "code",
   "execution_count": 163,
   "metadata": {},
   "outputs": [
    {
     "name": "stdout",
     "output_type": "stream",
     "text": [
      "<class 'int'>\n"
     ]
    },
    {
     "data": {
      "text/plain": [
       "1"
      ]
     },
     "execution_count": 163,
     "metadata": {},
     "output_type": "execute_result"
    }
   ],
   "source": [
    "t = int(True)\n",
    "print(type(t))\n",
    "t"
   ]
  },
  {
   "cell_type": "code",
   "execution_count": 164,
   "metadata": {},
   "outputs": [
    {
     "data": {
      "text/plain": [
       "7"
      ]
     },
     "execution_count": 164,
     "metadata": {},
     "output_type": "execute_result"
    }
   ],
   "source": [
    "6 + True"
   ]
  },
  {
   "cell_type": "code",
   "execution_count": 165,
   "metadata": {},
   "outputs": [
    {
     "data": {
      "text/plain": [
       "0"
      ]
     },
     "execution_count": 165,
     "metadata": {},
     "output_type": "execute_result"
    }
   ],
   "source": [
    "13 * False"
   ]
  },
  {
   "cell_type": "code",
   "execution_count": 168,
   "metadata": {},
   "outputs": [],
   "source": [
    "# 'python' ** 2"
   ]
  },
  {
   "cell_type": "code",
   "execution_count": 173,
   "metadata": {},
   "outputs": [
    {
     "data": {
      "text/plain": [
       "True"
      ]
     },
     "execution_count": 173,
     "metadata": {},
     "output_type": "execute_result"
    }
   ],
   "source": [
    "25 >= 25"
   ]
  },
  {
   "cell_type": "code",
   "execution_count": 178,
   "metadata": {},
   "outputs": [
    {
     "name": "stdout",
     "output_type": "stream",
     "text": [
      "True\n"
     ]
    }
   ],
   "source": [
    "boolentrue = 25 >= 25\n",
    "print(boolentrue)"
   ]
  },
  {
   "cell_type": "code",
   "execution_count": 179,
   "metadata": {},
   "outputs": [
    {
     "name": "stdout",
     "output_type": "stream",
     "text": [
      "False\n"
     ]
    }
   ],
   "source": [
    "print (not boolentrue)"
   ]
  },
  {
   "cell_type": "code",
   "execution_count": 174,
   "metadata": {},
   "outputs": [
    {
     "name": "stdout",
     "output_type": "stream",
     "text": [
      "x\n",
      "True\n"
     ]
    }
   ],
   "source": [
    "x = True \n",
    "print('x')\n",
    "print(x)"
   ]
  },
  {
   "cell_type": "code",
   "execution_count": 181,
   "metadata": {},
   "outputs": [
    {
     "data": {
      "text/plain": [
       "True"
      ]
     },
     "execution_count": 181,
     "metadata": {},
     "output_type": "execute_result"
    }
   ],
   "source": [
    "'e' in 'hello'"
   ]
  },
  {
   "cell_type": "code",
   "execution_count": 182,
   "metadata": {},
   "outputs": [
    {
     "data": {
      "text/plain": [
       "False"
      ]
     },
     "execution_count": 182,
     "metadata": {},
     "output_type": "execute_result"
    }
   ],
   "source": [
    "'e' in 'hEllo'"
   ]
  },
  {
   "cell_type": "code",
   "execution_count": 186,
   "metadata": {},
   "outputs": [
    {
     "name": "stdout",
     "output_type": "stream",
     "text": [
      "True\n"
     ]
    }
   ],
   "source": [
    "import re\n",
    "\n",
    "result = re.search('el', 'hEllo', re.IGNORECASE) is not None\n",
    "print(result)  # Output: True\n"
   ]
  },
  {
   "cell_type": "code",
   "execution_count": 188,
   "metadata": {},
   "outputs": [
    {
     "name": "stdout",
     "output_type": "stream",
     "text": [
      "True\n",
      "False\n"
     ]
    }
   ],
   "source": [
    "print(3 in [1,2,3])\n",
    "print('3' in [1,2,3])"
   ]
  },
  {
   "cell_type": "code",
   "execution_count": 190,
   "metadata": {},
   "outputs": [
    {
     "data": {
      "text/plain": [
       "False"
      ]
     },
     "execution_count": 190,
     "metadata": {},
     "output_type": "execute_result"
    }
   ],
   "source": [
    "10 is \"10 \""
   ]
  },
  {
   "cell_type": "markdown",
   "metadata": {},
   "source": [
    "# Difference Between `==`, `=`, and `is`\n",
    "\n",
    "In Python, `=`, `==`, and `is` serve different purposes and are used in different contexts. Here’s a breakdown of their differences:\n",
    "\n",
    "## 1. `=` (Assignment Operator)\n",
    "- **Purpose**: Used to assign a value to a variable.\n",
    "- **Example**:\n",
    "    ```python\n",
    "    x = 5  # Assigns the integer 5 to the variable x\n",
    "    name = \"Alice\"  # Assigns the string \"Alice\" to the variable name\n",
    "    ```\n",
    "\n",
    "## 2. `==` (Equality Operator)\n",
    "- **Purpose**: Used to compare the values of two objects to check if they are equal.\n",
    "- **Example**:\n",
    "    ```python\n",
    "    a = [1, 2, 3]\n",
    "    b = [1, 2, 3]\n",
    "    \n",
    "    print(a == b)  # Output: True (values are the same)\n",
    "    ```\n",
    "\n",
    "## 3. `is` (Identity Operator)\n",
    "- **Purpose**: Used to compare the identity of two objects. It checks whether two references point to the same object in memory.\n",
    "- **Example**:\n",
    "    ```python\n",
    "    a = [1, 2, 3]\n",
    "    b = a  # b is now a reference to the same list object as a\n",
    "    c = a[:]  # c is a new list object that is a copy of a\n",
    "    \n",
    "    print(a is b)  # Output: True (b references the same object as a)\n",
    "    print(a is c)  # Output: False (c is a different object)\n",
    "    ```\n",
    "\n",
    "## Key Differences\n",
    "| Aspect                | `=` (Assignment)                     | `==` (Equality)                       | `is` (Identity)                       |\n",
    "|-----------------------|--------------------------------------|---------------------------------------|---------------------------------------|\n",
    "| **Purpose**           | Assigns a value to a variable        | Compares values of two objects        | Compares object identity (memory location) |\n",
    "| **Usage**             | Used for variable assignment          | Used to check if two variables have equal values | Used to check if two variables point to the same object |\n",
    "| **Example**           | `x = 10`                             | `if a == b:`                          | `if a is b:`                          |\n",
    "| **Type of comparison**| Value assignment                      | Value comparison                      | Reference comparison                   |\n",
    "\n",
    "## Important Notes\n",
    "- **`==` vs. `is`**:\n",
    "  - Use `==` when you want to check if the values of two objects are the same, regardless of whether they are the same object in memory.\n",
    "  - Use `is` when you want to check if two variables reference the exact same object in memory.\n",
    "\n",
    "- **Mutable vs. Immutable Objects**:\n",
    "  - For mutable objects (like lists and dictionaries), two different variables can hold the same values but refer to different objects.\n",
    "  - For immutable objects (like strings and integers), Python may optimize memory usage by reusing objects, so `is` can sometimes return `True` even for distinct variables that have the same value.\n",
    "\n",
    "## Example with Strings and Lists\n",
    "```python\n",
    "x = \"hello\"\n",
    "y = \"hello\"\n",
    "z = x\n",
    "\n",
    "print(x is y)  # Output: True or False (depends on Python's optimization)\n",
    "print(x == y)  # Output: True (value comparison)\n",
    "\n",
    "a = [1, 2, 3]\n",
    "b = a  # b references the same object as a\n",
    "c = a[:]  # c is a new list object that is a copy of a\n",
    "\n",
    "print(a == b)  # Output: True (same values)\n",
    "print(a is b)  # Output: True (same object)\n",
    "print(a == c)  # Output: True (same values)\n",
    "print(a is c)  # Output: False (different objects)\n"
   ]
  },
  {
   "cell_type": "code",
   "execution_count": 191,
   "metadata": {},
   "outputs": [
    {
     "data": {
      "text/plain": [
       "True"
      ]
     },
     "execution_count": 191,
     "metadata": {},
     "output_type": "execute_result"
    }
   ],
   "source": [
    "t= 5 \n",
    "u= 5 \n",
    "\n",
    "t is u "
   ]
  },
  {
   "cell_type": "code",
   "execution_count": 192,
   "metadata": {},
   "outputs": [
    {
     "name": "stdout",
     "output_type": "stream",
     "text": [
      "Memory address of t: 8934304\n",
      "Memory address of u: 8934304\n",
      "t is u: True\n"
     ]
    }
   ],
   "source": [
    "# Check the memory addresses\n",
    "print(f\"Memory address of t: {id(t)}\")\n",
    "print(f\"Memory address of u: {id(u)}\")\n",
    "\n",
    "# Check if t and u refer to the same object\n",
    "print(f\"t is u: {t is u}\")  # This will output True"
   ]
  },
  {
   "cell_type": "code",
   "execution_count": 196,
   "metadata": {},
   "outputs": [
    {
     "name": "stdout",
     "output_type": "stream",
     "text": [
      "8934656\n",
      "8934688\n",
      "32\n",
      "28\n",
      "28\n",
      "<class 'int'>\n",
      "<class 'int'>\n"
     ]
    }
   ],
   "source": [
    "import sys\n",
    "\n",
    "\n",
    "x = 16\n",
    "y = 17\n",
    "print(id(x))\n",
    "print(id(y))\n",
    "print(int(id(y))-int(id(x)))\n",
    "print(sys.getsizeof(x))\n",
    "print(sys.getsizeof(y))\n",
    "print(type(x))\n",
    "print(type(y))\n"
   ]
  },
  {
   "cell_type": "markdown",
   "metadata": {},
   "source": [
    "Conclusion\n",
    "\n",
    "    - id() vs sys.getsizeof(): \n",
    "        Use id() for checking object identity (memory addresses) and sys.getsizeof() for measuring memory usage.\n",
    "        \n",
    "    - Understanding Results: \n",
    "        The reported size (sys.getsizeof()) may not always match expectations due to Python's internal optimizations and memory management."
   ]
  },
  {
   "cell_type": "code",
   "execution_count": 200,
   "metadata": {},
   "outputs": [
    {
     "name": "stdout",
     "output_type": "stream",
     "text": [
      "True\n",
      "False\n",
      "135653807051712\n",
      "135653732422672\n"
     ]
    }
   ],
   "source": [
    "x = [1,2,3]\n",
    "y = [1,2,3]\n",
    "\n",
    "print(x == y)\n",
    "\n",
    "print(x is y)\n",
    "print(id(x))\n",
    "print(id(y))"
   ]
  },
  {
   "cell_type": "code",
   "execution_count": 201,
   "metadata": {},
   "outputs": [
    {
     "name": "stdout",
     "output_type": "stream",
     "text": [
      "96\n",
      "96\n",
      "28\n",
      "28\n",
      "28\n",
      "28\n",
      "28\n",
      "28\n"
     ]
    }
   ],
   "source": [
    "print(sys.getsizeof(x))\n",
    "print(sys.getsizeof(y))\n",
    "print(sys.getsizeof(x[0]))\n",
    "print(sys.getsizeof(y[0]))\n",
    "print(sys.getsizeof(x[1]))\n",
    "print(sys.getsizeof(y[1]))\n",
    "print(sys.getsizeof(x[2]))\n",
    "print(sys.getsizeof(y[2]))"
   ]
  },
  {
   "cell_type": "code",
   "execution_count": 202,
   "metadata": {},
   "outputs": [
    {
     "name": "stdout",
     "output_type": "stream",
     "text": [
      "400\n",
      "24\n"
     ]
    }
   ],
   "source": [
    "print(sys.getsizeof(int))\n",
    "print(sys.getsizeof(int()))\n"
   ]
  },
  {
   "cell_type": "code",
   "execution_count": 203,
   "metadata": {},
   "outputs": [
    {
     "data": {
      "text/plain": [
       "'0x7b605cfb53c0'"
      ]
     },
     "execution_count": 203,
     "metadata": {},
     "output_type": "execute_result"
    }
   ],
   "source": [
    "hex(id(x))"
   ]
  },
  {
   "cell_type": "code",
   "execution_count": 204,
   "metadata": {},
   "outputs": [
    {
     "data": {
      "text/plain": [
       "NoneType"
      ]
     },
     "execution_count": 204,
     "metadata": {},
     "output_type": "execute_result"
    }
   ],
   "source": [
    "type(None)"
   ]
  },
  {
   "cell_type": "code",
   "execution_count": 206,
   "metadata": {},
   "outputs": [
    {
     "name": "stdout",
     "output_type": "stream",
     "text": [
      "None\n"
     ]
    },
    {
     "data": {
      "text/plain": [
       "8274592"
      ]
     },
     "execution_count": 206,
     "metadata": {},
     "output_type": "execute_result"
    }
   ],
   "source": [
    "x = None\n",
    "print(x)\n",
    "id(x)"
   ]
  },
  {
   "cell_type": "code",
   "execution_count": 218,
   "metadata": {},
   "outputs": [],
   "source": [
    "t = 0\n",
    "u = False"
   ]
  },
  {
   "cell_type": "markdown",
   "metadata": {},
   "source": [
    "The rules for truthy and falsy values are as follows:\n",
    "\n",
    "Values that evaluate to False include:\n",
    "\n",
    "    - None\n",
    "    - False\n",
    "    - Zero of any numeric type (e.g., 0, 0.0)\n",
    "    - Empty sequences or collections (e.g., '', (), [], {})\n",
    "    - All other values evaluate to True."
   ]
  },
  {
   "cell_type": "code",
   "execution_count": 219,
   "metadata": {},
   "outputs": [
    {
     "name": "stdout",
     "output_type": "stream",
     "text": [
      "True\n",
      "False\n",
      "False\n",
      "True\n",
      "True\n",
      "False\n",
      "False\n",
      "False\n",
      "True\n",
      "['__bool__', '__class__', '__delattr__', '__dir__', '__doc__', '__eq__', '__format__', '__ge__', '__getattribute__', '__gt__', '__hash__', '__init__', '__init_subclass__', '__le__', '__lt__', '__ne__', '__new__', '__reduce__', '__reduce_ex__', '__repr__', '__setattr__', '__sizeof__', '__str__', '__subclasshook__']\n"
     ]
    }
   ],
   "source": [
    "print(None is None)\n",
    "print(False is 0)\n",
    "print(False is t)\n",
    "print(False is u)\n",
    "print(False == 0)\n",
    "print(None == False)\n",
    "print(None == 0)\n",
    "print(bool(None))\n",
    "print(bool(None) == bool(\"\"))\n",
    "print(dir(None))"
   ]
  },
  {
   "cell_type": "code",
   "execution_count": 220,
   "metadata": {},
   "outputs": [
    {
     "name": "stdout",
     "output_type": "stream",
     "text": [
      "The Zen of Python, by Tim Peters\n",
      "\n",
      "Beautiful is better than ugly.\n",
      "Explicit is better than implicit.\n",
      "Simple is better than complex.\n",
      "Complex is better than complicated.\n",
      "Flat is better than nested.\n",
      "Sparse is better than dense.\n",
      "Readability counts.\n",
      "Special cases aren't special enough to break the rules.\n",
      "Although practicality beats purity.\n",
      "Errors should never pass silently.\n",
      "Unless explicitly silenced.\n",
      "In the face of ambiguity, refuse the temptation to guess.\n",
      "There should be one-- and preferably only one --obvious way to do it.\n",
      "Although that way may not be obvious at first unless you're Dutch.\n",
      "Now is better than never.\n",
      "Although never is often better than *right* now.\n",
      "If the implementation is hard to explain, it's a bad idea.\n",
      "If the implementation is easy to explain, it may be a good idea.\n",
      "Namespaces are one honking great idea -- let's do more of those!\n"
     ]
    }
   ],
   "source": [
    "import this\n"
   ]
  },
  {
   "attachments": {
    "image.png": {
     "image/png": "[encoded data removed]"
    }
   },
   "cell_type": "markdown",
   "metadata": {},
   "source": [
    "# [Sequences]\n",
    "\n",
    "\n",
    "**Containers that hold some values**\n",
    "\n",
    "![image.png](attachment:image.png)\n",
    "\n",
    "[Built-in Types](https://docs.python.org/3.3/library/stdtypes.html)\n",
    "\n",
    "\n",
    "## Python *Ordered* Sequences \n",
    "\n",
    "- Strings\n",
    "- Lists\n",
    "- Tuples\n",
    "- range()\n",
    "- Bytes Sequences\n",
    "- Bytes Array\n",
    "\n",
    "\n",
    "## Python *Unordered* Sequences\n",
    "\n",
    "- Sets\n",
    "- Dictionaries\n",
    "\n",
    "\n",
    "| Type                         | Mutable/Immutable |\n",
    "|------------------------------|--------------------|\n",
    "| **Ordered Sequences**        |                    |\n",
    "| Strings                      | Immutable          |\n",
    "| Lists                        | Mutable            |\n",
    "| Tuples                       | Immutable          |\n",
    "| range()                      | Immutable          |\n",
    "| Bytes Sequences              | Immutable          |\n",
    "| Bytes Array                  | Mutable            |\n",
    "| **Unordered Collections**     |                    |\n",
    "| Sets                         | Mutable            |\n",
    "| Frozenset                    | Immutable          |\n",
    "| Dictionaries                 | Mutable            |"
   ]
  },
  {
   "cell_type": "markdown",
   "metadata": {},
   "source": [
    "## lists\n",
    "\n",
    "**Equivalent but not equal to arrays**  \n",
    "**Python doesn't have arrays as part of the standard types, but has array module in the Standard Library**  \n",
    "\n",
    "[Python `array` module](https://docs.python.org/3.3/library/array.html#module-array)\n"
   ]
  },
  {
   "cell_type": "code",
   "execution_count": 221,
   "metadata": {},
   "outputs": [
    {
     "name": "stdout",
     "output_type": "stream",
     "text": [
      "[1, 2, 3, 4, 100]\n",
      "<class 'list'>\n"
     ]
    }
   ],
   "source": [
    "numbers = [1,2,3,4,100]\n",
    "print(numbers)\n",
    "print(type(numbers))"
   ]
  },
  {
   "cell_type": "code",
   "execution_count": 222,
   "metadata": {},
   "outputs": [
    {
     "data": {
      "text/plain": [
       "[(1, 2), 'ahmed', 47, [25, -9]]"
      ]
     },
     "execution_count": 222,
     "metadata": {},
     "output_type": "execute_result"
    }
   ],
   "source": [
    "misc = [(1,2),'ahmed',47,[25,-9]]\n",
    "misc"
   ]
  },
  {
   "cell_type": "code",
   "execution_count": 225,
   "metadata": {},
   "outputs": [
    {
     "name": "stdout",
     "output_type": "stream",
     "text": [
      "(1, 2)\n",
      "<class 'tuple'>\n"
     ]
    }
   ],
   "source": [
    "print(misc[0])\n",
    "print(type(misc[0]))"
   ]
  },
  {
   "cell_type": "code",
   "execution_count": 232,
   "metadata": {},
   "outputs": [
    {
     "name": "stdout",
     "output_type": "stream",
     "text": [
      "['trek', 'cannondale', 'redline', 'specialized']\n",
      "cannondale\n",
      "Cannondale\n",
      "specialized\n",
      "redline\n",
      "my first bicycle was a Trek.\n"
     ]
    }
   ],
   "source": [
    "bicycles = ['trek', 'cannondale', 'redline', 'specialized']\n",
    "# Implicit line joining\n",
    "bicycles = ['trek', \n",
    "            'cannondale', \n",
    "            'redline',\n",
    "            'specialized']\n",
    "print(bicycles)\n",
    "# Accessing Elements in a List\n",
    "\n",
    "print(bicycles[1])\n",
    "print(bicycles[1].title())\n",
    "#print(bicycles[5])\n",
    "print(bicycles[-1])\n",
    "print(bicycles[-2])\n",
    "message = \"my first bicycle was a \"+ bicycles[0].title() + \".\"\n",
    "print(message)"
   ]
  },
  {
   "cell_type": "code",
   "execution_count": 2,
   "metadata": {},
   "outputs": [
    {
     "name": "stdout",
     "output_type": "stream",
     "text": [
      "['honda', 'yamaha', 'suzuki']\n",
      "['ducati', 'yamaha', 'suzuki']\n",
      "['honda', 'yamaha', 'suzuki']\n",
      "['honda', 'yamaha', 'suzuki', 'VW']\n",
      "[]\n",
      "<class 'list'>\n",
      "['honda', 'yamaha', 'suzuki']\n",
      "['honda', 'yamaha', 'suzuki', 'aston', 'renault']\n",
      "['honda', 'yamaha', 'suzuki', 'aston', 'renault', 'honda', 'yamaha', 'suzuki', 'aston', 'renault']\n",
      "['honda', 'yamaha', 'VW', 'suzuki', 'aston', 'renault']\n",
      "['yamaha', 'VW', 'suzuki', 'aston', 'renault']\n",
      "___________\n",
      "['yamaha', 'VW', 'suzuki', 'aston']\n",
      "renault\n",
      "___________\n",
      "['yamaha', 'VW', 'suzuki']\n",
      "aston\n",
      "___________\n",
      "['yamaha', 'VW']\n",
      "suzuki\n",
      "___________\n",
      "['yamaha']\n",
      "VW\n",
      "___________\n",
      "[]\n",
      "yamaha\n",
      "['honda', 'yamaha', 'suzuki', 'ducati']\n",
      "['yamaha', 'suzuki', 'ducati']\n",
      "['honda', 'yamaha', 'suzuki', 'ducati']\n",
      "['honda', 'yamaha', 'suzuki']\n",
      "\n",
      " A Ducati is too expensive for me,\n"
     ]
    }
   ],
   "source": [
    "# Changing, Adding, and Removing Elements\n",
    "\n",
    "motorcycles = ['honda', 'yamaha', 'suzuki']\n",
    "print(motorcycles)\n",
    "motorcycles[0] = 'ducati'\n",
    "print(motorcycles)\n",
    "\n",
    "motorcycles = ['honda', 'yamaha', 'suzuki']\n",
    "print(motorcycles)\n",
    "motorcycles.append('VW')\n",
    "print(motorcycles)\n",
    "\n",
    "motorcycles = []\n",
    "print(motorcycles)\n",
    "print(type(motorcycles))\n",
    "motorcycles.append('honda')\n",
    "motorcycles.append('yamaha')\n",
    "motorcycles.append('suzuki')\n",
    "\n",
    "print(motorcycles)\n",
    "\n",
    "# Concatinating Lists\n",
    "motorcyclesone = ['honda', 'yamaha', 'suzuki']\n",
    "motorcyclestwo = ['aston', 'renault']\n",
    "motorcycles =  motorcyclesone + motorcyclestwo\n",
    "print(motorcycles)\n",
    "\n",
    "print(motorcycles * 2)\n",
    "\n",
    "# Inserting Elements into a List\n",
    "motorcycles.insert(2,'VW')\n",
    "print(motorcycles)\n",
    "\n",
    "###################################\n",
    "# Removing an Item Using the del Statement\n",
    "del motorcycles[0]\n",
    "print(motorcycles)\n",
    "\n",
    "\n",
    "# Removing an Item Using the pop() Method\n",
    "#5.1.2 Using Lists as Stacks\n",
    "print('___________')\n",
    "\n",
    "popped_motorcycles = motorcycles.pop()\n",
    "print(motorcycles)\n",
    "print(popped_motorcycles)\n",
    "\n",
    "print('___________')\n",
    "\n",
    "popped_motorcycles = motorcycles.pop()\n",
    "print(motorcycles)\n",
    "print(popped_motorcycles)\n",
    "\n",
    "print('___________')\n",
    "\n",
    "popped_motorcycles = motorcycles.pop()\n",
    "print(motorcycles)\n",
    "print(popped_motorcycles)\n",
    "\n",
    "print('___________')\n",
    "\n",
    "popped_motorcycles = motorcycles.pop()\n",
    "print(motorcycles)\n",
    "print(popped_motorcycles)\n",
    "\n",
    "print('___________')\n",
    "\n",
    "popped_motorcycles = motorcycles.pop()\n",
    "print(motorcycles)\n",
    "print(popped_motorcycles)\n",
    "\n",
    "\n",
    "# Removing an Item by Value\n",
    "\n",
    "motorcycles = ['honda', 'yamaha', 'suzuki', 'ducati']\n",
    "print(motorcycles)\n",
    "\n",
    "motorcycles.remove('honda')\n",
    "print(motorcycles)\n",
    "\n",
    "\n",
    "\n",
    "motorcycles = ['honda', 'yamaha', 'suzuki', 'ducati']\n",
    "print(motorcycles)\n",
    "\n",
    "too_expensive = 'ducati'\n",
    "motorcycles.remove(too_expensive)\n",
    "\n",
    "print(motorcycles)\n",
    "print(\"\\n A \" + too_expensive.title() + \" is too expensive for me,\")\n",
    "\n"
   ]
  },
  {
   "cell_type": "markdown",
   "metadata": {},
   "source": [
    "| Method          | Description                                               | Syntax                        | Returns Value        | Key Points                                                    |\n",
    "|------------------|-----------------------------------------------------------|-------------------------------|-----------------------|--------------------------------------------------------------|\n",
    "| **`del` Statement** | Removes an item at a specified index.                   | `del my_list[index]`         | None                  | - Does not return the removed item.<br>- Raises `IndexError` if the index is out of range. |\n",
    "| **`pop()` Method**  | Removes and returns an item at the specified index or the last item if no index is provided. | `my_list.pop(index)` or `my_list.pop()` | The removed item     | - Returns the removed item.<br>- Raises `IndexError` if the list is empty or the index is out of range. |\n",
    "| **`remove()` Method** | Removes the first occurrence of a specified value.     | `my_list.remove(value)`      | None                  | - Does not return the removed item.<br>- Raises `ValueError` if the value is not found in the list. |\n"
   ]
  },
  {
   "cell_type": "code",
   "execution_count": 5,
   "metadata": {},
   "outputs": [
    {
     "name": "stdout",
     "output_type": "stream",
     "text": [
      "['AUDI', 'BMW', 'TOYOTA', 'VW']\n",
      "['VW', 'TOYOTA', 'BMW', 'AUDI']\n",
      "Here is the original list:\n",
      "['bmw', 'audi', 'toyota', 'subaru']\n",
      "\n",
      "Here is the sorted list:\n",
      "['audi', 'bmw', 'subaru', 'toyota']\n",
      "\n",
      "Here is the original list again:\n",
      "['bmw', 'audi', 'toyota', 'subaru']\n"
     ]
    }
   ],
   "source": [
    "# Organizing a List\n",
    "\n",
    "\n",
    "## Sorting a List Permanently with the sort() Method\n",
    "cars = ['BMW','AUDI','TOYOTA','VW']\n",
    "cars.sort()\n",
    "print(cars)\n",
    "cars = ['BMW','AUDI','TOYOTA','VW']\n",
    "cars.sort(reverse=True)\n",
    "print(cars)\n",
    "\n",
    "\n",
    "## Sorting a List Temporarily with the sorted() Function\n",
    "\n",
    "cars = ['bmw', 'audi', 'toyota', 'subaru']\n",
    "print(\"Here is the original list:\")\n",
    "print(cars)\n",
    "\n",
    "print(\"\\nHere is the sorted list:\")\n",
    "print(sorted(cars))\n",
    "\n",
    "\n",
    "print(\"\\nHere is the original list again:\")\n",
    "print(cars)\n"
   ]
  },
  {
   "cell_type": "code",
   "execution_count": 9,
   "metadata": {},
   "outputs": [
    {
     "name": "stdout",
     "output_type": "stream",
     "text": [
      "['bmw', 'audi', 'toyota', 'subaru']\n",
      "['subaru', 'toyota', 'audi', 'bmw']\n",
      "##################\n",
      "4\n",
      "<class 'str'>\n",
      "<class 'list'>\n",
      "##################\n",
      "52\n",
      "104\n"
     ]
    }
   ],
   "source": [
    "## Printing a List in Reverse Order\n",
    "\n",
    "cars = ['bmw', 'audi', 'toyota', 'subaru']\n",
    "print(cars)\n",
    "cars.reverse()\n",
    "print(cars)\n",
    "\n",
    "print('##################')\n",
    "\n",
    "cars = ['bmw','audi','toyota','subaru']\n",
    "print(len(cars))\n",
    "print(type(cars[0]))\n",
    "print(type(cars))\n",
    "\n",
    "\n",
    "print('##################')\n",
    "\n",
    "import sys\n",
    "item_size = sys.getsizeof(cars[0])\n",
    "list_size = sys.getsizeof(cars)\n",
    "print(item_size)\n",
    "print(list_size)\n"
   ]
  },
  {
   "cell_type": "code",
   "execution_count": 24,
   "metadata": {},
   "outputs": [
    {
     "name": "stdout",
     "output_type": "stream",
     "text": [
      "<class 'list'>\n",
      "0 first\n",
      "1 second\n",
      "2 third\n",
      "3 fourth\n",
      "<enumerate object at 0x7f7a9bf6bdc0>\n",
      "[(0, 'first'), (1, 'second'), (2, 'third'), (3, 'fourth')]\n",
      "0 first\n",
      "1 second\n",
      "2 third\n",
      "3 fourth\n",
      "0\n"
     ]
    }
   ],
   "source": [
    "# `list()` constructor function\n",
    "\n",
    "list([1,2,4])\n",
    "print(type(list([1,2,4])))\n",
    "\n",
    "\n",
    "list('Python')\n",
    "\n",
    "# `list()` with `enumerate()`\n",
    "values = ['first', 'second', 'third', 'fourth']\n",
    "for i in range(len(values)):\n",
    "    q = values[i]\n",
    "    print(i,q)\n",
    "\n",
    "\n",
    "print((enumerate(values)))\n",
    "print(list(enumerate(values)))\n",
    "\n",
    "\n",
    "for i,q in enumerate(values):\n",
    "    print(i,q)\n",
    "\n",
    "\n",
    "# Avoiding Index Errors When Working with Lists\n",
    "motorcycles = ['honda', 'yamaha', 'suzuki']\n",
    "#print(motorcycles[3])\n",
    "motorcycles = []\n",
    "print(len(motorcycles))\n",
    "#print(motorcycles[-1])"
   ]
  },
  {
   "cell_type": "code",
   "execution_count": 54,
   "metadata": {},
   "outputs": [
    {
     "name": "stdout",
     "output_type": "stream",
     "text": [
      "[0, 1, 2, 3, 4]\n",
      "<class 'range'>\n",
      "[20, 18, 16, 14, 12, 10, 8, 6, 4]\n",
      "[]\n",
      "[]\n",
      "[2, 4, 6, 8, 10, 12, 14, 16, 18]\n",
      "############################\n",
      "1\n",
      "2\n",
      "3\n",
      "4\n",
      "############################\n",
      "0\n",
      "1\n",
      "2\n",
      "3\n",
      "4\n",
      "[2, 4, 6, 8, 10, 12, 14, 16, 18]\n",
      "[0, 1, 4, 9, 16, 25, 36, 49, 64, 81, 100, 121, 144, 169, 196, 225, 256, 289, 324, 361]\n",
      "0\n",
      "9\n",
      "45\n",
      "[0, 1, 4, 9, 16, 25, 36, 49, 64, 81, 100, 121, 144, 169, 196, 225, 256, 289, 324, 361]\n",
      "<class 'list'>\n",
      "<class 'str'>\n",
      "<class 'list'>\n",
      "['ahmed', 'michael']\n",
      "['ahmed', 'mariam', 'michael', 'eli']\n",
      "[1, 4, 9, 16, 25, 36, 49, 64]\n",
      "[]\n"
     ]
    }
   ],
   "source": [
    "# Making Numerical Lists\n",
    "\n",
    "print(list(range(5)))\n",
    "print(type(range(5)))\n",
    "\n",
    "## slicing (start,stop, step)\n",
    "\n",
    "\n",
    "print(list(range(20,2,-2)))\n",
    "print(list(range(20,2,2)))\n",
    "print(list(range(2,20,-2)))\n",
    "print(list(range(2,20,2)))\n",
    "print('############################')\n",
    "\n",
    "for value in range(1,5):\n",
    "    print(value)\n",
    "\n",
    "print('############################')\n",
    "\n",
    "for value in range(5):\n",
    "    print(value)\n",
    "\n",
    "\n",
    "print(list(range(2,20,2)))\n",
    "\n",
    "\n",
    "squares= []\n",
    "\n",
    "for i in range(20):\n",
    "     square = i ** 2\n",
    "     squares.append(square)\n",
    "\n",
    "print(squares)\n",
    "\n",
    "\n",
    "\n",
    "digits = [1, 2, 3, 4, 5, 6, 7, 8, 9, 0]\n",
    "\n",
    "print(min(digits))\n",
    "\n",
    "print(max(digits))\n",
    "\n",
    "print(sum(digits))\n",
    "\n",
    "\n",
    "# List Comprehensions\n",
    "\n",
    "squares = [ i**2 for i in range (20) ]\n",
    "print(squares)\n",
    "\n",
    "\n",
    "\n",
    "## Slicing a List\n",
    "\n",
    "players = ['ahmed', 'mariam' , 'michael' , 'eli']\n",
    "print(type(players))\n",
    "print(type(players[0]))\n",
    "print(type(players[:2]))\n",
    "print(players[0:5:2])\n",
    "print(players[0:10])\n",
    "\n",
    "\n",
    "squares = [1, 4, 9, 16, 25]\n",
    "print(squares + [36, 49, 64])\n",
    "squares = []\n",
    "print(squares)"
   ]
  },
  {
   "cell_type": "code",
   "execution_count": 57,
   "metadata": {},
   "outputs": [
    {
     "data": {
      "text/plain": [
       "[['a', 'b', 'c'], [1, 2, 3]]"
      ]
     },
     "execution_count": 57,
     "metadata": {},
     "output_type": "execute_result"
    }
   ],
   "source": [
    "x=[['a', 'b', 'c'], [1, 2, 3]]\n",
    "x"
   ]
  },
  {
   "cell_type": "code",
   "execution_count": 51,
   "metadata": {},
   "outputs": [
    {
     "name": "stdout",
     "output_type": "stream",
     "text": [
      "Here are the first three players on my team:\n",
      "\tCharles\n",
      "\tMartina\n",
      "\tMichael\n",
      "My favorite foods are:\n",
      "['pizza', 'falafel', 'carrot cake']\n",
      "\n",
      "My friend's favorite foods are:\n",
      "['pizza', 'falafel', 'carrot cake']\n",
      "140164579047456\n",
      "140164579387024\n",
      "My favorite foods are:\n",
      "['pizza', 'falafel', 'carrot cake', 'ice cream']\n",
      "\n",
      "My friend's favorite foods are:\n",
      "['pizza', 'falafel', 'carrot cake', 'ice cream']\n",
      "140164579047456\n",
      "140164579047456\n",
      "#############\n",
      "My favorite drinks are:\n",
      "['pizza', 'falafel', 'carrot cake', 'ice cream', 'sa7lab']\n",
      "\n",
      "My friend's favorite drinks are:\n",
      "['pizza', 'falafel', 'carrot cake', 'ice cream']\n",
      "['pizza', 'falafel', 'carrot cake', 'ice cream', 'coffee']\n",
      "140164579047456\n",
      "140164579199888\n"
     ]
    }
   ],
   "source": [
    "## Looping Through a Slice\n",
    "players = ['charles', 'martina', 'michael', 'florence', 'eli']\n",
    "print(\"Here are the first three players on my team:\")\n",
    "for player in players[:3]:\n",
    "    print('\\t' + player.title())\n",
    "\n",
    "\n",
    "## Copying a List\n",
    "my_foods = ['pizza', 'falafel', 'carrot cake']\n",
    "friend_foods = my_foods[:]\n",
    "print(\"My favorite foods are:\")\n",
    "print(my_foods)\n",
    "print(\"\\nMy friend's favorite foods are:\")\n",
    "print(friend_foods)\n",
    "print(id(my_foods))\n",
    "print(id(friend_foods))\n",
    "### This doesn't work:\n",
    "friend_foods = my_foods  # Assigns the same reference to both variables\n",
    "friend_foods.append('ice cream')\n",
    "print(\"My favorite foods are:\")\n",
    "print(my_foods)\n",
    "print(\"\\nMy friend's favorite foods are:\")\n",
    "print(friend_foods)\n",
    "print(id(my_foods))\n",
    "print(id(friend_foods))\n",
    "print('#############')\n",
    "### this should work\n",
    "friend_foods = my_foods.copy()\n",
    "my_foods.append('sa7lab')\n",
    "print(\"My favorite drinks are:\")\n",
    "print(my_foods)\n",
    "print(\"\\nMy friend's favorite drinks are:\")\n",
    "print(friend_foods)\n",
    "friend_foods.append('coffee')\n",
    "print(friend_foods)\n",
    "print(id(my_foods))\n",
    "print(id(friend_foods))\n"
   ]
  },
  {
   "cell_type": "code",
   "execution_count": 59,
   "metadata": {},
   "outputs": [
    {
     "name": "stdout",
     "output_type": "stream",
     "text": [
      "<class 'collections.deque'>\n",
      "deque(['Eric', 'John', 'Michael', 'Terry', 'Graham'])\n",
      "deque(['John', 'Michael', 'Terry', 'Graham'])\n"
     ]
    }
   ],
   "source": [
    "#5.1.2 Using Lists as Queues\n",
    "\n",
    "from collections import deque\n",
    "queue = deque([\"Eric\", \"John\", \"Michael\"])\n",
    "queue.append(\"Terry\")\n",
    "queue.append(\"Graham\")\n",
    "print(type(queue))\n",
    "print((queue))\n",
    "queue.popleft()\n",
    "print((queue))\n",
    "\n",
    "\n",
    "\n",
    "\n",
    "\n",
    "\n"
   ]
  },
  {
   "cell_type": "code",
   "execution_count": 60,
   "metadata": {},
   "outputs": [
    {
     "name": "stdout",
     "output_type": "stream",
     "text": [
      "[0, 1, 4, 9, 16, 25, 36, 49, 64, 81]\n",
      "[0, 1, 4, 9, 16, 25, 36, 49, 64, 81]\n",
      "[0, 1, 4, 9, 16, 25, 36, 49, 64, 81]\n"
     ]
    }
   ],
   "source": [
    "squares = []\n",
    "\n",
    "for x in range(10):\n",
    "    squares.append(x**2)\n",
    "print(squares)\n",
    "\n",
    "squares = list(map(lambda x: x**2, range(10)))\n",
    "print(squares)\n",
    "\n",
    "squares = [x**2 for x in range(10)]\n",
    "print(squares)\n",
    "\n"
   ]
  },
  {
   "cell_type": "code",
   "execution_count": 72,
   "metadata": {},
   "outputs": [
    {
     "name": "stdout",
     "output_type": "stream",
     "text": [
      "[4]\n",
      "[9, 16, 25]\n"
     ]
    }
   ],
   "source": [
    "lists = []\n",
    "firstlist = [0, 1, 4]\n",
    "\n",
    "for q in firstlist:\n",
    "    for i in [4, 9, 16, 25]:\n",
    "        if i == q:\n",
    "            lists.append(i)\n",
    "print(lists)\n",
    "\n",
    "lists = []\n",
    "for i in [4, 9, 16, 25]:\n",
    "    if i not in firstlist:  # Check if 'i' is not in 'firstlist'\n",
    "        lists.append(i)\n",
    "\n",
    "print(lists)"
   ]
  },
  {
   "cell_type": "code",
   "execution_count": 86,
   "metadata": {},
   "outputs": [
    {
     "name": "stdout",
     "output_type": "stream",
     "text": [
      "[[1, 2, 3, 4], [5, 6, 7, 8], [9, 1, 1, 2]]\n",
      "[[1, 5, 9], [2, 6, 1], [3, 7, 1], [4, 8, 2]]\n",
      "[(1, 5, 9), (2, 6, 1), (3, 7, 1), (4, 8, 2)]\n",
      "[[1, 5, 9], [2, 6, 1], [3, 7, 1], [4, 8, 2]]\n"
     ]
    },
    {
     "data": {
      "text/plain": [
       "[(1, 4), (2, 5), (3, 6)]"
      ]
     },
     "execution_count": 86,
     "metadata": {},
     "output_type": "execute_result"
    }
   ],
   "source": [
    "# Nested List Comprehensions\n",
    "\n",
    "matrix = [\n",
    "    [1, 2, 3, 4],\n",
    "    [5, 6, 7, 8],\n",
    "    [9, 1, 1, 2]\n",
    "]\n",
    "\n",
    "print(matrix)\n",
    "\n",
    "print([[row[i] for row in matrix ] for i in range(len(matrix[0]))])\n",
    "\n",
    "\n",
    "# In the real world, you should prefer built-in functions to complex ﬂow statements. The zip() function would\n",
    "# do a great job for this use case:\n",
    "\n",
    "print(list(zip(*matrix)))\n",
    "print(list(map(list, zip(*matrix))))\n",
    "\n",
    "list(zip([1, 2, 3], [4, 5, 6]))  # Output: [(1, 4), (2, 5), (3, 6)]\n"
   ]
  },
  {
   "cell_type": "markdown",
   "metadata": {},
   "source": [
    "## tuples\n"
   ]
  },
  {
   "cell_type": "code",
   "execution_count": 92,
   "metadata": {},
   "outputs": [
    {
     "name": "stdout",
     "output_type": "stream",
     "text": [
      "100\n",
      "200\n",
      "300\n",
      "((0, 19), (23, -4), (91, 54.2))\n",
      "(15, 'abc', (9, 1), [1, 2, 3], {'def': 15})\n",
      "<class 'int'>\n",
      "<class 'str'>\n",
      "<class 'tuple'>\n",
      "<class 'list'>\n",
      "<class 'dict'>\n"
     ]
    }
   ],
   "source": [
    "# it is Immutable list\n",
    "dimension = (100,200,300)\n",
    "print(dimension[0])\n",
    "print(dimension[1])\n",
    "print(dimension[2])\n",
    "\n",
    "# dimension[0] = 250  # error \n",
    "two_d = ((0,19), (23,-4), (91,54.2))\n",
    "print(two_d)\n",
    "\n",
    "misc_d = (15, 'abc', (9,1), [1,2,3], {'def':15})\n",
    "print(misc_d)\n",
    "print(type(misc_d[0]))\n",
    "print(type(misc_d[1]))\n",
    "print(type(misc_d[2]))\n",
    "print(type(misc_d[3]))\n",
    "print(type(misc_d[4]))\n"
   ]
  },
  {
   "cell_type": "code",
   "execution_count": 109,
   "metadata": {},
   "outputs": [
    {
     "name": "stdout",
     "output_type": "stream",
     "text": [
      "200\n",
      "50\n",
      "92\n",
      "0 first\n",
      "1 second\n",
      "2 third\n",
      "3 fourth\n",
      "###############\n",
      "Original dimensions:\n",
      "200\n",
      "8940544\n",
      "50\n",
      "8935744\n",
      "88\n",
      "8936960\n",
      "###############\n",
      "\n",
      "Modified dimensions:\n",
      "400\n",
      "140164578468720\n",
      "100\n",
      "8937344\n",
      "###############\n"
     ]
    }
   ],
   "source": [
    "#  Tuple in depth\n",
    "\n",
    "dimensions = (200,50,92)\n",
    "\n",
    "for dimension in dimensions:\n",
    "    print(dimension)\n",
    "\n",
    "dimensions.count(200)\n",
    "dimensions.index(92)\n",
    "\n",
    "values = ('first','second','third','fourth')\n",
    "for i,q in enumerate(values):\n",
    "    print(i,q)\n",
    "\n",
    "print('###############')\n",
    "\n",
    "dimensions = (200, 50, 88)\n",
    "print(\"Original dimensions:\")\n",
    "for dimension in dimensions:\n",
    "    print(dimension)\n",
    "    print(id(dimension))\n",
    "\n",
    "print('###############')\n",
    "\n",
    "dimensions = (400, 100)\n",
    "print(\"\\nModified dimensions:\")\n",
    "for dimension in dimensions:\n",
    "    print(dimension)\n",
    "    print(id(dimension))\n",
    "print('###############')\n",
    "\n",
    "\n",
    "# dimensions[0] = 88888  # TypeError: 'tuple' object does not support item assignment\n",
    "\n",
    "\n",
    "\n",
    "\n",
    "\n",
    "\n",
    "\n",
    "\n",
    "\n",
    "\n"
   ]
  },
  {
   "cell_type": "code",
   "execution_count": 111,
   "metadata": {},
   "outputs": [
    {
     "name": "stdout",
     "output_type": "stream",
     "text": [
      "0\n",
      "1\n"
     ]
    },
    {
     "data": {
      "text/plain": [
       "('hello',)"
      ]
     },
     "execution_count": 111,
     "metadata": {},
     "output_type": "execute_result"
    }
   ],
   "source": [
    "empty = ()\n",
    "singleton = 'hello',\n",
    "print(len(empty))\n",
    "print(len(singleton))\n",
    "singleton\n",
    "\n"
   ]
  },
  {
   "cell_type": "markdown",
   "metadata": {},
   "source": [
    "## Strings "
   ]
  },
  {
   "cell_type": "code",
   "execution_count": 123,
   "metadata": {},
   "outputs": [
    {
     "name": "stdout",
     "output_type": "stream",
     "text": [
      "d\n",
      "3\n",
      "1\n",
      "['d', 'a', 's', 'd', 's', 'a', 'd', 's', 'a']\n",
      "['__add__', '__class__', '__contains__', '__delattr__', '__dir__', '__doc__', '__eq__', '__format__', '__ge__', '__getattribute__', '__getitem__', '__getnewargs__', '__gt__', '__hash__', '__init__', '__init_subclass__', '__iter__', '__le__', '__len__', '__lt__', '__mod__', '__mul__', '__ne__', '__new__', '__reduce__', '__reduce_ex__', '__repr__', '__rmod__', '__rmul__', '__setattr__', '__sizeof__', '__str__', '__subclasshook__', 'capitalize', 'casefold', 'center', 'count', 'encode', 'endswith', 'expandtabs', 'find', 'format', 'format_map', 'index', 'isalnum', 'isalpha', 'isascii', 'isdecimal', 'isdigit', 'isidentifier', 'islower', 'isnumeric', 'isprintable', 'isspace', 'istitle', 'isupper', 'join', 'ljust', 'lower', 'lstrip', 'maketrans', 'partition', 'replace', 'rfind', 'rindex', 'rjust', 'rpartition', 'rsplit', 'rstrip', 'split', 'splitlines', 'startswith', 'strip', 'swapcase', 'title', 'translate', 'upper', 'zfill']\n"
     ]
    }
   ],
   "source": [
    "string = \"dasdsadsa\"\n",
    "print(string[0])\n",
    "\n",
    "# string[0] = 'o'\n",
    "\n",
    "print(string.count('a'))\n",
    "print(string.index('a'))\n",
    "print(list(string))\n",
    "print(dir(string))\n",
    "\n",
    "\n",
    "\n",
    "\n"
   ]
  },
  {
   "cell_type": "markdown",
   "metadata": {},
   "source": [
    "## Sets  [[Unordered Sequences]]"
   ]
  },
  {
   "cell_type": "code",
   "execution_count": 147,
   "metadata": {},
   "outputs": [
    {
     "name": "stdout",
     "output_type": "stream",
     "text": [
      "<class 'set'>\n",
      "<class 'set'>\n",
      "<class 'set'>\n",
      "{1, 2, 4, 6, 8, 9}\n",
      "{1, 2, 4, 6, 8, 9, 1111}\n",
      "{'apple', 'pear', 'orange', 'banana'}\n",
      "{'apple', 'pear', 'uy', 'banana', 'orange', 'ert'}\n",
      "{'apple', 'y', 't', 'r', 'u', 'pear', 'uy', 'banana', 'e', 'orange', 'ert'}\n",
      "{1, 3}\n",
      "{1, 3, 4, 5, 6, 8}\n",
      "{1, 3, 5, 6, 8}\n",
      "{1, 2, 3}\n",
      "{'b', 'r', 'd'}\n",
      "{1, 2, 3}\n",
      "{4, 5}\n",
      "{4, 5}\n",
      "{4, 5}\n",
      "{1, 2, 3, 6, 7, 8}\n",
      "{1, 2, 3, 6, 7, 8}\n"
     ]
    }
   ],
   "source": [
    "set1 = {1,2,4,4,6,8,9,9}\n",
    "\n",
    "# my_set = set(my_list)\n",
    "\n",
    "my_list = ['one', 'one', 'two', 'three', 'three', 'four']\n",
    "q = set(my_list)\n",
    "\n",
    "\n",
    "print(type(set1))\n",
    "print(type(a))\n",
    "print(type(q))\n",
    "\n",
    "\n",
    "# set1.add(12,6,8,1111)\n",
    "print((set1))\n",
    "set1.add(1111)\n",
    "print((set1))\n",
    "\n",
    "\n",
    "basket = {'apple', 'orange', 'apple', 'pear', 'orange', 'banana'}\n",
    "print((basket))\n",
    "basket.update(['uy'], ['ert'])\n",
    "print((basket))\n",
    "basket.update('uy', 'ert')\n",
    "print((basket))\n",
    "\n",
    "my_set = {1, 3}\n",
    "print(my_set)\n",
    "my_set.update([4,5],{1,6,8,8,6})\n",
    "print(my_set)\n",
    "\n",
    "\n",
    "my_set.discard(4)\n",
    "print(my_set)\n",
    "\n",
    "\n",
    "# operations on set\n",
    "A = {1, 2, 3, 4, 5}\n",
    "B = {4, 5, 6, 7, 8}\n",
    "a = set('abracadabra')\n",
    "b = set('alacazam')\n",
    "\n",
    "print(A - B)\n",
    "print(a - b)\n",
    "print(A.difference(B))\n",
    "\n",
    "print(A & B)\n",
    "print(A.intersection(B))\n",
    "print(B.intersection(A))\n",
    "\n",
    "\n",
    "print(A ^ B)\n",
    "print(A.symmetric_difference(B))\n",
    "\n",
    "\n",
    "\n"
   ]
  },
  {
   "cell_type": "code",
   "execution_count": 158,
   "metadata": {},
   "outputs": [
    {
     "name": "stdout",
     "output_type": "stream",
     "text": [
      "1\n",
      "2\n",
      "3\n",
      "4\n",
      "5\n",
      "True\n",
      "False\n",
      "{'r', 'd'}\n",
      "['r', 'd', 'r']\n"
     ]
    }
   ],
   "source": [
    "\n",
    "# No Index but you can loop and test\n",
    "for num in A:\n",
    "    print(num)\n",
    "\n",
    "\n",
    "# print(A[0])\n",
    "\n",
    "print(2 in A)\n",
    "print(2 in B)\n",
    "\n",
    "\n",
    "\n",
    "# Similarly to list comprehensions, set comprehensions are also supported:\n",
    "a = {x for x in 'abracadabra' if x not in 'abc'}\n",
    "print(a)\n",
    "\n",
    "a = [x for x in 'abracadabra' if x not in 'abc']\n",
    "print(a)\n",
    "\n"
   ]
  },
  {
   "cell_type": "markdown",
   "metadata": {},
   "source": [
    "## Dictionaries"
   ]
  },
  {
   "cell_type": "code",
   "execution_count": 163,
   "metadata": {},
   "outputs": [
    {
     "name": "stdout",
     "output_type": "stream",
     "text": [
      "<class 'dict'>\n",
      "{'height': 180, 'weight': 80, 'eye-color': 'green', 'language': 'mongolian'}\n"
     ]
    },
    {
     "data": {
      "text/plain": [
       "['__class__',\n",
       " '__contains__',\n",
       " '__delattr__',\n",
       " '__delitem__',\n",
       " '__dir__',\n",
       " '__doc__',\n",
       " '__eq__',\n",
       " '__format__',\n",
       " '__ge__',\n",
       " '__getattribute__',\n",
       " '__getitem__',\n",
       " '__gt__',\n",
       " '__hash__',\n",
       " '__init__',\n",
       " '__init_subclass__',\n",
       " '__iter__',\n",
       " '__le__',\n",
       " '__len__',\n",
       " '__lt__',\n",
       " '__ne__',\n",
       " '__new__',\n",
       " '__reduce__',\n",
       " '__reduce_ex__',\n",
       " '__repr__',\n",
       " '__setattr__',\n",
       " '__setitem__',\n",
       " '__sizeof__',\n",
       " '__str__',\n",
       " '__subclasshook__',\n",
       " 'clear',\n",
       " 'copy',\n",
       " 'fromkeys',\n",
       " 'get',\n",
       " 'items',\n",
       " 'keys',\n",
       " 'pop',\n",
       " 'popitem',\n",
       " 'setdefault',\n",
       " 'update',\n",
       " 'values']"
      ]
     },
     "execution_count": 163,
     "metadata": {},
     "output_type": "execute_result"
    }
   ],
   "source": [
    "human1 = {'height':180, 'weight':80, 'eye-color':'green', 'language':'mongolian'}\n",
    "print(type(human1))\n",
    "print(human1)\n",
    "dir(human1)"
   ]
  },
  {
   "cell_type": "code",
   "execution_count": 179,
   "metadata": {},
   "outputs": [
    {
     "name": "stdout",
     "output_type": "stream",
     "text": [
      "{'height': 180, 'weight': 45, 'eye-color': 'green', 'language': 'mongolian'}\n",
      "dict_items([('height', 180), ('weight', 45), ('eye-color', 'green'), ('language', 'mongolian')])\n",
      "dict_keys(['height', 'weight', 'eye-color', 'language'])\n",
      "dict_values([180, 45, 'green', 'mongolian'])\n",
      "4\n",
      "{'height': 180, 'weight': 45, 'eye-color': 'green', 'language': 'mongolian', 'sex': 'male'}\n",
      "{'height': 180, 'weight': 45, 'eye-color': 'green', 'language': 'mongolian', 'sex': 'male'}\n",
      "{'height': 180, 'weight': 45, 'eye-color': 'green', 'language': 'mongolian'}\n"
     ]
    }
   ],
   "source": [
    "print(human1)\n",
    "print(human1.items())\n",
    "print(human1.keys())\n",
    "print(human1.values())\n",
    "print(len(human1))\n",
    "\n",
    "human1['sex'] = 'male'\n",
    "print(human1)\n",
    "\n",
    "\n",
    "human1['weight'] = 45\n",
    "print(human1)\n",
    "\n",
    "my_set = set(human1.values())\n",
    "my_set\n",
    "\n",
    "\n",
    "del human1['sex']\n",
    "print(human1)\n",
    "\n"
   ]
  },
  {
   "cell_type": "code",
   "execution_count": 196,
   "metadata": {},
   "outputs": [
    {
     "name": "stdout",
     "output_type": "stream",
     "text": [
      "arabic\n",
      "english\n",
      "ahmed\n",
      "mariam\n",
      "index 1: ahmed\n",
      "index 2: mariam\n",
      "index 3: rania\n",
      "index 4: azza\n",
      "index 5: ehab\n",
      "index 6: ferganey\n",
      "dict_items([(1, {'name': 'ahmed', 'age': '27', 'sex': 'male'}), (2, {'name': 'mariam', 'age': '25', 'sex': 'female'}), (3, {'name': 'rania', 'age': '55', 'sex': 'male'}), (4, {'name': 'azza', 'age': '64', 'sex': 'female'}), (5, {'name': 'ehab', 'age': '54', 'sex': 'female'}), (6, {'name': 'ferganey', 'age': '27', 'sex': 'male'})])\n",
      "ahmed mariam rania\n",
      "{1: {'name': 'ahmed', 'age': '27', 'sex': 'male'}, 2: {'name': 'mariam', 'age': '25', 'sex': 'female'}, 3: {'name': 'rabso', 'age': '100', 'sex': 'powder'}, 4: {'name': 'azza', 'age': '64', 'sex': 'female'}, 5: {'name': 'Gamal', 'age': '47'}, 6: {'name': 'ferganey', 'age': '27', 'sex': 'male'}}\n"
     ]
    }
   ],
   "source": [
    "\n",
    "\n",
    "human2 = {'hight' : 160,\n",
    "          'weight' : 52,\n",
    "          'eye-color' : 'brown',\n",
    "          'language' : 'british',\n",
    "          'sex' : 'female'}\n",
    "\n",
    "human3 = {'name':'ahmed','age':45,'language':['arabic','english']}\n",
    "\n",
    "print(human3['language'][0])\n",
    "print(human3['language'][1])\n",
    "\n",
    "\n",
    "humans = {\n",
    "            1:{'name':'ahmed','age':'27','sex':'male'},\n",
    "            2:{'name':'mariam','age':'25','sex':'female'},\n",
    "            3:{'name':'rania','age':'55','sex':'male'},\n",
    "            4:{'name':'azza','age':'64','sex':'female'},\n",
    "            5:{'name':'ehab','age':'54','sex':'female'},\n",
    "            6:{'name':'ferganey','age':'27','sex':'male'}            \n",
    "}\n",
    "\n",
    "\n",
    "print(humans[1]['name'])\n",
    "print(humans[2]['name'])\n",
    "\n",
    "\n",
    "for q,w in humans.items():\n",
    "    print(f\"index {q}: {w['name']}\")\n",
    "\n",
    "print(humans.items())\n",
    "\n",
    "print(humans[1]['name'],humans[2]['name'],humans[3]['name'])\n",
    "\n",
    "\n",
    "humans[3]['name'] = 'rabso'\n",
    "humans[3]['age'] = '100'\n",
    "humans[3]['sex'] = 'powder'\n",
    "\n",
    "\n",
    "\n",
    "\n",
    "humans[5] = {'name': 'Gamal', 'age': '47', 'married':'No'}\n",
    "\n",
    "del humans[5]['married']\n",
    "print(humans)\n",
    "\n",
    "\n"
   ]
  },
  {
   "cell_type": "code",
   "execution_count": 197,
   "metadata": {},
   "outputs": [
    {
     "data": {
      "text/plain": [
       "{2: 4, 4: 16, 6: 36}"
      ]
     },
     "execution_count": 197,
     "metadata": {},
     "output_type": "execute_result"
    }
   ],
   "source": [
    "# In addition, dict comprehensions can be used to create dictionaries from arbitrary key and value expressions:\n",
    "{x: x**2 for x in (2, 4, 6)}"
   ]
  },
  {
   "cell_type": "markdown",
   "metadata": {},
   "source": [
    "## Other Specialized Container Datatypes (Collections) \n",
    "\n",
    "**Specialized container datatypes providing alternatives to Python’s general purpose built-in containers, dict, list, set, and tuple.**\n",
    "\n",
    "[Python Collections](https://docs.python.org/3/library/collections.html)\n",
    "\n",
    "##### String - A Deeper Look\n",
    "**[Format Specification Mini-Language](https://docs.python.org/3/library/string.html)**\n"
   ]
  },
  {
   "cell_type": "code",
   "execution_count": 216,
   "metadata": {},
   "outputs": [
    {
     "name": "stdout",
     "output_type": "stream",
     "text": [
      "i am ahmed and i am 54\n",
      "['__add__', '__class__', '__contains__', '__delattr__', '__dir__', '__doc__', '__eq__', '__format__', '__ge__', '__getattribute__', '__getitem__', '__getnewargs__', '__gt__', '__hash__', '__init__', '__init_subclass__', '__iter__', '__le__', '__len__', '__lt__', '__mod__', '__mul__', '__ne__', '__new__', '__reduce__', '__reduce_ex__', '__repr__', '__rmod__', '__rmul__', '__setattr__', '__sizeof__', '__str__', '__subclasshook__', 'capitalize', 'casefold', 'center', 'count', 'encode', 'endswith', 'expandtabs', 'find', 'format', 'format_map', 'index', 'isalnum', 'isalpha', 'isascii', 'isdecimal', 'isdigit', 'isidentifier', 'islower', 'isnumeric', 'isprintable', 'isspace', 'istitle', 'isupper', 'join', 'ljust', 'lower', 'lstrip', 'maketrans', 'partition', 'replace', 'rfind', 'rindex', 'rjust', 'rpartition', 'rsplit', 'rstrip', 'split', 'splitlines', 'startswith', 'strip', 'swapcase', 'title', 'translate', 'upper', 'zfill']\n",
      "abc is 1 def is 3 hij 2\n",
      "abc is 1 def is 3 hij 2 pos 2\n",
      "abc is 1 def is 2 hij 3 pos 7\n",
      "abc is 2 def is 3 hij 1\n",
      "abc is a def is asas hij d\n",
      "abc is Hello def is Ahmed\n",
      "abc is Pythön\n",
      "abc is 'Pyth\\xf6n'\n",
      "abc is 'Pythön'\n",
      "The value of pi is: 3.1416\n"
     ]
    },
    {
     "data": {
      "text/plain": [
       "'we can also zero-pad integers like this: 00020'"
      ]
     },
     "execution_count": 216,
     "metadata": {},
     "output_type": "execute_result"
    }
   ],
   "source": [
    "name = 'ahmed'\n",
    "age = '54'\n",
    "q = 'i am '+ name + ' and i am ' + age\n",
    "print(q)\n",
    "print(dir(q))\n",
    "\n",
    "\n",
    "# {} as 'replacement fields'\n",
    "# `{<argument>!<conversion>:<format-specification}`\n",
    "'abc is {} def is {} hij {}'.format('c1', 365, (9,2))\n",
    "\n",
    "\n",
    "# positional arguments\n",
    "\n",
    "print('abc is {0} def is {2} hij {1}'.format(1,2,3))\n",
    "print('abc is {0} def is {2} hij {1} pos {1}'.format(1,2,3))\n",
    "\n",
    "# replacement fields with keyword arguments\n",
    "print('abc is {a} def is {h} hij {r} pos {t}'.format(a=1,h=2,r=3,t=7))\n",
    "\n",
    "# keywargs replacement fields in different order\n",
    "print('abc is {a} def is {c} hij {b}'.format(b=1,a=2,c=3))\n",
    "\n",
    "# replacement fields can reference attributes and elements of positional arguments\n",
    "print('abc is {a[3]} def is {c} hij {b[0]}'.format(b='dasdsa',a='assa',c='asas'))\n",
    "\n",
    "\n",
    "# 'abc is {a.title()} def is {b[0]}'.format(a='hElLo',b=['Ahmed', 'Sami'])\n",
    "print(f\"abc is {'hElLo'.title()} def is {['Ahmed', 'Sami'][0]}\")\n",
    "\n",
    "\"\"\"   \n",
    "\n",
    "f-string:\n",
    "    The f-string is used to embed the results of these \n",
    "    expressions into the string.\n",
    "\n",
    "\"\"\"\n",
    "\n",
    "\n",
    "# replacement fields with conversion: 'r' [repr()], 's' [str()] or 'a' [ascii()]\n",
    "\"\"\"  \n",
    "format specifiers (!s, !a, !r, and .4f).\n",
    "\"\"\"\n",
    "print('abc is {a!s}'.format(a='Pythön'))\n",
    "print('abc is {a!a}'.format(a='Pythön'))\n",
    "print('abc is {a!r}'.format(a='Pythön'))\n",
    "print('The value of pi is: {0:.4f}'.format(3.14159265))\n",
    "\n",
    "\n",
    "# replacement fields with format specification\n",
    "# float precision\n",
    "'we can also zero-pad integers like this: {:05}'.format(20)\n",
    "\n"
   ]
  },
  {
   "cell_type": "code",
   "execution_count": 36,
   "metadata": {},
   "outputs": [
    {
     "name": "stdout",
     "output_type": "stream",
     "text": [
      "my name is 36, i am john\n",
      "my name is ahmed, i am 26\n",
      " 17.49\n",
      "010\n",
      "A a\n",
      "100000000000.192\n",
      "1.00E+11\n",
      "1,235,432.45\n",
      "1235432.45\n",
      "['My', 'favourites', 'hobbies', 'are', 'chess,', 'estimation,', 'reading', 'and', 'vlogging']\n",
      "['My', 'favourites', 'hobbies', 'are', 'chess,', 'estimation,', 'reading', 'and', 'vlogging']\n",
      "['M', ' favourites hobbies are chess, estimation, reading and vlogging']\n",
      "['My favourites hobbies are chess', ' estimation', ' reading and vlogging']\n",
      "   \n",
      "    das\n",
      "    dasdas\n",
      "    dasdasd\n",
      "    dasdas\n",
      "\n",
      "['   ', '    das', '    dasdas', '    dasdasd', '    dasdas']\n",
      "['   \\n', '    das\\n', '    dasdas\\n', '    dasdasd\\n', '    dasdas\\n']\n",
      "['chess', 'estimation', 'computers', 'reading', 'handball', 'smoking']\n",
      "('adssdasdascas', ': ', '21 ,5 ,45  ,54 ,54 and also make: 21,54,867')\n"
     ]
    }
   ],
   "source": [
    "txt1 = \"my name is {1}, i am {0}\".format(\"john\", 36)\n",
    "print(txt1)\n",
    "\n",
    "name = \"ahmed\"\n",
    "age = 45\n",
    "txt1 = f\"my name is {'ahmed'}, i am {26}\"\n",
    "print(txt1)\n",
    "\n",
    "from decimal import Decimal\n",
    "\n",
    "print(f'{17.489: 0.2f}')\n",
    "print(f'{10:03d}')\n",
    "print(f'{65:c} {97:c}')\n",
    "print(f'{Decimal(\"100000000000.1919151\"):0.3f}')\n",
    "print(f'{Decimal(\"100000000000.1919151\"):0.2E}')\n",
    "\n",
    "# grouping digits\n",
    "print(f'{1235432.4523432:,.2f}')\n",
    "print(f'{1235432.4523432:.2f}')\n",
    "\n",
    "# you can also use functions and methods inside replacement fields\n",
    "a = \"hEllo\"\n",
    "b= ['aloo', 'meen', 'mariam']\n",
    "\n",
    "f\"abc is {a.upper()} def is {sorted(b)} and also try {a.replace('E','A').upper()} \"\n",
    "\n",
    "\n",
    "# spliiting and joining\n",
    "some_text = \"My favourites hobbies are chess, estimation, reading and vlogging\"\n",
    "print(some_text.split())\n",
    "# print(some_text.split(''))    # error empty separator\n",
    "print(some_text.split(' '))\n",
    "print(some_text.split('y'))\n",
    "print(some_text.split(','))\n",
    "\n",
    "\n",
    "lines =  \"\"\"   \n",
    "    das\n",
    "    dasdas\n",
    "    dasdasd\n",
    "    dasdas\n",
    "\"\"\"\n",
    "print(lines)\n",
    "print(lines.splitlines())\n",
    "print(lines.splitlines(True))\n",
    "\n",
    "\n",
    "# join\n",
    "text_list = ['chess', 'estimation', 'computers', 'reading', 'handball', 'smoking']\n",
    "print(text_list)\n",
    "','.join(text_list)\n",
    "\n",
    "# partition() divides string at first occurence of a char\n",
    "# thus returns a tuple\n",
    "print('adssdasdascas: 21 ,5 ,45  ,54 ,54 and also make: 21,54,867'.partition(': '))\n",
    "\n",
    "\n"
   ]
  },
  {
   "cell_type": "code",
   "execution_count": 46,
   "metadata": {},
   "outputs": [
    {
     "name": "stdout",
     "output_type": "stream",
     "text": [
      "True\n",
      "False\n",
      "False\n",
      "True\n",
      "False\n",
      "True\n",
      "False\n",
      "False\n",
      "True\n",
      "True\n",
      "False\n",
      "C:\\MyFolder\\MySubFolder\\MyFile.txt\n",
      "C:\\MyFolder\\MySubFolder\\MyFile.txt\n"
     ]
    }
   ],
   "source": [
    "print('27'.isdigit())   # True\n",
    "print('-27'.isdigit())  # False\n",
    "print('3.14'.isdigit()) # False\n",
    "\n",
    "\n",
    "print('27'.isnumeric())    # True\n",
    "print('-27'.isnumeric())   # False\n",
    "print('⅓'.isnumeric())     # True (fraction as a Unicode character)\n",
    "print('3.14'.isnumeric())  # False\n",
    "\n",
    "\n",
    "def is_int(x):\n",
    "    try:\n",
    "        x = int(x)\n",
    "        return True\n",
    "    except ValueError:\n",
    "        return False\n",
    "    \n",
    "y = '123o'\n",
    "s = '231'\n",
    "\n",
    "print(is_int(y))\n",
    "print(is_int(s))\n",
    "\n",
    "print('A9876'.isalnum())\n",
    "print('123 Main Street'.isalnum())\n",
    "\n",
    "\n",
    "# raw string\n",
    "file_path = 'C:\\\\MyFolder\\\\MySubFolder\\\\MyFile.txt'\n",
    "print(file_path)\n",
    "\n",
    "file_path = r'C:\\MyFolder\\MySubFolder\\MyFile.txt'\n",
    "print(file_path)\n",
    "\n"
   ]
  },
  {
   "cell_type": "markdown",
   "metadata": {},
   "source": [
    "# Looping"
   ]
  },
  {
   "cell_type": "code",
   "execution_count": 58,
   "metadata": {},
   "outputs": [
    {
     "name": "stdout",
     "output_type": "stream",
     "text": [
      "yes it is\n",
      "yes\n",
      "No\n",
      "young\n",
      "No\n",
      "qf\n"
     ]
    }
   ],
   "source": [
    "car = 'BMW'\n",
    "\n",
    "if car == 'BMW':\n",
    "    print('yes it is')\n",
    "\n",
    "if True:\n",
    "    print('yes')\n",
    "\n",
    "\n",
    "if False:\n",
    "    print('yes')\n",
    "else:\n",
    "    print('No')\n",
    "\n",
    "age = int(input('enter your age:'))\n",
    "\n",
    "if 80 >= age >= 50:\n",
    "    print('old')\n",
    "elif 50 > age >= 20:\n",
    "    print('young')\n",
    "else:\n",
    "    print('child')\n",
    "\n",
    "\n",
    "\n",
    "age = int(input('How old are you?'))\n",
    "country = input('Enta mneen yaad?')\n",
    "\n",
    "if 60 >= float(age) >= 45 and country.lower() == 'egypt':\n",
    "    print(\"gamed\")\n",
    "else:\n",
    "    print(\"No\")\n",
    "\n",
    "\n",
    "country = input('Enta mneen yaad?')\n",
    "gender = input('Enta ragel yaad?')\n",
    "\n",
    "flags = ''\n",
    "\n",
    "if country.lower() == 'egypt' and gender.lower() == 'male':\n",
    "    flags += 'p'\n",
    "    flags += 'm'\n",
    "else:\n",
    "    flags += 'qf'\n",
    "  \n",
    "print(flags)\n"
   ]
  },
  {
   "cell_type": "code",
   "execution_count": 67,
   "metadata": {},
   "outputs": [
    {
     "name": "stdout",
     "output_type": "stream",
     "text": [
      "mashi\n",
      "passed\n",
      "even\n",
      "[2, 4, 5]\n",
      "f\n"
     ]
    }
   ],
   "source": [
    "\n",
    "if 60 >= float(age) >= 45:\n",
    "    if  country.lower() == 'egypt':\n",
    "        print (\"You are an Egyptian yound man\")\n",
    "    else:\n",
    "        print (\"You are a young man bas\")\n",
    "else:\n",
    "    print (\"mashi\")\n",
    "\n",
    "\n",
    "grade = 87\n",
    "\n",
    "if grade >= 60:\n",
    "    result = 'Passed'\n",
    "else:\n",
    "    result = 'Failed'\n",
    "\n",
    "result\n",
    "\n",
    "\n",
    "print('passed' if grade>=60 else 'failed')\n",
    "print('even' if int(input('enter an integer:')) %2 == 0 else 'odd')\n",
    "print([2,4,5] if int(input('Enter an integer:')) % 2 == 0 else [1,3,5])\n",
    "\n",
    "\n",
    "grade = 20\n",
    "print('A' if grade >= 90 else ('B' if grade >= 80 else ('C' if  grade >= 50 else ('D' if grade >= 40 else 'f'))) )\n",
    "\n"
   ]
  },
  {
   "cell_type": "code",
   "execution_count": 99,
   "metadata": {},
   "outputs": [
    {
     "name": "stdout",
     "output_type": "stream",
     "text": [
      "92\n",
      "2\n",
      "6\n",
      "6\n",
      "18\n",
      "18\n",
      "54\n",
      "54\n",
      "162\n",
      "1 3 3 9 9 27 27 81 81 243 \n",
      "\n",
      "[1] [3 [3] [9 [9] [27 [27] [81 [81] [243 \n",
      "\n",
      "[1] [3] [3] [9] [9] [27] [27] [81] [81] [243] "
     ]
    },
    {
     "data": {
      "text/plain": [
       "243"
      ]
     },
     "execution_count": 99,
     "metadata": {},
     "output_type": "execute_result"
    }
   ],
   "source": [
    "counter = 2\n",
    "while counter < 90:\n",
    "    counter += 3\n",
    "\n",
    "print(counter)\n",
    "\n",
    "counter = 2\n",
    "while counter < 90:\n",
    "    print(counter)\n",
    "    counter *= 3\n",
    "    print(counter)\n",
    "\n",
    "\n",
    "counter = 1\n",
    "\n",
    "while counter < 90:\n",
    "    print(counter, end= ' ')\n",
    "    counter *= 3\n",
    "    print(counter, end= ' ')\n",
    "\n",
    "print('\\n')\n",
    "\n",
    "counter = 1\n",
    "while counter < 90:\n",
    "    print(f'[{counter}]', end=' ')\n",
    "    counter *= 3\n",
    "    print(f'[{counter}', end=' ')\n",
    "\n",
    "counter\n",
    "\n",
    "\n",
    "print('\\n')\n",
    "counter = 1\n",
    "while counter < 90:\n",
    "    print(f'[{counter}]', end=' ')\n",
    "    counter *= 3\n",
    "    print(f'[{counter}]', end=' ')\n",
    "\n",
    "counter\n",
    "\n"
   ]
  },
  {
   "cell_type": "code",
   "execution_count": 3,
   "metadata": {},
   "outputs": [
    {
     "name": "stdout",
     "output_type": "stream",
     "text": [
      "['foul', 'flafel', 'batates', 'pickles', 'koshary', 'betengan']\n",
      "---\n",
      "['foul', 'flafel', 'batates', 'pickles', 'koshary']\n",
      "---\n",
      "['foul', 'flafel', 'batates', 'pickles']\n",
      "---\n",
      "['foul', 'flafel', 'batates']\n",
      "---\n",
      "['foul', 'flafel']\n",
      "---\n",
      "['foul']\n",
      "---\n",
      "[]\n",
      "---\n",
      "####\n",
      "betengan\n",
      "['foul', 'flafel', 'batates', 'pickles', 'koshary']\n",
      "--\n",
      "koshary\n",
      "['foul', 'flafel', 'batates', 'pickles']\n",
      "--\n",
      "pickles\n",
      "['foul', 'flafel', 'batates']\n",
      "--\n",
      "batates\n",
      "['foul', 'flafel']\n",
      "--\n",
      "flafel\n",
      "['foul']\n",
      "--\n",
      "foul\n",
      "[]\n",
      "--\n",
      "your number is 12587459\n"
     ]
    }
   ],
   "source": [
    "my_list = ['foul', 'flafel', 'batates', 'pickles', 'koshary', 'betengan']\n",
    "\n",
    "while len(my_list) > 0:\n",
    "    print(my_list)\n",
    "    print('---')\n",
    "    while len(my_list) > 0:\n",
    "        my_list.pop()\n",
    "        print(my_list)\n",
    "        print('---')\n",
    "\n",
    "\n",
    "print('####')\n",
    "\n",
    "my_list = ['foul', 'flafel', 'batates', 'pickles', 'koshary', 'betengan']\n",
    "\n",
    "while len(my_list) > 0:\n",
    "    print(my_list[-1])\n",
    "    my_list.pop()\n",
    "    print(my_list)\n",
    "    print('--')\n",
    "\n",
    "\n",
    "# combine while and if\n",
    "retries =1 \n",
    "\n",
    "while retries <=3:\n",
    "    user_input = input('type your number:')\n",
    "    if not user_input.isdigit():\n",
    "        retries +=1\n",
    "    else:\n",
    "        print(f'your number is {user_input}')\n",
    "        break\n",
    "\n"
   ]
  },
  {
   "cell_type": "code",
   "execution_count": 12,
   "metadata": {},
   "outputs": [
    {
     "name": "stdout",
     "output_type": "stream",
     "text": [
      "foul\n",
      "falafel\n",
      "batates\n",
      "pickles\n",
      "koshary\n",
      "betengan\n",
      "This is a string\n",
      "This is a string\n",
      "T\n",
      "h\n",
      "i\n",
      "s\n",
      " \n",
      "i\n",
      "s\n",
      " \n",
      "a\n",
      " \n",
      "s\n",
      "t\n",
      "r\n",
      "i\n",
      "n\n",
      "g\n",
      "#######\n",
      "T\n",
      "h\n",
      "i\n",
      "s\n",
      " \n",
      "i\n",
      "s\n",
      " \n",
      "a\n",
      " \n",
      "s\n",
      "t\n",
      "r\n",
      "i\n",
      "n\n",
      "g\n",
      "pickles\n",
      "falafel\n",
      "foul\n",
      "betengan\n",
      "koshary\n",
      "batates\n",
      "-----\n"
     ]
    }
   ],
   "source": [
    "foods = ['foul', 'falafel', 'batates', 'pickles', 'koshary', 'betengan']\n",
    "\n",
    "for food in foods:\n",
    "    print(food)\n",
    "    \n",
    "some_text = 'This is a string'\n",
    "print(some_text)\n",
    "print('This is a string')\n",
    "\n",
    "for i in some_text:\n",
    "    print(i)\n",
    "\n",
    "print('#######')\n",
    "\n",
    "for i in some_text:\n",
    "    print(f'{i}')\n",
    "\n",
    "\n",
    "\n"
   ]
  },
  {
   "cell_type": "code",
   "execution_count": 21,
   "metadata": {},
   "outputs": [
    {
     "name": "stdout",
     "output_type": "stream",
     "text": [
      "pickles\n",
      "falafel\n",
      "foul\n",
      "betengan\n",
      "koshary\n",
      "batates\n",
      "-----\n",
      "0 foul\n",
      "1 flafel\n",
      "2 batates\n",
      "3 pickles\n",
      "4 koshary\n",
      "5 betengan\n",
      "-----\n",
      "0\n",
      "mariam\n",
      "1\n",
      "ahmed\n",
      "2\n",
      "azza\n",
      "3\n",
      "rania\n",
      "4\n",
      "ferganey\n",
      "-----\n"
     ]
    }
   ],
   "source": [
    "foods_set = {'foul', 'falafel', 'batates', 'pickles', 'koshary', 'betengan'}\n",
    "foods_tuple = ('foul', 'flafel', 'batates', 'pickles', 'koshary', 'betengan')\n",
    "\n",
    "foods_dictionary = {\n",
    "    '1': 'mariam',\n",
    "    '2': 'ahmed',\n",
    "    '3': 'azza',\n",
    "    '4': 'rania',\n",
    "    '5': 'ferganey'\n",
    "}\n",
    "\n",
    "for food in foods_set:\n",
    "    print(food)\n",
    "print('-----')\n",
    "\n",
    "for i,v in enumerate(foods_tuple):\n",
    "    print(i, v)\n",
    "print('-----')\n",
    "\n",
    "for food in enumerate(foods_dictionary.values()):\n",
    "    print(food[0])\n",
    "    print(food[1])\n",
    "print('-----')\n",
    "\n",
    "\n",
    "\n"
   ]
  },
  {
   "cell_type": "code",
   "execution_count": 28,
   "metadata": {},
   "outputs": [
    {
     "name": "stdout",
     "output_type": "stream",
     "text": [
      "1 : mariam\n",
      "0 : 1 : mariam\n",
      "____\n",
      "2 : ahmed\n",
      "1 : 2 : ahmed\n",
      "____\n",
      "3 : azza\n",
      "2 : 3 : azza\n",
      "____\n",
      "4 : rania\n",
      "3 : 4 : rania\n",
      "____\n",
      "5 : ferganey\n",
      "4 : 5 : ferganey\n",
      "____\n",
      "[(0, 'mariam'), (1, 'ahmed'), (2, 'azza'), (3, 'rania'), (4, 'ferganey')]\n",
      "0 mariam\n",
      "1 ahmed\n",
      "2 azza\n",
      "3 rania\n",
      "4 ferganey\n",
      "1 mariam\n",
      "2 ahmed\n",
      "3 azza\n",
      "4 rania\n",
      "5 ferganey\n"
     ]
    }
   ],
   "source": [
    "list(enumerate(foods_dictionary.items()))\n",
    "\n",
    "for counter, (index, value) in list(enumerate(foods_dictionary.items())):\n",
    "    print(f'{index} : {value}')\n",
    "    print(f'{counter} : {index} : {value}')\n",
    "    print('____')\n",
    "\n",
    "print(list(enumerate(foods_dictionary.values())))\n",
    "\n",
    "for index, item in list(enumerate(foods_dictionary.values())):\n",
    "    print(index, item)\n",
    "\n",
    "for counter, (index, food) in enumerate(foods_dictionary.items()):\n",
    "    print(index, food)"
   ]
  },
  {
   "cell_type": "code",
   "execution_count": 34,
   "metadata": {},
   "outputs": [
    {
     "name": "stdout",
     "output_type": "stream",
     "text": [
      "1 is odd\n",
      "2 is even\n",
      "3 is odd\n",
      "4 is even\n",
      "5 is odd\n",
      "6 is even\n",
      "7 is odd\n",
      "8 is even\n",
      "9 is odd\n",
      "10 is even\n",
      "11 is odd\n",
      "12 is even\n",
      "13 is odd\n",
      "14 is even\n",
      "15 is odd\n",
      "16 is even\n",
      "17 is odd\n",
      "18 is even\n",
      "19 is odd\n",
      "20 is even\n",
      "21 is odd\n",
      "foul\n",
      "falafel\n",
      "batates\n",
      "tmam\n",
      "3 is a prime number\n",
      "4 equals 2 * 2\n",
      "5 is a prime number\n",
      "5 is a prime number\n",
      "5 is a prime number\n",
      "6 equals 2 * 3\n",
      "7 is a prime number\n",
      "7 is a prime number\n",
      "7 is a prime number\n",
      "7 is a prime number\n",
      "7 is a prime number\n",
      "8 equals 2 * 4\n",
      "9 is a prime number\n",
      "9 equals 3 * 3\n"
     ]
    }
   ],
   "source": [
    "for counter in range(1,22):\n",
    "    if counter % 2 != 0:\n",
    "        print(f'{counter} is odd')\n",
    "    else:\n",
    "        print(f'{counter} is even')\n",
    "\n",
    "foods = ['foul', 'falafel', 'batates', 'pickles', 'koshary', 'betengan']\n",
    "\n",
    "for food in foods:\n",
    "    if food == 'pickles':\n",
    "        print('tmam')\n",
    "        break\n",
    "    print(food)\n",
    "\n",
    "# nested for with if\n",
    "# prime numbers\n",
    "\n",
    "for n in range (2,10):\n",
    "    for x in range(2,n):\n",
    "        if n % x == 0:\n",
    "            print(n, 'equals', x, '*', n // x)\n",
    "            break\n",
    "        else:\n",
    "            print(n, 'is a prime number')\n",
    "\n",
    "\n"
   ]
  },
  {
   "cell_type": "code",
   "execution_count": 40,
   "metadata": {},
   "outputs": [
    {
     "name": "stdout",
     "output_type": "stream",
     "text": [
      "1 is odd\n",
      "2 is even\n",
      "3 is odd\n",
      "4 is even\n",
      "5 is odd\n",
      "6 is even\n",
      "7 is odd\n",
      "8 is even\n",
      "9 is odd\n",
      "10 is even\n",
      "11 is odd\n",
      "12 is even\n",
      "13 is odd\n",
      "14 is even\n",
      "15 is odd\n",
      "16 is even\n",
      "17 is odd\n",
      "18 is even\n",
      "19 is odd\n",
      "20 is even\n",
      "21 is odd\n",
      "t\n",
      "h\n",
      "s\n",
      " \n",
      "s\n",
      " \n",
      "a\n",
      " \n",
      "s\n",
      "m\n",
      "p\n",
      "l\n",
      "e\n",
      " \n",
      "s\n",
      "t\n",
      "r\n",
      "n\n",
      "g\n",
      "0 is dividable by 3\n",
      "3 is dividable by 3\n",
      "6 is dividable by 3\n",
      "9 is dividable by 3\n",
      "12 is dividable by 3\n",
      "15 is dividable by 3\n",
      "18 is dividable by 3\n",
      "19\n"
     ]
    }
   ],
   "source": [
    "for counter in range(1,22):\n",
    "    if counter % 2 == 0:\n",
    "        print(f'{counter} is even')\n",
    "        continue\n",
    "    print(f'{counter} is odd')\n",
    "\n",
    "for letter in \"this is a simple string\":\n",
    "    if letter == 'i':\n",
    "        continue\n",
    "    print(letter)    \n",
    "\n",
    "# else statement with for?\n",
    "for num in range (20):\n",
    "    if num % 3 == 0:\n",
    "        print(f'{num} is dividable by 3')\n",
    "else:\n",
    "    print(num)\n",
    "\n",
    "\n"
   ]
  },
  {
   "cell_type": "code",
   "execution_count": 54,
   "metadata": {},
   "outputs": [
    {
     "name": "stdout",
     "output_type": "stream",
     "text": [
      "this is sample text with several words this is more sample text with some different words that is also another text with other different words\n",
      "[(0, 'this'), (1, 'is'), (2, 'sample'), (3, 'text'), (4, 'with'), (5, 'several'), (6, 'words'), (7, 'this'), (8, 'is'), (9, 'more'), (10, 'sample'), (11, 'text'), (12, 'with'), (13, 'some'), (14, 'different'), (15, 'words'), (16, 'that'), (17, 'is'), (18, 'also'), (19, 'another'), (20, 'text'), (21, 'with'), (22, 'other'), (23, 'different'), (24, 'words')]\n",
      "{'this': 2, 'is': 3, 'sample': 2, 'text': 3, 'with': 3, 'several': 1, 'words': 3, 'more': 1, 'some': 1, 'different': 2, 'that': 1, 'also': 1, 'another': 1, 'other': 1}\n",
      "dict_items([('this', 2), ('is', 3), ('sample', 2), ('text', 3), ('with', 3), ('several', 1), ('words', 3), ('more', 1), ('some', 1), ('different', 2), ('that', 1), ('also', 1), ('another', 1), ('other', 1)])\n",
      "also         : 1\n",
      "another      : 1\n",
      "different    : 2\n",
      "is           : 3\n",
      "more         : 1\n",
      "other        : 1\n",
      "sample       : 2\n",
      "several      : 1\n",
      "some         : 1\n",
      "text         : 3\n",
      "that         : 1\n",
      "this         : 2\n",
      "with         : 3\n",
      "words        : 3\n",
      "14\n"
     ]
    }
   ],
   "source": [
    "text = ('this is sample text with several words '\n",
    "        'this is more sample text with some different words '\n",
    "        'that is also another text with other different words'\n",
    "       )\n",
    "print(text)\n",
    "\n",
    "word_counts = {}\n",
    "\n",
    "\n",
    "print(list(enumerate(text.split())))\n",
    "\n",
    "\n",
    "word_counts = {}\n",
    "for word in text.split():\n",
    "    if word in word_counts:\n",
    "        word_counts[word] += 1\n",
    "    else:\n",
    "        word_counts[word] = 1\n",
    "\n",
    "print(word_counts)\n",
    "print(word_counts.items())\n",
    "\n",
    "\n",
    "\n",
    "\n",
    "for word, count in sorted(word_counts.items()):\n",
    "    print(f'{word:<12} : {count}')\n",
    "    \n",
    "print(len(word_counts))\n"
   ]
  },
  {
   "cell_type": "code",
   "execution_count": 77,
   "metadata": {},
   "outputs": [
    {
     "name": "stdout",
     "output_type": "stream",
     "text": [
      "What is your name?  It is lancelot.\n",
      "What is your quest?  It is the holy grail.\n",
      "What is your favorite color?  It is blue.\n",
      "33\n",
      "31\n",
      "29\n",
      "27\n",
      "25\n",
      "23\n",
      "21\n",
      "19\n",
      "17\n",
      "15\n",
      "13\n",
      "11\n",
      "9\n",
      "7\n",
      "5\n",
      "3\n",
      "1\n",
      "apple\n",
      "banana\n",
      "orange\n",
      "pear\n",
      "[56.2, 51.7, 55.3, 52.5, 47.8]\n",
      "2\n"
     ]
    }
   ],
   "source": [
    "questions = ['name', 'quest', 'favorite color']\n",
    "answers = ['lancelot', 'the holy grail', 'blue']\n",
    "\n",
    "\n",
    "for i, q in zip(questions, answers):\n",
    "    print(f'What is your {i}?  It is {q}.')\n",
    "\n",
    "\n",
    "\n",
    "for i in reversed(range(1,34,2)):\n",
    "    print(i)\n",
    "\n",
    "\n",
    "\n",
    "basket = ['apple', 'orange', 'apple', 'pear', 'orange', 'banana']\n",
    "for f in sorted(set(basket)):\n",
    "    print(f)\n",
    "\n",
    "\n",
    "\n",
    "\n",
    "import math \n",
    "raw_data = [56.2, float('NaN'), 51.7, 55.3, 52.5, float('NaN'), 47.8]\n",
    "filtered = []\n",
    "counter = 0\n",
    "\n",
    "for value in raw_data:\n",
    "    if math.isnan(value):  # Corrected condition to check for NaN\n",
    "        counter += 1       # Count the NaN occurrences\n",
    "        continue           # Skip this value if it's NaN\n",
    "    else:\n",
    "        filtered.append(value)\n",
    "\n",
    "print(filtered)\n",
    "print(counter)\n",
    "\n",
    "\n",
    "\n"
   ]
  },
  {
   "cell_type": "code",
   "execution_count": 86,
   "metadata": {},
   "outputs": [
    {
     "name": "stdout",
     "output_type": "stream",
     "text": [
      "Mary had a little lamb \n",
      "\n",
      "Error: Something went wrong\n",
      "404\n",
      "Critical\n"
     ]
    }
   ],
   "source": [
    "a = ['Mary', 'had', 'a', 'little', 'lamb']\n",
    "\n",
    "for i in range(len(a)):\n",
    "    print(a[i], end=\" \")  # Use 'end' instead of 'None'\n",
    "\n",
    "\n",
    "if True:\n",
    "    pass\n",
    "\n",
    "class empty_class:\n",
    "    pass\n",
    "\n",
    "def initlog(*args):\n",
    "    pass\n",
    "\n",
    "def initlog(*args):\n",
    "    for arg in args:\n",
    "        print(arg)\n",
    "\n",
    "# Example usage:\n",
    "print('\\n')\n",
    "initlog(\"Error: Something went wrong\", 404, \"Critical\")\n",
    "\n",
    "\n",
    "\n"
   ]
  },
  {
   "cell_type": "markdown",
   "metadata": {},
   "source": [
    "# Functions"
   ]
  },
  {
   "cell_type": "code",
   "execution_count": 117,
   "metadata": {},
   "outputs": [
    {
     "name": "stdout",
     "output_type": "stream",
     "text": [
      "welcome to python das\n",
      "welcome to python Mr. Ferganey-Linux!\n",
      "welcome to python Mr. Mariam!\n",
      "ahmed love mariam\n",
      "<class 'function'>\n",
      "Your full name is: Magnus جادالحق Carlsen-\n",
      "Your full name is: Magnus جادالحق-\n"
     ]
    },
    {
     "data": {
      "text/plain": [
       "3.5"
      ]
     },
     "execution_count": 117,
     "metadata": {},
     "output_type": "execute_result"
    }
   ],
   "source": [
    "import socket  # Import socket to get the hostname\n",
    "\n",
    "def greeting():\n",
    "    name = input(\"what is your name?\")\n",
    "    print(f'welcome to python {name}')\n",
    "\n",
    "greeting()\n",
    "def greeting(username):\n",
    "    print(f'welcome to python Mr. {username.title()}!')\n",
    "greeting(socket.gethostname())\n",
    "greeting(username = 'mariam')\n",
    "# greeting('ahmed') # error\n",
    "\n",
    "\n",
    "def greeting(i = 'ahmed', she = 'mariam'):\n",
    "    print(f'{i} love {she}')\n",
    "\n",
    "greeting()\n",
    "\n",
    "\n",
    "def pets(owner_name = 'ahmed', pet_name = 'dog'):\n",
    "    advice = f'hi {owner_name.title()} please take care of {pet_name.title()}'\n",
    "    return advice\n",
    "\n",
    "pets()\n",
    "print(type(pets))\n",
    "\n",
    "\n",
    "# which default is considered?\n",
    "def pets (owner_name = '', pet_name = ''):\n",
    "    advice = f'Hi {owner_name.title()} please take care of {pet_name.title()}!'\n",
    "    return advice\n",
    "pets('ahmed', 'mariam')\n",
    "\n",
    "\n",
    "def fullname(fname = 'x', mname = 'y', lname = 'z'):\n",
    "    return f'Your full name is: {fname.title()} {mname.title()} {lname.title()}-'\n",
    "print(fullname ('magnus','جادالحق','carlsen'))\n",
    "\n",
    "\n",
    "\n",
    "def fullname(fname, lname, mname = ''):\n",
    "    if mname:\n",
    "        fname =  f'Your full name is: {fname.title()} {mname.title()} {lname.title()}-'\n",
    "    else:\n",
    "        fname =  f'Your full name is: {fname.title()} {lname.title()}-'\n",
    "    return fname\n",
    "print(fullname ('magnus','جادالحق'))\n",
    "\n",
    "\n",
    "def avg(*args):\n",
    "    return sum(args)/len(args)\n",
    "avg(1,2,3,4,5,6)\n",
    "\n",
    "\n",
    "\n"
   ]
  },
  {
   "cell_type": "code",
   "execution_count": 113,
   "metadata": {},
   "outputs": [
    {
     "name": "stdout",
     "output_type": "stream",
     "text": [
      "\u001b[0;31mSignature:\u001b[0m \u001b[0mfullname\u001b[0m\u001b[0;34m(\u001b[0m\u001b[0mfname\u001b[0m\u001b[0;34m,\u001b[0m \u001b[0mlname\u001b[0m\u001b[0;34m,\u001b[0m \u001b[0mmname\u001b[0m\u001b[0;34m=\u001b[0m\u001b[0;34m''\u001b[0m\u001b[0;34m)\u001b[0m\u001b[0;34m\u001b[0m\u001b[0;34m\u001b[0m\u001b[0m\n",
      "\u001b[0;31mDocstring:\u001b[0m <no docstring>\n",
      "\u001b[0;31mSource:\u001b[0m   \n",
      "\u001b[0;32mdef\u001b[0m \u001b[0mfullname\u001b[0m\u001b[0;34m(\u001b[0m\u001b[0mfname\u001b[0m\u001b[0;34m,\u001b[0m \u001b[0mlname\u001b[0m\u001b[0;34m,\u001b[0m \u001b[0mmname\u001b[0m \u001b[0;34m=\u001b[0m \u001b[0;34m''\u001b[0m\u001b[0;34m)\u001b[0m\u001b[0;34m:\u001b[0m\u001b[0;34m\u001b[0m\n",
      "\u001b[0;34m\u001b[0m    \u001b[0;32mif\u001b[0m \u001b[0mmname\u001b[0m\u001b[0;34m:\u001b[0m\u001b[0;34m\u001b[0m\n",
      "\u001b[0;34m\u001b[0m        \u001b[0mfname\u001b[0m \u001b[0;34m=\u001b[0m  \u001b[0;34mf'Your full name is: {fname.title()} {mname.title()} {lname.title()}-'\u001b[0m\u001b[0;34m\u001b[0m\n",
      "\u001b[0;34m\u001b[0m    \u001b[0;32melse\u001b[0m\u001b[0;34m:\u001b[0m\u001b[0;34m\u001b[0m\n",
      "\u001b[0;34m\u001b[0m        \u001b[0mfname\u001b[0m \u001b[0;34m=\u001b[0m  \u001b[0;34mf'Your full name is: {fname.title()} {lname.title()}-'\u001b[0m\u001b[0;34m\u001b[0m\n",
      "\u001b[0;34m\u001b[0m    \u001b[0;32mreturn\u001b[0m \u001b[0mfname\u001b[0m\u001b[0;34m\u001b[0m\u001b[0;34m\u001b[0m\u001b[0m\n",
      "\u001b[0;31mFile:\u001b[0m      /tmp/ipykernel_8808/1010238748.py\n",
      "\u001b[0;31mType:\u001b[0m      function\n"
     ]
    }
   ],
   "source": [
    "fullname??"
   ]
  },
  {
   "cell_type": "code",
   "execution_count": 116,
   "metadata": {},
   "outputs": [
    {
     "name": "stdout",
     "output_type": "stream",
     "text": [
      "\u001b[0;31mDocstring:\u001b[0m\n",
      "print(value, ..., sep=' ', end='\\n', file=sys.stdout, flush=False)\n",
      "\n",
      "Prints the values to a stream, or to sys.stdout by default.\n",
      "Optional keyword arguments:\n",
      "file:  a file-like object (stream); defaults to the current sys.stdout.\n",
      "sep:   string inserted between values, default a space.\n",
      "end:   string appended after the last value, default a newline.\n",
      "flush: whether to forcibly flush the stream.\n",
      "\u001b[0;31mType:\u001b[0m      builtin_function_or_method\n"
     ]
    }
   ],
   "source": [
    "print??\n",
    "print?"
   ]
  },
  {
   "cell_type": "code",
   "execution_count": 132,
   "metadata": {},
   "outputs": [
    {
     "name": "stdout",
     "output_type": "stream",
     "text": [
      "x printed from access_global: 10\n",
      "x printed from try_to_modify_global: 3.5\n",
      "10\n",
      "x printed from modify_global: hello\n",
      "hello\n",
      "15\n",
      "<class 'int'>\n"
     ]
    }
   ],
   "source": [
    "x = 10 # global variable within this ipython script scope\n",
    "# functions can reference global variables\n",
    "# if a variable wasn't defined within a function python will look for it in the global variables\n",
    "def access_global():\n",
    "    print('x printed from access_global:', x)\n",
    "access_global()\n",
    "\n",
    "\n",
    "# however, unline other languages, a function cannot modify a global variable!\n",
    "def try_to_modify_global():\n",
    "    x=3.5\n",
    "    print('x printed from try_to_modify_global:', x)\n",
    "try_to_modify_global()\n",
    "print(x)\n",
    "# you can resolve this by using the 'global' statement\n",
    "def modify_global():\n",
    "    global x;\n",
    "    x = 'hello'\n",
    "    print('x printed from modify_global:', x)\n",
    "modify_global()\n",
    "print(x)\n",
    "\n",
    "# be careful of the function 'shadow' of death\n",
    "type(sum)\n",
    "sum = 10 + 5\n",
    "print(sum)\n",
    "# sum([10, 5]) # type error as result shadowing\n",
    "print(type(sum))\n",
    "\n"
   ]
  },
  {
   "cell_type": "code",
   "execution_count": 144,
   "metadata": {},
   "outputs": [
    {
     "name": "stdout",
     "output_type": "stream",
     "text": [
      "id(number): 8934560\n",
      "2197\n",
      "id(number): 8934560\n",
      "###\n",
      "8934560\n",
      "129409277066800\n",
      "129409277066128\n",
      "###########\n",
      "id(number) before modifying number: 8934560\n",
      "id(number) after modifying number: 129409277388720\n",
      "Original list inside the function: [1, 2, 3]\n",
      "Modified list inside the function: [1, 2, 3, 100]\n",
      "Original list after function call: [1, 2, 3, 100]\n",
      "[8, 27, 64]\n",
      "[8, 27, 64]\n"
     ]
    }
   ],
   "source": [
    "# are parameters passed value reference or value\n",
    "x = 13\n",
    "id(x)\n",
    "def cube(number):\n",
    "    print('id(number):', id(number))\n",
    "    return number ** 3\n",
    "z = cube(x)\n",
    "print(z)\n",
    "y = cube(13) # welcome to big data :)\n",
    "print('###')\n",
    "print(id(x))\n",
    "print(id(z))\n",
    "print(id(y))\n",
    "\n",
    "\"\"\" \n",
    "Immutable types (like integers, strings, tuples): The function receives a reference to the object, but the object itself cannot be modified.\n",
    "Mutable types (like lists, dictionaries): The function can modify the object itself, since the reference points to the same object.\n",
    "\"\"\"\n",
    "print('###########')\n",
    "# what about immutable objects?\n",
    "def cube(number):\n",
    "    print('id(number) before modifying number:', id(number))\n",
    "    number **= 3 # Modification, this creates a new object\n",
    "    print('id(number) after modifying number:', id(number))\n",
    "    return number\n",
    "cube(x)\n",
    "\n",
    "\n",
    "\"\"\"\n",
    ". For immutable objects like integers, strings, and tuples, the object reference is passed to the function, but any attempt to modify the object results in a new object being created.\n",
    "\"\"\"\n",
    "\n",
    "def modify_list(my_list):\n",
    "    print(f\"Original list inside the function: {my_list}\")\n",
    "    my_list.append(100)  # Modify the list by adding an element\n",
    "    print(f\"Modified list inside the function: {my_list}\")\n",
    "\n",
    "# Create a list\n",
    "original_list = [1, 2, 3]\n",
    "\n",
    "# Call the function with the list\n",
    "modify_list(original_list)\n",
    "\n",
    "# Check the list outside the function\n",
    "print(f\"Original list after function call: {original_list}\")\n",
    "\n",
    "\n",
    "\n",
    "\n",
    "\n",
    "def cuber(x):\n",
    "    return x ** 3\n",
    "my_list = [2,3,4]\n",
    "result = map(cuber, my_list )\n",
    "print(list(result))\n",
    "\n",
    "\n",
    "newresult = []\n",
    "for item in my_list:\n",
    "    newresult.append(item ** 3)\n",
    "print(newresult)\n"
   ]
  },
  {
   "cell_type": "code",
   "execution_count": 164,
   "metadata": {},
   "outputs": [
    {
     "name": "stdout",
     "output_type": "stream",
     "text": [
      "7\n",
      "[8, 27, 64]\n",
      "['alireza firouzja', 'machael jackson', 'marwan pablo', 'ahmed sami', 'magdi shatta']\n",
      "['alireza firouzja', 'machael jackson', 'marwan pablo', 'ahmed sami', 'magdi shatta']\n",
      "<class 'function'>\n",
      "22\n",
      "10\n"
     ]
    }
   ],
   "source": [
    "# lambda <arguments> : <expression>\n",
    "# the <expression> is the return value\n",
    "# all must be in a single line\n",
    "\n",
    "x = (lambda a,b,c : a+b+c+a)\n",
    "print(x(1,2,3))\n",
    "\n",
    "my_list = [2,3,4]\n",
    "result = list(map((lambda x : x ** 3), my_list))\n",
    "print(result)\n",
    "\n",
    "the_greats = ['machael jackson', 'ahmed sami', 'magdi shatta', 'alireza firouzja', 'marwan pablo']\n",
    "the_greats.sort()\n",
    "the_greats\n",
    "\n",
    "# how to sort according last name not first name \n",
    "## Example 1: Using sorted() (returns a new sorted list)\n",
    "sorted_greats = sorted(the_greats, key=lambda name : name.split()[-1])\n",
    "print(sorted_greats)\n",
    "\n",
    "## Example 2: Using .sort() (modifies the list in place)\n",
    "the_greats.sort(key=lambda name: name.split()[-1])\n",
    "print(the_greats)\n",
    "\n",
    "############################\n",
    "def myfunc(n):\n",
    "    return lambda a : a * n\n",
    "mydoubler = myfunc(2)   # myfunc() that returns a lambda function,\n",
    "print(type(mydoubler))\n",
    "print(mydoubler(11))\n",
    "############################\n",
    "\n",
    "def quadratic(a,b,c):\n",
    "    return lambda x: a * (x ** 2) + b * x - c\n",
    "\n",
    "print(quadratic(2,3,4)(2))\n"
   ]
  },
  {
   "cell_type": "code",
   "execution_count": 170,
   "metadata": {},
   "outputs": [
    {
     "name": "stdout",
     "output_type": "stream",
     "text": [
      "True\n",
      "True\n",
      "False\n"
     ]
    }
   ],
   "source": [
    "def ask_ok(prompt, retries=4, reminder='Please try again!'):\n",
    "    while True:\n",
    "        ok = input(prompt)\n",
    "        if ok in ('y', 'ye', 'yes'):\n",
    "            return True\n",
    "        if ok in ('n', 'no', 'nop', 'nope'):\n",
    "            return False\n",
    "        retries = retries - 1\n",
    "        if retries < 0:\n",
    "            raise ValueError('invalid user response')\n",
    "        print(reminder)\n",
    "\n",
    "print(ask_ok('Do you really want to quit?'))\n",
    "print(ask_ok('OK to overwrite the file?', 2))\n",
    "print(ask_ok('OK to overwrite the file?', 2, 'Come on, only yes or)printno!'))\n",
    "\n",
    "\n"
   ]
  },
  {
   "cell_type": "markdown",
   "metadata": {},
   "source": [
    "#  intro to OOP"
   ]
  },
  {
   "cell_type": "code",
   "execution_count": 171,
   "metadata": {},
   "outputs": [],
   "source": [
    "class trivial:\n",
    "    pass\n",
    "\n",
    "t1 = trivial()\n",
    "\n",
    "\n",
    "\n",
    "\n",
    "\n",
    "\n",
    "\n",
    "\n"
   ]
  },
  {
   "cell_type": "code",
   "execution_count": null,
   "metadata": {},
   "outputs": [],
   "source": []
  },
  {
   "cell_type": "code",
   "execution_count": null,
   "metadata": {},
   "outputs": [],
   "source": []
  },
  {
   "cell_type": "code",
   "execution_count": null,
   "metadata": {},
   "outputs": [],
   "source": []
  },
  {
   "cell_type": "code",
   "execution_count": null,
   "metadata": {},
   "outputs": [],
   "source": []
  },
  {
   "cell_type": "code",
   "execution_count": null,
   "metadata": {},
   "outputs": [],
   "source": []
  },
  {
   "cell_type": "code",
   "execution_count": null,
   "metadata": {},
   "outputs": [],
   "source": []
  },
  {
   "cell_type": "code",
   "execution_count": null,
   "metadata": {},
   "outputs": [],
   "source": []
  },
  {
   "cell_type": "code",
   "execution_count": null,
   "metadata": {},
   "outputs": [],
   "source": []
  },
  {
   "cell_type": "code",
   "execution_count": null,
   "metadata": {},
   "outputs": [],
   "source": []
  },
  {
   "cell_type": "code",
   "execution_count": null,
   "metadata": {},
   "outputs": [],
   "source": []
  },
  {
   "cell_type": "code",
   "execution_count": null,
   "metadata": {},
   "outputs": [],
   "source": []
  },
  {
   "cell_type": "code",
   "execution_count": null,
   "metadata": {},
   "outputs": [],
   "source": []
  },
  {
   "cell_type": "code",
   "execution_count": null,
   "metadata": {},
   "outputs": [],
   "source": []
  },
  {
   "cell_type": "code",
   "execution_count": null,
   "metadata": {},
   "outputs": [],
   "source": []
  },
  {
   "cell_type": "code",
   "execution_count": null,
   "metadata": {},
   "outputs": [],
   "source": []
  },
  {
   "cell_type": "code",
   "execution_count": null,
   "metadata": {},
   "outputs": [],
   "source": []
  },
  {
   "cell_type": "code",
   "execution_count": null,
   "metadata": {},
   "outputs": [],
   "source": []
  },
  {
   "cell_type": "code",
   "execution_count": null,
   "metadata": {},
   "outputs": [],
   "source": []
  },
  {
   "cell_type": "code",
   "execution_count": null,
   "metadata": {},
   "outputs": [],
   "source": []
  },
  {
   "cell_type": "code",
   "execution_count": null,
   "metadata": {},
   "outputs": [],
   "source": []
  },
  {
   "cell_type": "code",
   "execution_count": null,
   "metadata": {},
   "outputs": [],
   "source": []
  },
  {
   "cell_type": "code",
   "execution_count": null,
   "metadata": {},
   "outputs": [],
   "source": []
  },
  {
   "cell_type": "code",
   "execution_count": null,
   "metadata": {},
   "outputs": [],
   "source": []
  },
  {
   "cell_type": "code",
   "execution_count": null,
   "metadata": {},
   "outputs": [],
   "source": []
  },
  {
   "cell_type": "code",
   "execution_count": null,
   "metadata": {},
   "outputs": [],
   "source": []
  },
  {
   "cell_type": "code",
   "execution_count": null,
   "metadata": {},
   "outputs": [],
   "source": []
  },
  {
   "cell_type": "code",
   "execution_count": null,
   "metadata": {},
   "outputs": [],
   "source": []
  },
  {
   "cell_type": "code",
   "execution_count": null,
   "metadata": {},
   "outputs": [],
   "source": []
  },
  {
   "cell_type": "code",
   "execution_count": null,
   "metadata": {},
   "outputs": [],
   "source": []
  },
  {
   "cell_type": "code",
   "execution_count": null,
   "metadata": {},
   "outputs": [],
   "source": []
  },
  {
   "cell_type": "code",
   "execution_count": null,
   "metadata": {},
   "outputs": [],
   "source": []
  },
  {
   "cell_type": "code",
   "execution_count": null,
   "metadata": {},
   "outputs": [],
   "source": []
  },
  {
   "cell_type": "code",
   "execution_count": null,
   "metadata": {},
   "outputs": [],
   "source": []
  },
  {
   "cell_type": "code",
   "execution_count": null,
   "metadata": {},
   "outputs": [],
   "source": []
  },
  {
   "cell_type": "code",
   "execution_count": null,
   "metadata": {},
   "outputs": [],
   "source": []
  },
  {
   "cell_type": "code",
   "execution_count": null,
   "metadata": {},
   "outputs": [],
   "source": []
  },
  {
   "cell_type": "code",
   "execution_count": null,
   "metadata": {},
   "outputs": [],
   "source": []
  },
  {
   "cell_type": "code",
   "execution_count": null,
   "metadata": {},
   "outputs": [],
   "source": []
  },
  {
   "cell_type": "code",
   "execution_count": null,
   "metadata": {},
   "outputs": [],
   "source": []
  },
  {
   "cell_type": "code",
   "execution_count": null,
   "metadata": {},
   "outputs": [],
   "source": []
  },
  {
   "cell_type": "code",
   "execution_count": null,
   "metadata": {},
   "outputs": [],
   "source": []
  },
  {
   "cell_type": "code",
   "execution_count": null,
   "metadata": {},
   "outputs": [],
   "source": []
  },
  {
   "cell_type": "code",
   "execution_count": null,
   "metadata": {},
   "outputs": [],
   "source": []
  },
  {
   "cell_type": "code",
   "execution_count": null,
   "metadata": {},
   "outputs": [],
   "source": []
  },
  {
   "cell_type": "code",
   "execution_count": null,
   "metadata": {},
   "outputs": [],
   "source": []
  },
  {
   "cell_type": "code",
   "execution_count": null,
   "metadata": {},
   "outputs": [],
   "source": []
  },
  {
   "cell_type": "code",
   "execution_count": null,
   "metadata": {},
   "outputs": [],
   "source": []
  },
  {
   "cell_type": "code",
   "execution_count": null,
   "metadata": {},
   "outputs": [],
   "source": []
  },
  {
   "cell_type": "code",
   "execution_count": null,
   "metadata": {},
   "outputs": [],
   "source": []
  },
  {
   "cell_type": "code",
   "execution_count": null,
   "metadata": {},
   "outputs": [],
   "source": []
  },
  {
   "cell_type": "code",
   "execution_count": null,
   "metadata": {},
   "outputs": [],
   "source": []
  },
  {
   "cell_type": "code",
   "execution_count": null,
   "metadata": {},
   "outputs": [],
   "source": []
  },
  {
   "cell_type": "code",
   "execution_count": null,
   "metadata": {},
   "outputs": [],
   "source": []
  },
  {
   "cell_type": "code",
   "execution_count": null,
   "metadata": {},
   "outputs": [],
   "source": []
  },
  {
   "cell_type": "code",
   "execution_count": null,
   "metadata": {},
   "outputs": [],
   "source": []
  },
  {
   "cell_type": "code",
   "execution_count": null,
   "metadata": {},
   "outputs": [],
   "source": []
  },
  {
   "cell_type": "code",
   "execution_count": null,
   "metadata": {},
   "outputs": [],
   "source": []
  },
  {
   "cell_type": "code",
   "execution_count": null,
   "metadata": {},
   "outputs": [],
   "source": []
  },
  {
   "cell_type": "code",
   "execution_count": null,
   "metadata": {},
   "outputs": [],
   "source": []
  },
  {
   "cell_type": "code",
   "execution_count": null,
   "metadata": {},
   "outputs": [],
   "source": []
  },
  {
   "cell_type": "code",
   "execution_count": null,
   "metadata": {},
   "outputs": [],
   "source": []
  },
  {
   "cell_type": "code",
   "execution_count": null,
   "metadata": {},
   "outputs": [],
   "source": []
  },
  {
   "cell_type": "code",
   "execution_count": null,
   "metadata": {},
   "outputs": [],
   "source": []
  },
  {
   "cell_type": "code",
   "execution_count": null,
   "metadata": {},
   "outputs": [],
   "source": []
  },
  {
   "cell_type": "code",
   "execution_count": null,
   "metadata": {},
   "outputs": [],
   "source": []
  },
  {
   "cell_type": "code",
   "execution_count": null,
   "metadata": {},
   "outputs": [],
   "source": []
  },
  {
   "cell_type": "code",
   "execution_count": null,
   "metadata": {},
   "outputs": [],
   "source": []
  },
  {
   "cell_type": "code",
   "execution_count": null,
   "metadata": {},
   "outputs": [],
   "source": []
  },
  {
   "cell_type": "code",
   "execution_count": null,
   "metadata": {},
   "outputs": [],
   "source": []
  },
  {
   "cell_type": "code",
   "execution_count": null,
   "metadata": {},
   "outputs": [],
   "source": []
  },
  {
   "cell_type": "code",
   "execution_count": null,
   "metadata": {},
   "outputs": [],
   "source": []
  },
  {
   "cell_type": "code",
   "execution_count": null,
   "metadata": {},
   "outputs": [],
   "source": []
  },
  {
   "cell_type": "code",
   "execution_count": null,
   "metadata": {},
   "outputs": [],
   "source": []
  },
  {
   "cell_type": "code",
   "execution_count": null,
   "metadata": {},
   "outputs": [],
   "source": []
  },
  {
   "cell_type": "code",
   "execution_count": null,
   "metadata": {},
   "outputs": [],
   "source": []
  },
  {
   "cell_type": "code",
   "execution_count": null,
   "metadata": {},
   "outputs": [],
   "source": []
  },
  {
   "cell_type": "code",
   "execution_count": null,
   "metadata": {},
   "outputs": [],
   "source": []
  },
  {
   "cell_type": "code",
   "execution_count": null,
   "metadata": {},
   "outputs": [],
   "source": []
  },
  {
   "cell_type": "code",
   "execution_count": null,
   "metadata": {},
   "outputs": [],
   "source": []
  },
  {
   "cell_type": "code",
   "execution_count": null,
   "metadata": {},
   "outputs": [],
   "source": []
  },
  {
   "cell_type": "code",
   "execution_count": null,
   "metadata": {},
   "outputs": [],
   "source": []
  },
  {
   "cell_type": "code",
   "execution_count": null,
   "metadata": {},
   "outputs": [],
   "source": []
  },
  {
   "cell_type": "code",
   "execution_count": null,
   "metadata": {},
   "outputs": [],
   "source": []
  },
  {
   "cell_type": "code",
   "execution_count": null,
   "metadata": {},
   "outputs": [],
   "source": []
  },
  {
   "cell_type": "code",
   "execution_count": null,
   "metadata": {},
   "outputs": [],
   "source": []
  },
  {
   "cell_type": "code",
   "execution_count": null,
   "metadata": {},
   "outputs": [],
   "source": []
  },
  {
   "cell_type": "code",
   "execution_count": null,
   "metadata": {},
   "outputs": [],
   "source": []
  },
  {
   "cell_type": "code",
   "execution_count": null,
   "metadata": {},
   "outputs": [],
   "source": []
  },
  {
   "cell_type": "code",
   "execution_count": null,
   "metadata": {},
   "outputs": [],
   "source": []
  },
  {
   "cell_type": "code",
   "execution_count": null,
   "metadata": {},
   "outputs": [],
   "source": []
  },
  {
   "cell_type": "code",
   "execution_count": null,
   "metadata": {},
   "outputs": [],
   "source": []
  },
  {
   "cell_type": "code",
   "execution_count": null,
   "metadata": {},
   "outputs": [],
   "source": []
  },
  {
   "cell_type": "code",
   "execution_count": null,
   "metadata": {},
   "outputs": [],
   "source": []
  },
  {
   "cell_type": "code",
   "execution_count": null,
   "metadata": {},
   "outputs": [],
   "source": []
  },
  {
   "cell_type": "code",
   "execution_count": null,
   "metadata": {},
   "outputs": [],
   "source": []
  },
  {
   "cell_type": "code",
   "execution_count": null,
   "metadata": {},
   "outputs": [],
   "source": []
  },
  {
   "cell_type": "code",
   "execution_count": null,
   "metadata": {},
   "outputs": [],
   "source": []
  },
  {
   "cell_type": "code",
   "execution_count": null,
   "metadata": {},
   "outputs": [],
   "source": []
  },
  {
   "cell_type": "code",
   "execution_count": null,
   "metadata": {},
   "outputs": [],
   "source": []
  },
  {
   "cell_type": "code",
   "execution_count": null,
   "metadata": {},
   "outputs": [],
   "source": []
  },
  {
   "cell_type": "code",
   "execution_count": null,
   "metadata": {},
   "outputs": [],
   "source": []
  },
  {
   "cell_type": "code",
   "execution_count": null,
   "metadata": {},
   "outputs": [],
   "source": []
  },
  {
   "cell_type": "code",
   "execution_count": null,
   "metadata": {},
   "outputs": [],
   "source": []
  },
  {
   "cell_type": "code",
   "execution_count": null,
   "metadata": {},
   "outputs": [],
   "source": []
  },
  {
   "cell_type": "code",
   "execution_count": null,
   "metadata": {},
   "outputs": [],
   "source": []
  },
  {
   "cell_type": "code",
   "execution_count": null,
   "metadata": {},
   "outputs": [],
   "source": []
  },
  {
   "cell_type": "code",
   "execution_count": null,
   "metadata": {},
   "outputs": [],
   "source": []
  },
  {
   "cell_type": "code",
   "execution_count": null,
   "metadata": {},
   "outputs": [],
   "source": []
  },
  {
   "cell_type": "code",
   "execution_count": null,
   "metadata": {},
   "outputs": [],
   "source": []
  },
  {
   "cell_type": "code",
   "execution_count": null,
   "metadata": {},
   "outputs": [],
   "source": []
  },
  {
   "cell_type": "code",
   "execution_count": null,
   "metadata": {},
   "outputs": [],
   "source": []
  }
 ],
 "metadata": {
  "kernelspec": {
   "display_name": ".venv",
   "language": "python",
   "name": "python3"
  },
  "language_info": {
   "codemirror_mode": {
    "name": "ipython",
    "version": 3
   },
   "file_extension": ".py",
   "mimetype": "text/x-python",
   "name": "python",
   "nbconvert_exporter": "python",
   "pygments_lexer": "ipython3",
   "version": "3.7.17"
  }
 },
 "nbformat": 4,
 "nbformat_minor": 2
}
