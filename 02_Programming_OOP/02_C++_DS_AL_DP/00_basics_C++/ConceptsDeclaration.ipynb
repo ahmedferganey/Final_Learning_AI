{
 "cells": [
  {
   "cell_type": "markdown",
   "metadata": {},
   "source": [
    "| **Feature**                        | **Braced Initialization**         | **Functional Initialization**      | **Assignment Initialization**      |\n",
    "|------------------------------------|-----------------------------------|------------------------------------|------------------------------------|\n",
    "| **Syntax**                         | `int x{5};`                       | `int x(5);`                        | `int x = 5;`                       |\n",
    "| **Introduced in**                  | C++11                             | C++98                              | C++98                              |\n",
    "| **Type-Safety**                    | Strong (prevents narrowing)       | Less strict (narrowing allowed)    | Less strict (narrowing allowed)    |\n",
    "| **Array Initialization**           | `int arr[3]{1, 2, 3};`            | `int arr[3] = {1, 2, 3};`          | `int arr[3] = {1, 2, 3};`          |\n",
    "| **Works with initializer_list**    | Yes                               | No                                 | No                                 |\n",
    "| **Narrowing Conversions**          | Disallowed                        | Allowed                            | Allowed                            |\n",
    "| **Constructor Overload Ambiguity** | No                                | Yes (can be ambiguous)             | No                                 |\n",
    "| **Default Initialization**         | Initializes to zero if no value   | Does not initialize (for non-class)| Does not initialize (for non-class)|\n",
    "| **Common Use**                     | Modern C++ (preferred method)     | Common for older C++               | Traditional initialization         |\n",
    "\n",
    "\n",
    "\n",
    "\n",
    " - In C++, integer modifiers are used to modify the size and sign representation of integer types. The following table shows the different integer modifiers available in C++:\n",
    "\n",
    "| **Type**          | **Description**                                             | **Range (Typical 32-bit system)**               |\n",
    "|-------------------|-------------------------------------------------------------|-------------------------------------------------|\n",
    "| `short int`       | Shortens the integer size (usually 16 bits)                 | `-32,768` to `32,767`                           |\n",
    "| `int`             | Default integer size (usually 32 bits)                      | `-2,147,483,648` to `2,147,483,647`             |\n",
    "| `long int`        | Extends the integer size (usually 32 or 64 bits)            | `-2,147,483,648` to `2,147,483,647` (32-bit)    |\n",
    "|                   |                                                             | `-9,223,372,036,854,775,808` to `9,223,372,036,854,775,807` (64-bit) |\n",
    "| `long long int`   | Extends the integer size further (at least 64 bits)         | `-9,223,372,036,854,775,808` to `9,223,372,036,854,775,807` |\n",
    "| `unsigned int`    | Removes the sign (positive values only)                     | `0` to `4,294,967,295` (32-bit)                 |\n",
    "| `unsigned short`  | Unsigned short integer (usually 16 bits)                    | `0` to `65,535`                                 |\n",
    "| `unsigned long`   | Unsigned long integer (usually 32 or 64 bits)               | `0` to `4,294,967,295` (32-bit)                 |\n",
    "|                   |                                                             | `0` to `18,446,744,073,709,551,615` (64-bit)    |\n",
    "| `unsigned long long` | Unsigned long long integer (at least 64 bits)            | `0` to `18,446,744,073,709,551,615`             |\n"
   ]
  }
 ],
 "metadata": {
  "language_info": {
   "name": "python"
  }
 },
 "nbformat": 4,
 "nbformat_minor": 2
}
