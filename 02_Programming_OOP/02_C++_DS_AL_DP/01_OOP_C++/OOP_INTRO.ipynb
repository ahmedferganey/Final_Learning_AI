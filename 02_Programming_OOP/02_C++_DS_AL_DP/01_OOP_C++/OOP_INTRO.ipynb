{
 "cells": [
  {
   "cell_type": "markdown",
   "metadata": {},
   "source": []
  },
  {
   "cell_type": "markdown",
   "metadata": {},
   "source": [
    "Everything in C++ is associated with classes and objects, along with its attributes and methods. For example: in real life, a car is an object. The car has attributes, such as weight and color, and methods, such as drive and brake.\n",
    "\n",
    "Attributes and methods are basically variables and functions that belongs to the class. These are often referred to as \"class members\".\n",
    "\n",
    "A class is a user-defined data type that we can use in our program, and it works as an object constructor, or a \"blueprint\" for creating objects.\n",
    "---\n",
    "Class Methods\n",
    "Methods are functions that belongs to the class.\n",
    "\n",
    "There are two ways to define functions that belongs to a class:\n",
    "\n",
    "Inside class definition\n",
    "Outside class definition\n",
    "In the following example, we define a function inside the class, and we name it \"myMethod\".\n",
    "\n",
    "Note: You access methods just like you access attributes; by creating an object of the class and using the dot syntax (.):\n",
    "---\n",
    "Constructors\n",
    "A constructor in C++ is a special method that is automatically called when an object of a class is created.\n",
    "\n",
    "To create a constructor, use the same name as the class, followed by parentheses ():\n",
    "\n",
    "Note: The constructor has the same name as the class, it is always public, and it does not have any return value.\n",
    "\n",
    "\n",
    "Constructor Parameters\n",
    "Constructors can also take parameters (just like regular functions), which can be useful for setting initial values for attributes.\n",
    "\n",
    "The following class have brand, model and year attributes, and a constructor with different parameters. Inside the constructor we set the attributes equal to the constructor parameters (brand=x, etc). When we call the constructor (by creating an object of the class), we pass parameters to the constructor, which will set the value of the corresponding attributes to the same:\n",
    "\n",
    "Just like functions, constructors can also be defined outside the class. First, declare the constructor inside the class, and then define it outside of the class by specifying the name of the class, followed by the scope resolution :: operator, followed by the name of the constructor (which is the same as the class):\n",
    "---\n",
    "Access Specifiers\n",
    "The public keyword is an access specifier. Access specifiers define how the members (attributes and methods) of a class can be accessed. In the example above, the members are public - which means that they can be accessed and modified from outside the code.\n",
    "\n",
    "However, what if we want members to be private and hidden from the outside world?\n",
    "\n",
    "In C++, there are three access specifiers:\n",
    "\n",
    "public - members are accessible from outside the class\n",
    "private - members cannot be accessed (or viewed) from outside the class\n",
    "protected - members cannot be accessed from outside the class, however, they can be accessed in inherited classes. You will learn more about Inheritance later.\n",
    "\n",
    "---\n",
    "\n"
   ]
  }
 ],
 "metadata": {
  "language_info": {
   "name": "python"
  }
 },
 "nbformat": 4,
 "nbformat_minor": 2
}
