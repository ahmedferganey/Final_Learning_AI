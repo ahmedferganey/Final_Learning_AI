{
 "cells": [
  {
   "cell_type": "markdown",
   "metadata": {},
   "source": [
    "# C++ OOP Concepts\n",
    "\n",
    "---\n",
    "\n",
    "## Table 1: Core Concepts\n",
    "\n",
    "| **Concept**            | **Description**                                                                                                                                                                              | **Key Points**                                                                                                                                                                                                                                       |\n",
    "|------------------------|----------------------------------------------------------------------------------------------------------------------------------------------------------------------------------------------|-------------------------------------------------------------------------------------------------------------------------------------------------------------------------------------------------------------------------------------------------------|\n",
    "| **Classes and Objects** | A class is a user-defined data type used as a blueprint for creating objects. Objects are instances of classes and have attributes (variables) and methods (functions).                                                           | - Classes act as blueprints for objects.<br>- Attributes: Data members of a class.<br>- Methods: Functions that belong to a class.                                                                                                                     |\n",
    "| **Class Methods**       | Methods are functions that belong to a class. They can be defined inside or outside the class definition.                                                                                    | - Access methods via object using dot syntax.<br>- Example: `object.myMethod();`                                                                                                                                                                       |\n",
    "| **Constructors**        | Special methods automatically called when an object is created. Constructors initialize object attributes.                                                                                  | - Same name as the class.<br>- No return type.<br>- Can take parameters to initialize attributes.                                                                                                                                                     |\n",
    "| **Access Specifiers**   | Define how class members can be accessed from outside the class.                                                                                                                             | - `public`: Accessible from outside.<br>- `private`: Hidden from outside.<br>- `protected`: Accessible in derived classes.                                                                                                                             |\n",
    "| **Encapsulation**       | The process of keeping sensitive data hidden from users by making class attributes private and providing public methods to access them.                                                      | - Private attributes with public getter and setter methods.<br>- Ensures better control over data.<br>- Increases security of data.                                                                                                                   |\n",
    "\n",
    "---\n",
    "\n",
    "## Table 2: Advanced Concepts\n",
    "\n",
    "| **Concept**            | **Description**                                                                                                                                                                              | **Key Points**                                                                                                                                                                                                                                       |\n",
    "|------------------------|----------------------------------------------------------------------------------------------------------------------------------------------------------------------------------------------|-------------------------------------------------------------------------------------------------------------------------------------------------------------------------------------------------------------------------------------------------------|\n",
    "| **Inheritance**         | Allows one class to inherit attributes and methods from another class. Increases code reusability.                                                                                           | - `derived class` inherits from `base class`.<br>- `public`, `private`, `protected` inheritance.<br>- Supports multilevel and multiple inheritance.                                                                                                    |\n",
    "| **Polymorphism**        | Allows the use of a single action in different forms. Derived classes provide different implementations of methods inherited from the base class.                                              | - Uses virtual functions for runtime polymorphism.<br>- Example: `animalSound()` is overridden in derived classes like `Dog`, `Cat`.                                                                                                                  |\n",
    "| **Virtual Functions**   | A function in the base class declared with the `virtual` keyword to allow overriding in derived classes. Ensures that the correct method is called at runtime based on the object's actual type. | - Supports runtime polymorphism.<br>- Use `override` in derived classes for clarity.<br>- Virtual destructors ensure proper resource cleanup in inherited classes.                                                                                      |\n",
    "| **Abstraction**         | Hides the internal details of a class and exposes only the essential features. Achieved through abstract classes and pure virtual functions.                                                   | - Abstract class: Contains at least one pure virtual function (`= 0`).<br>- Cannot be instantiated directly.<br>- Focuses on \"what\" a class does, not \"how\" it does it.                                                                                |\n"
   ]
  },
  {
   "cell_type": "markdown",
   "metadata": {},
   "source": [
    "# Key Concepts of Object-Oriented Programming (OOP) in C++\n",
    "\n",
    "| **Concept**             | **Description**                                                                                                                                  | **Example**                                                                                                                                                                           |\n",
    "|-------------------------|--------------------------------------------------------------------------------------------------------------------------------------------------|---------------------------------------------------------------------------------------------------------------------------------------------------------------------------------------|\n",
    "| **Classes & Objects**    | A class is a user-defined data type serving as a \"blueprint\" for creating objects. Objects are instances of classes and contain attributes (data members) and methods (functions).             | Example: A car object with attributes like weight and color, and methods like `drive()` and `brake()`.                                                                                  |\n",
    "| **Attributes & Methods** | Attributes are variables inside a class, and methods are functions associated with a class. These are often referred to as \"class members\".        | Example: Car class with attributes `color` and `weight`, and method `drive()`.                                                                                                        |\n",
    "| **Access Specifiers**    | Control how class members (attributes and methods) are accessed: `public`, `private`, and `protected`.                                            | `public`: Accessible from outside the class.<br>`private`: Not accessible outside the class.<br>`protected`: Like private, but accessible in derived classes.                          |\n",
    "| **Encapsulation**        | Hides sensitive data by making attributes private. Public \"get\" and \"set\" methods control access to these attributes.                             | Example: `getWeight()` and `setWeight()` methods to access a private attribute `weight`.                                                                                              |\n",
    "| **Constructors**         | Special methods called automatically when an object is created. Constructors can be parameterized and are used to initialize attributes.          | Example: `Car(string brand, string model, int year)` constructor to initialize `brand`, `model`, and `year` attributes.                                                              |\n",
    "| **Inheritance**          | Allows a class (derived/child class) to inherit attributes and methods from another class (base/parent class).                                    | Example: `Truck` inherits from `Car` and can reuse attributes and methods, while adding new functionalities.                                                                          |\n",
    "| **Polymorphism**         | Allows one action to be performed in different ways using inheritance. A base class method can be overridden in derived classes.                   | Example: `Animal` base class with `makeSound()` method. Derived classes `Dog`, `Cat` override `makeSound()` with `bark()` and `meow()`.                                               |\n",
    "| **Virtual Functions**    | Declared with the `virtual` keyword in the base class, allowing derived classes to override them. This enables runtime polymorphism.               | Example: `virtual void makeSound()` in `Animal` base class. Derived class `Dog` overrides this function with its specific implementation `bark()`.                                     |\n",
    "| **Overriding**           | A derived class provides its own implementation of a base class's virtual method.                                                                | Example: `Dog` class overrides `makeSound()` from `Animal` class with its own version.                                                                                                |\n",
    "| **Virtual Destructors**  | Ensures proper resource cleanup when objects are destroyed via a base class pointer, preventing resource leaks in derived classes.                 | Example: `virtual ~Animal()` destructor in the base class ensures derived class `Dog` destructor is also called.                                                                      |\n",
    "| **Abstraction**          | Hides implementation details, exposing only essential features through abstract classes (classes with at least one pure virtual function).        | Example: Abstract class `Shape` with pure virtual function `draw()`. Derived classes `Circle`, `Rectangle` implement `draw()` in their own way.                                        |\n"
   ]
  },
  {
   "cell_type": "markdown",
   "metadata": {},
   "source": [
    "| **Type of Virtual Function**       | **Definition**                                                                 | **Syntax**                                      | **Usage**                                                                                                           |\n",
    "|------------------------------------|--------------------------------------------------------------------------------|------------------------------------------------|---------------------------------------------------------------------------------------------------------------------|\n",
    "| **Simple Virtual Function**        | A function in a base class that can be overridden in derived classes.         | `virtual void show();`                         | Allows derived classes to provide their implementation for the base class's function.                             |\n",
    "| **Pure Virtual Function**          | A function with no implementation in the base class, making it abstract.     | `virtual void show() = 0;`                    | Forces derived classes to implement the function; cannot instantiate the base class directly.                     |\n",
    "| **Virtual Destructor**             | Ensures that the destructor of derived classes is called when an object is deleted. | `virtual ~Base();`                           | Used to prevent resource leaks and ensure proper cleanup of derived objects when deleted through a base class pointer. |\n",
    "| **Final Virtual Function**         | A virtual function that cannot be overridden in derived classes.              | `virtual void show() final;`                  | Prevents further overriding in derived classes, ensuring specific behavior remains unchanged.                      |\n",
    "| **Override Virtual Function**      | Ensures a derived class function is overriding a base class virtual function. | `void show() override;`                        | Provides additional type safety by checking that the method signatures match during compilation.                   |\n",
    "| **Covariant Return Type**          | Allows a derived class to override a base class function with a different return type. | `virtual Derived* clone();`                   | Used when you want the derived class method to return a more specific type than the base class.                   |\n",
    "| **Virtual Copy Constructor**       | A simulated copy constructor using a `clone()` method to return copies.      | `virtual Base* clone() const = 0;`            | Allows polymorphic copying of objects through a base class pointer; no direct support for virtual copy constructors in C++. |\n"
   ]
  }
 ],
 "metadata": {
  "language_info": {
   "name": "python"
  }
 },
 "nbformat": 4,
 "nbformat_minor": 2
}
