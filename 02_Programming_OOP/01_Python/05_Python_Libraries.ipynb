{
 "cells": [
  {
   "cell_type": "markdown",
   "metadata": {},
   "source": [
    "[Data Analysis with Python Course - Numpy, Pandas, Data Visualization\n",
    "](https://www.youtube.com/watch?v=GPVsHOlRBBI)\n",
    "\n",
    "[Data Analysis with Python - Full Course for Beginners (Numpy, Pandas, Matplotlib, Seaborn)\n",
    "](https://www.youtube.com/watch?v=r-uOLxNrNk8)\n",
    "\n",
    "[Data Analysis with Python: Zero to Pandas](https://jovian.ai/learn/data-analysis-with-python-zero-to-pandas)"
   ]
  },
  {
   "cell_type": "markdown",
   "metadata": {},
   "source": [
    "Python supports the following arithmetic operators:\n",
    "\n",
    "| Operator   | Purpose           | Example     | Result    |\n",
    "|------------|-------------------|-------------|-----------|\n",
    "| `+`        | Addition          | `2 + 3`     | `5`       |\n",
    "| `-`        | Subtraction       | `3 - 2`     | `1`       |\n",
    "| `*`        | Multiplication    | `8 * 12`    | `96`      |\n",
    "| `/`        | Division          | `100 / 7`   | `14.28..` |\n",
    "| `//`       | Floor Division    | `100 // 7`  | `14`      |    \n",
    "| `%`        | Modulus/Remainder | `100 % 7`   | `2`       |\n",
    "| `**`       | Exponent          | `5 ** 3`    | `125`     |\n",
    "\n",
    "\n",
    "Evaluating conditions using Python:\n",
    "Apart from arithmetic operations, Python also provides several operations for comparing numbers & variables.\n",
    "\n",
    "| Operator    | Description                                                     |\n",
    "|-------------|-----------------------------------------------------------------|\n",
    "| `==`        | Check if operands are equal                                     |\n",
    "| `!=`        | Check if operands are not equal                                 |\n",
    "| `>`         | Check if left operand is greater than right operand             |\n",
    "| `<`         | Check if left operand is less than right operand                |\n",
    "| `>=`        | Check if left operand is greater than or equal to right operand |\n",
    "| `<=`        | Check if left operand is less than or equal to right operand    |\n",
    "\n"
   ]
  },
  {
   "cell_type": "code",
   "execution_count": null,
   "metadata": {},
   "outputs": [],
   "source": [
    "x = 6\n",
    "not x == 6\n",
    "not False\n",
    "( 2 >= 1 and 1 >= 1) or not (1 and True)\n",
    "1 and True or  0 or False and 1\n"
   ]
  },
  {
   "cell_type": "markdown",
   "metadata": {},
   "source": [
    "# Numpy"
   ]
  },
  {
   "cell_type": "markdown",
   "metadata": {},
   "source": [
    "**Benefits of using Numpy arrays**\n",
    "\n",
    "Numpy arrays offer the following benefits over Python lists for operating on numerical data:\n",
    "\n",
    " - Ease of use: You can write small, concise, and intuitive mathematical expressions like (kanto * weights).sum() rather than using loops & custom functions like crop_yield.\n",
    " - Performance: Numpy operations and functions are implemented internally in C++, which makes them much faster than using Python statements & loops that are interpreted at runtime"
   ]
  },
  {
   "cell_type": "code",
   "execution_count": null,
   "metadata": {},
   "outputs": [],
   "source": [
    "\n",
    "w1, w2, w3 = 0.3, 0.2, 0.5\n",
    "kanto = [73, 67, 43]\n",
    "johto = [91, 88, 64]\n",
    "hoenn = [87, 134, 58]\n",
    "sinnoh = [102, 43, 37]\n",
    "unova = [69, 96, 70]\n",
    "weights = [w1, w2, w3]\n",
    "\n",
    "def crop_yield(region, weights):\n",
    "    result =0\n",
    "    for x,w in zip(region , weights):\n",
    "        result += x*w\n",
    "    return result\n",
    "crop_yield(kanto, weights)\n"
   ]
  },
  {
   "cell_type": "code",
   "execution_count": 29,
   "metadata": {},
   "outputs": [],
   "source": [
    "import numpy as np\n",
    "\n",
    "kanro = np.array([12,43,12])\n",
    "kanto\n",
    "weight = np.array([w1,w2,w3])\n",
    "weight\n",
    "type(kanto)\n",
    "dir(kanto)\n",
    "weight[0]\n",
    "np.dot(kanto, weight)\n",
    "# The * operator performs an element-wise multiplication of two arrays if they have the same size. The sum method calculates the sum of numbers in an array.\n",
    "(kanto * weight).sum()\n",
    "arr1 = np.array([1,2,4])\n",
    "arr2 = np.array([6,4,1])\n",
    "arr1 * arr2\n",
    "arr2.sum()\n",
    "\n",
    "# Python lists\n",
    "arr1 = list(range(1000000))\n",
    "arr2 = list(range(1000000, 2000000))\n",
    "\n",
    "# Numpy arrays\n",
    "arr1_np = np.array(arr1)\n",
    "arr2_np = np.array(arr2)\n"
   ]
  },
  {
   "cell_type": "code",
   "execution_count": null,
   "metadata": {},
   "outputs": [],
   "source": [
    "%%time\n",
    "result = 0 \n",
    "for x1 , x2 in zip(arr1, arr2):\n",
    "    result += x1*x2\n"
   ]
  },
  {
   "cell_type": "code",
   "execution_count": null,
   "metadata": {},
   "outputs": [],
   "source": [
    "%%time\n",
    "np.dot(arr1, arr2)\n"
   ]
  },
  {
   "cell_type": "code",
   "execution_count": null,
   "metadata": {},
   "outputs": [],
   "source": [
    "%%time\n",
    "np.dot(arr1_np, arr2_np)\n"
   ]
  },
  {
   "cell_type": "code",
   "execution_count": null,
   "metadata": {},
   "outputs": [],
   "source": [
    "# Multi-dimensional Numpy arrays\n",
    "\n",
    "climate = np.array([[1,2,3],\n",
    "            [2,3,4],\n",
    "            [7,3,6]])\n",
    "climate.shape\n",
    "weight\n",
    "weight.shape\n",
    "climate_3D = np.array([[[1,2,3],[1,2,3]],\n",
    "                       [[1,2,3],[1,2,3]]])\n",
    "climate_3D.shape\n",
    "climate_3D.dtype\n",
    "climate_3D = np.array([[[1.1,2,3],[1,2,3]],\n",
    "                       [[1,2,3],[1,2,3]]])\n",
    "vector = np.array([1,2,3])\n",
    "climate_3D.dtype\n",
    "\n",
    "vector @ climate\n",
    "climate @ vector\n",
    "np.matmul(vector, climate)\n"
   ]
  },
  {
   "cell_type": "code",
   "execution_count": null,
   "metadata": {},
   "outputs": [],
   "source": [
    "# Working with CSV data files\n",
    "\n",
    "import urllib.request\n",
    "\n",
    "destination_path = '/media/ferganey/Data/00_Main_Folder/Shared_For_ALL/climate.txt'  # Replace with your desired path\n",
    "\n",
    "urllib.request.urlretrieve(\n",
    "    'https://gist.github.com/BirajCoder/a4ffcb76fd6fb221d76ac2ee2b8584e9/raw/4054f90adfd361b7aa4255e99c2e874664094cea/climate.csv', \n",
    "    destination_path\n",
    ")\n",
    "# To read this file into a numpy array, we can use the genfromtxt function.\n",
    "climate_data = np.genfromtxt(destination_path, delimiter=',', skip_header=1)\n",
    "print(climate_data)\n",
    "climate_data.shape\n",
    "weights = np.array([0.3, 0.2, 0.5])\n",
    "print(\"yields\")\n",
    "yields = climate_data @ weights\n",
    "print(yields)\n",
    "\n"
   ]
  },
  {
   "attachments": {
    "image.png": {
     "image/png": "[encoded data removed]"
    }
   },
   "cell_type": "markdown",
   "metadata": {},
   "source": [
    " - Since we wish to add new columns, we pass the argument axis=1 to np.concatenate. The axis argument specifies the dimension for concatenation.\n",
    "\n",
    " - The arrays should have the same number of dimensions, and the same length along each except the dimension used for concatenation. We use the np.reshape function to change the shape of yields from (10000,) to (10000,1).\n",
    "\n",
    "![image.png](attachment:image.png)"
   ]
  },
  {
   "cell_type": "code",
   "execution_count": null,
   "metadata": {},
   "outputs": [],
   "source": [
    "print(yields.shape)\n",
    "print(climate_data.shape)\n",
    "print(yields.reshape(10000,1))\n",
    "climate_results = np.concatenate((climate_data, yields.reshape(10000, 1)), axis=1)\n",
    "print(climate_results)\n",
    "\n",
    "\n",
    "# The results are written back in the CSV format to the file climate_results.txt.\n",
    "\n",
    "np.savetxt('/media/ferganey/Data/00_Main_Folder/Shared_For_ALL/climate_results.txt', climate_results, delimiter=',', fmt='%.18e', newline='\\n', header='temperature,rainfall,humidity,yeild_apples', comments='')\n",
    "\n"
   ]
  },
  {
   "cell_type": "markdown",
   "metadata": {},
   "source": [
    " - **Mathematics:** np.sum, np.exp, np.round, arithemtic operators\n",
    " - **Array manipulation:** np.reshape, np.stack, np.concatenate, np.split\n",
    " - **Linear Algebra:** np.matmul, np.dot, np.transpose, np.eigvals\n",
    " - **Statistics:** np.mean, np.median, np.std, np.max"
   ]
  },
  {
   "cell_type": "code",
   "execution_count": null,
   "metadata": {},
   "outputs": [],
   "source": [
    "# Arithmetic operations, broadcasting and comparison\n",
    "\n",
    "arr2 = np.array([[1, 2, 3, 4], \n",
    "                 [5, 6, 7, 8], \n",
    "                 [9, 1, 2, 3]])\n",
    "print(arr2[0][:])\n",
    "print(arr2[0][0])\n",
    "print(arr2[1][2])\n",
    "\n",
    "arr3 = np.array([[11, 12, 13, 14], \n",
    "                 [15, 16, 17, 18], \n",
    "                 [19, 11, 12, 13]])\n",
    "\n",
    "\n",
    "print(arr2)\n",
    "\n",
    "# In NumPy, when you perform an operation like adding a scalar to an array \n",
    "# (e.g., arr2 + 3), it creates a new array with the result of that operation. \n",
    "# The original array remains unchanged\n",
    "arr2 +2\n",
    "arr2\n",
    "\n",
    "arr4 = arr2+2\n",
    "arr4\n",
    "\n",
    "arr2 / 2\n",
    "arr2\n",
    "# Element-wise multiplication\n",
    "arr2 * arr3 \n",
    "\n",
    "# Modulus with scalar\n",
    "print(arr2)\n",
    "print((arr2 % 4))\n",
    "\n",
    "# Array Broadcasting\n",
    "\"\"\" \n",
    "Array broadcasting is a powerful feature in NumPy that allows you to \n",
    "perform arithmetic operations on arrays of different shapes. When the \n",
    "shapes of the arrays do not match, NumPy automatically expands the \n",
    "smaller array across the larger array so that they can be combined \n",
    "element-wise.\n",
    "\"\"\"\n",
    "arr2 = np.array([[1, 2, 3, 4], \n",
    "                 [5, 6, 7, 8], \n",
    "                 [9, 1, 2, 3]])\n",
    "\n",
    "arr4 = np.array([4, 5, 6, 7])\n",
    "print(arr4.shape)\n",
    "print(arr2.shape)\n",
    "print(arr2 + arr4)\n",
    "\n",
    "\n",
    "\n",
    "\n",
    "\n",
    "\n",
    "\n",
    "\n",
    "\n"
   ]
  },
  {
   "cell_type": "markdown",
   "metadata": {},
   "source": [
    "When the expression `arr2 + arr4` is evaluated, `arr4` (which has the shape `(4,)`) is replicated three times to match the shape `(3, 4)` of `arr2`. Numpy performs the replication without actually creating three copies of the smaller dimension array, thus improving performance and using lower memory.\n",
    "\n",
    "<img src=\"https://jakevdp.github.io/PythonDataScienceHandbook/figures/02.05-broadcasting.png\" width=\"360\">\n",
    "\n",
    "Broadcasting only works if one of the arrays can be replicated to match the other array's shape."
   ]
  },
  {
   "cell_type": "code",
   "execution_count": null,
   "metadata": {},
   "outputs": [],
   "source": [
    "arr5 = np.array([7,8])\n",
    "arr5.shape\n",
    "\n",
    "# arr2 + arr5\n",
    "\n",
    "# Array Comparison\n",
    "\n",
    "arr1 = np.array([[1,2,3],[2,3,6]])\n",
    "arr2 = np.array([[1,2,3],[2,3,6]])\n",
    "arr1 == arr2\n",
    "arr1 != arr2\n",
    "\n",
    "arr1 = np.array([[1,4,3],[7,8,6]])\n",
    "arr2 = np.array([[1,2,3],[2,3,6]])\n",
    "arr1 == arr2\n",
    "arr1 != arr2\n",
    "arr1 >= arr2\n",
    "\"\"\"  \n",
    "Array comparison is frequently used to count the number of equal elements \n",
    "in two arrays using the `sum` method. Remember that `True` evaluates to `1` \n",
    "and `False` evaluates to `0` when booleans are used in arithmetic operations.\n",
    "\"\"\"\n",
    "(arr1 == arr2).sum()\n",
    "arr3 = np.array([1,1,0])\n",
    "arr3.sum()\n",
    "\n",
    "\n",
    "# Array indexing and slicing\n",
    "arr3 = np.array([\n",
    "    [[11, 12, 13, 14], \n",
    "     [13, 14, 15, 19]], \n",
    "    \n",
    "    [[15, 16, 17, 21], \n",
    "     [63, 92, 36, 18]], \n",
    "    \n",
    "    [[98, 32, 81, 23],      \n",
    "     [17, 18, 19.5, 43]]\n",
    "     ])\n",
    "\n",
    "arr3.shape\n",
    "\"\"\"\n",
    "The first dimension (3) refers to the number of matrices (slices).\n",
    "The second dimension (2) refers to the number of rows in each matrix.\n",
    "The third dimension (4) refers to the number of columns in each matrix.\n",
    " \"\"\"\n",
    "\n",
    "arr3[1][1][1]\n",
    "arr3[1,1,1]\n",
    "# Subarray using ranges\n",
    "arr3[1:, 0:1, :2]\n",
    "\n",
    "# Mixing indices and ranges\n",
    "arr3[1:, 1, 3]\n",
    "\n",
    "arr5 = np.array([7,8])\n",
    "arr5.shape\n",
    "\n",
    "# arr2 + arr5\n",
    "\n",
    "# Array Comparison\n",
    "\n",
    "arr1 = np.array([[1,2,3],[2,3,6]])\n",
    "arr2 = np.array([[1,2,3],[2,3,6]])\n",
    "arr1 == arr2\n",
    "arr1 != arr2\n",
    "\n",
    "arr1 = np.array([[1,4,3],[7,8,6]])\n",
    "arr2 = np.array([[1,2,3],[2,3,6]])\n",
    "arr1 == arr2\n",
    "arr1 != arr2\n",
    "arr1 >= arr2\n",
    "\"\"\"  \n",
    "Array comparison is frequently used to count the number of equal elements \n",
    "in two arrays using the `sum` method. Remember that `True` evaluates to `1` \n",
    "and `False` evaluates to `0` when booleans are used in arithmetic operations.\n",
    "\"\"\"\n",
    "(arr1 == arr2).sum()\n",
    "arr3 = np.array([1,1,0])\n",
    "arr3.sum()\n",
    "\n",
    "\n",
    "# Array indexing and slicing\n",
    "arr3 = np.array([\n",
    "    [[11, 12, 13, 14], \n",
    "     [13, 14, 15, 19]], \n",
    "    \n",
    "    [[15, 16, 17, 21], \n",
    "     [63, 92, 36, 18]], \n",
    "    \n",
    "    [[98, 32, 81, 23],      \n",
    "     [17, 18, 19.5, 43]]\n",
    "     ])\n",
    "\n",
    "arr3.shape\n",
    "\"\"\"\n",
    "The first dimension (3) refers to the number of matrices (slices).\n",
    "The second dimension (2) refers to the number of rows in each matrix.\n",
    "The third dimension (4) refers to the number of columns in each matrix.\n",
    " \"\"\"\n",
    "\n",
    "arr3[1][1][1]\n",
    "arr3[1,1,1]\n",
    "# Subarray using ranges\n",
    "arr3[1:, 0:1, :2]\n",
    "\n",
    "# Mixing indices and ranges\n",
    "arr3[1:, 1, 3]\n",
    "arr3[1:, 1, :3]\n",
    "\n",
    "\n",
    "arr5 = np.array([7,8])\n",
    "arr5.shape\n",
    "\n",
    "# arr2 + arr5\n",
    "\n",
    "# Array Comparison\n",
    "\n",
    "arr1 = np.array([[1,2,3],[2,3,6]])\n",
    "arr2 = np.array([[1,2,3],[2,3,6]])\n",
    "arr1 == arr2\n",
    "arr1 != arr2\n",
    "\n",
    "arr1 = np.array([[1,4,3],[7,8,6]])\n",
    "arr2 = np.array([[1,2,3],[2,3,6]])\n",
    "arr1 == arr2\n",
    "arr1 != arr2\n",
    "arr1 >= arr2\n",
    "\"\"\"  \n",
    "Array comparison is frequently used to count the number of equal elements \n",
    "in two arrays using the `sum` method. Remember that `True` evaluates to `1` \n",
    "and `False` evaluates to `0` when booleans are used in arithmetic operations.\n",
    "\"\"\"\n",
    "(arr1 == arr2).sum()\n",
    "arr3 = np.array([1,1,0])\n",
    "arr3.sum()\n",
    "\n",
    "\n",
    "# Array indexing and slicing\n",
    "arr3 = np.array([\n",
    "    [[11, 12, 13, 14], \n",
    "     [13, 14, 15, 19]], \n",
    "    \n",
    "    [[15, 16, 17, 21], \n",
    "     [63, 92, 36, 18]], \n",
    "    \n",
    "    [[98, 32, 81, 23],      \n",
    "     [17, 18, 19.5, 43]]\n",
    "     ])\n",
    "\n",
    "arr3.shape\n",
    "\"\"\"\n",
    "The first dimension (3) refers to the number of matrices (slices).\n",
    "The second dimension (2) refers to the number of rows in each matrix.\n",
    "The third dimension (4) refers to the number of columns in each matrix.\n",
    " \"\"\"\n",
    "\n",
    "arr3[1][1][1]\n",
    "arr3[1,1,1]\n",
    "# Subarray using ranges\n",
    "arr3[1:, 0:1, :2]\n",
    "\n",
    "# Mixing indices and ranges\n",
    "arr3[1:, 1, 3]\n",
    "arr3[1:, 1, :3]\n",
    "\n",
    "\n",
    "arr3 = np.array([\n",
    "    [[11, 12, 13, 14], \n",
    "     [13, 14, 15, 19]], \n",
    "    \n",
    "    [[15, 16, 17, 21], \n",
    "     [63, 92, 36, 18]], \n",
    "    \n",
    "    [[98, 32, 81, 23],      \n",
    "     [17, 18, 19.5, 43]]\n",
    "     ])\n",
    "arr3[1:, 1, 0:3]\n",
    "arr3[1]\n",
    "\n",
    "\n",
    "\n"
   ]
  },
  {
   "cell_type": "code",
   "execution_count": null,
   "metadata": {},
   "outputs": [],
   "source": []
  },
  {
   "cell_type": "code",
   "execution_count": null,
   "metadata": {},
   "outputs": [],
   "source": [
    "# Other ways of creating Numpy arrays\n",
    "\n",
    "np.zeros((3,2))\n",
    "np.ones((4,4))\n",
    "\n",
    "np.eye(4,4)\n",
    "np.eye(3,4)\n",
    "# Random vector\n",
    "np.random.rand(5)\n",
    "np.random.randn(2,3)\n",
    "# Fixed value\n",
    "np.full([2,3],7)\n",
    "print(np.arange(10,90,4))\n",
    "print(np.random.rand(20))\n",
    "# Equally spaced numbers in a range\n",
    "np.linspace(10,100,9)"
   ]
  },
  {
   "cell_type": "markdown",
   "metadata": {},
   "source": [
    "# Pandas"
   ]
  },
  {
   "cell_type": "markdown",
   "metadata": {},
   "source": [
    "![](https://i.imgur.com/zfxLzEv.png)\n",
    "\n"
   ]
  },
  {
   "cell_type": "code",
   "execution_count": 39,
   "metadata": {},
   "outputs": [],
   "source": [
    "import pandas as pd\n",
    "from urllib.request import urlretrieve\n"
   ]
  },
  {
   "cell_type": "code",
   "execution_count": null,
   "metadata": {},
   "outputs": [],
   "source": [
    "italy_covid_url = 'https://gist.githubusercontent.com/aakashns/f6a004fa20c84fec53262f9a8bfee775/raw/f309558b1cf5103424cef58e2ecb8704dcd4d74c/italy-covid-daywise.csv'\n",
    "\n",
    "urlretrieve(italy_covid_url, '/media/ferganey/Data/00_Main_Folder/Shared_For_ALL/italy-covid-daywise.csv')\n",
    "sourcepath = '/media/ferganey/Data/00_Main_Folder/Shared_For_ALL/italy-covid-daywise.csv'\n",
    "covid_df = pd.read_csv(sourcepath)\n",
    "covid_df\n",
    "type(covid_df)\n",
    "covid_df.info()\n",
    "covid_df.describe()\n",
    "covid_df.columns\n",
    "len(covid_df.columns)\n",
    "covid_df.shape\n"
   ]
  },
  {
   "cell_type": "code",
   "execution_count": null,
   "metadata": {},
   "outputs": [],
   "source": [
    "# Retrieving data from a data frame\n",
    "\n",
    "# Pandas format is not similar to this\n",
    "covid_data_list = [\n",
    "    {'date': '2020-08-30', 'new_cases': 1444, 'new_deaths': 1, 'new_tests': 53541},\n",
    "    {'date': '2020-08-31', 'new_cases': 1365, 'new_deaths': 4, 'new_tests': 42583},\n",
    "    {'date': '2020-09-01', 'new_cases': 996, 'new_deaths': 6, 'new_tests': 54395},\n",
    "    {'date': '2020-09-02', 'new_cases': 975, 'new_deaths': 8 },\n",
    "    {'date': '2020-09-03', 'new_cases': 1326, 'new_deaths': 6},\n",
    "]\n",
    "\n",
    "print(type(covid_data_list))\n",
    "\n",
    "# Pandas format is simliar to this\n",
    "covid_data_dict = {\n",
    "    'date':       ['2020-08-30', '2020-08-31', '2020-09-01', '2020-09-02', '2020-09-03'],\n",
    "    'new_cases':  [1444, 1365, 996, 975, 1326],\n",
    "    'new_deaths': [1, 4, 6, 8, 6],\n",
    "    'new_tests': [53541, 42583, 54395, None, None]\n",
    "}\n",
    "\n",
    "print(type(covid_data_dict))\n",
    "\n",
    "print(covid_data_dict['new_cases'])\n",
    "covid_df['new_cases']\n",
    "\n",
    "type(covid_df['new_cases'])\n",
    "\n",
    "covid_df['new_cases'][len(covid_df['new_cases'])-1]\n",
    "last_element = covid_df['new_cases'].iloc[-1]\n",
    "last_element\n"
   ]
  },
  {
   "cell_type": "code",
   "execution_count": null,
   "metadata": {},
   "outputs": [],
   "source": [
    "%%time\n",
    "last_element_len = covid_df['new_cases'][len(covid_df['new_cases'])-1]\n",
    "last_element_len"
   ]
  },
  {
   "cell_type": "code",
   "execution_count": null,
   "metadata": {},
   "outputs": [],
   "source": [
    "%%time\n",
    "last_element_iloc = covid_df['new_cases'].iloc[-1]\n",
    "last_element_iloc"
   ]
  },
  {
   "cell_type": "code",
   "execution_count": null,
   "metadata": {},
   "outputs": [],
   "source": [
    "# Pandas also provides the .at method to retrieve the element at a specific row & column directly.\n",
    "\n",
    "covid_df.at[246, 'new_cases']\n",
    "covid_df.at[240, 'new_cases']\n",
    "covid_df.at[247, 'new_cases']\n",
    "# Further, you can also pass a list of columns within the \n",
    "# indexing notation [] to access a subset of the data frame\n",
    "# with just the given columns.\n",
    "cases_Df = covid_df[['new_cases','new_tests']]\n",
    "cases_Df\n",
    "covid_df_copy = covid_df.copy()\n",
    "covid_df_copy\n",
    "covid_df_copy.loc[247]\n",
    "type(covid_df_copy.loc[247])\n",
    "covid_df_copy.head()\n",
    "covid_df_copy.head(5)\n",
    "covid_df_copy.tail(5)\n",
    "\n",
    "covid_df_copy.at[243,'new_tests']\n",
    "\n",
    "covid_df.at[0, 'new_tests']\n",
    "type(covid_df.at[0, 'new_tests'])\n",
    "# We can find the first index that doesn't contain a NaN value \n",
    "# using a column's first_valid_index method.\n",
    "covid_df.new_tests.first_valid_index()\n",
    "print(covid_df.loc[108:113])\n",
    "covid_df.sample()\n",
    "covid_df.sample(10)\n",
    "\n",
    "\n"
   ]
  },
  {
   "cell_type": "markdown",
   "metadata": {},
   "source": [
    "Here's a summary of the functions & methods we looked at in this section:\n",
    "\n",
    "- `covid_df['new_cases']` - Retrieving columns as a `Series` using the column name\n",
    "- `new_cases[243]` - Retrieving values from a `Series` using an index\n",
    "- `covid_df.at[243, 'new_cases']` - Retrieving a single value from a data frame\n",
    "- `covid_df.copy()` - Creating a deep copy of a data frame\n",
    "- `covid_df.loc[243]` - Retrieving a row or range of rows of data from the data frame\n",
    "- `head`, `tail`, and `sample` - Retrieving multiple rows of data from the data frame\n",
    "- `covid_df.new_tests.first_valid_index` - Finding the first non-empty index in a series\n"
   ]
  },
  {
   "cell_type": "code",
   "execution_count": null,
   "metadata": {},
   "outputs": [],
   "source": [
    "# Analyzing data from data frames\n",
    "\n",
    "total_cases = covid_df.new_cases.sum()\n",
    "total_deaths = covid_df.new_deaths.sum()\n",
    "print('The number of reported cases is {} and the number of reported deaths is {}.'.format(int(total_cases), int(total_deaths)))\n"
   ]
  },
  {
   "cell_type": "code",
   "execution_count": null,
   "metadata": {},
   "outputs": [],
   "source": [
    "# Querying and sorting rows\n",
    "\n",
    "highnewcases = covid_df.new_cases > 1000\n",
    "print(type(highnewcases))\n",
    "print(len(highnewcases))\n",
    "print(highnewcases)\n",
    "print(covid_df[highnewcases])\n",
    "\n",
    "high_cases_df = covid_df[covid_df.new_cases > 1000]\n",
    "print(type(high_cases_df))\n",
    "\n",
    "len(high_cases_df)\n",
    "\n",
    "\n",
    "\n"
   ]
  },
  {
   "cell_type": "code",
   "execution_count": null,
   "metadata": {},
   "outputs": [],
   "source": [
    "# from IPython.display import display\n",
    "# with pd.option_context('display.max_rows', 100):\n",
    "#     display(covid_df[covid_df.new_cases > 1000])\n",
    "\n",
    "total_cases = covid_df.new_cases.sum()\n",
    "total_deaths = covid_df.new_deaths.sum()\n",
    "initial_tests = 935310\n",
    "total_tests = initial_tests + covid_df.new_tests.sum()\n",
    "\n",
    "death_rate = covid_df.new_deaths.sum() / covid_df.new_cases.sum()\n",
    "positive_rate = total_cases / total_tests\n",
    "positive_rate"
   ]
  },
  {
   "cell_type": "code",
   "execution_count": null,
   "metadata": {},
   "outputs": [],
   "source": [
    "\"\"\"\n",
    "let's try to determine the days when the ratio of cases reported \n",
    "to tests conducted is higher than the overall positive_rate.\n",
    "\"\"\"\n"
   ]
  },
  {
   "cell_type": "code",
   "execution_count": null,
   "metadata": {},
   "outputs": [],
   "source": [
    "%%time\n",
    "covid_df.loc[(covid_df.new_cases)  / (covid_df.new_tests) > positive_rate]\n"
   ]
  },
  {
   "cell_type": "code",
   "execution_count": null,
   "metadata": {},
   "outputs": [],
   "source": [
    "%%time\n",
    "high_ratio_df = covid_df[covid_df.new_cases / covid_df.new_tests > positive_rate]\n"
   ]
  },
  {
   "cell_type": "code",
   "execution_count": null,
   "metadata": {},
   "outputs": [],
   "source": [
    "# The result of performing an operation on two columns is a new series.\n",
    "covid_df['positive_rate'] = covid_df.new_cases / covid_df.new_tests\n",
    "covid_df\n",
    "covid_df['final_result'] = covid_df.positive_rate > positive_rate\n",
    "print(sum(covid_df['final_result'] == True))\n",
    "print(covid_df['final_result'])\n",
    "true_indices = covid_df.index[covid_df['final_result']].tolist()\n",
    "print(true_indices)\n",
    "print(covid_df.loc[covid_df['final_result'] == True])\n",
    "\n",
    "covid_df.drop(columns='positive_rate', inplace=True)\n",
    "covid_df"
   ]
  },
  {
   "cell_type": "code",
   "execution_count": null,
   "metadata": {},
   "outputs": [],
   "source": [
    "# Sorting rows using column values\n",
    "print(covid_df.sort_values('new_cases', ascending=False).head(10))\n",
    "print(covid_df.sort_values('new_deaths', ascending=False).head(10))\n",
    "\n",
    "# It appears that daily deaths hit a peak just about a week after \n",
    "# the peak in daily new cases.\n",
    "covid_df.sort_values('new_cases').head(10)\n",
    "\n"
   ]
  },
  {
   "cell_type": "code",
   "execution_count": null,
   "metadata": {},
   "outputs": [],
   "source": [
    "print(covid_df.loc[169:175])\n",
    "covid_df.at[172, 'new_cases'] = (covid_df.at[171, 'new_cases'] + covid_df.at[173, 'new_cases'])/2\n",
    "covid_df.loc[169:175]\n"
   ]
  },
  {
   "cell_type": "code",
   "execution_count": null,
   "metadata": {},
   "outputs": [],
   "source": [
    "# Working with dates\n",
    "print(covid_df.date)\n",
    "\"\"\"\n",
    "The data type of date is currently object, so Pandas does not know that \n",
    "this column is a date. We can convert it into a datetime column using \n",
    "the pd.to_datetime method.\n",
    "\"\"\"\n",
    "type(covid_df.date)\n",
    "covid_df['date'] = pd.to_datetime(covid_df.date)\n",
    "print(covid_df.date)\n",
    "\n",
    "\"\"\"     \n",
    "You can see that it now has the datatype datetime64. We can now extract \n",
    "different parts of the data into separate columns, using the DatetimeIndex\n",
    " class (view docs).\n",
    "\"\"\"\n",
    "covid_df['year']   =covid_df['date'].dt.year \n",
    "covid_df['month']  =covid_df['date'].dt.month \n",
    "covid_df['day']    =covid_df['date'].dt.day \n",
    "covid_df['weekday']=covid_df['date'].dt.weekday \n",
    "covid_df"
   ]
  },
  {
   "cell_type": "code",
   "execution_count": null,
   "metadata": {},
   "outputs": [],
   "source": [
    "covid_df_may = covid_df[covid_df.month == 5]\n",
    "covid_df_may\n",
    "covid_df_may_metrics = covid_df_may[['new_cases','new_deaths','new_tests','month']]\n",
    "covid_df_may_metrics\n",
    "covid_may_totals = covid_df_may_metrics.sum()\n",
    "covid_may_totals\n",
    "print(type(covid_may_totals))\n",
    "print(type(covid_df_may_metrics))\n",
    "covid_may_totals\n",
    "covid_df[covid_df.month == 5][['new_cases', 'new_deaths', 'new_tests']].sum()\n",
    "\n",
    "covid_df.new_cases.mean()\n",
    "covid_df[covid_df.weekday == 6].new_cases.mean()\n",
    "\n",
    "\n"
   ]
  },
  {
   "cell_type": "code",
   "execution_count": null,
   "metadata": {},
   "outputs": [],
   "source": [
    "# Grouping and aggregation\n",
    "\"\"\" \n",
    "As a next step, we might want to summarize the day-wise data and create \n",
    "a new dataframe with month-wise data. We can use the groupby function to \n",
    "create a group for each month, select the columns we wish to aggregate, \n",
    "and aggregate them using the sum method.\n",
    "\"\"\"\n",
    "covid_month_df = covid_df.groupby('month')[['new_cases', 'new_deaths', 'new_tests']].sum()\n",
    "covid_month_df\n",
    "covid_month_df = covid_df.groupby('month')[['new_cases', 'new_deaths', 'new_tests']].mean()\n",
    "covid_month_df\n",
    "print(covid_df)\n",
    "covid_df['total_cases'] = covid_df.new_cases.cumsum()\n",
    "covid_df['new_deaths'] = covid_df.new_deaths.cumsum()\n",
    "covid_df['total_tests'] = covid_df.new_tests.cumsum()\n",
    "covid_df['total_deaths'] = covid_df.new_deaths.cumsum()\n",
    "covid_df"
   ]
  },
  {
   "cell_type": "code",
   "execution_count": null,
   "metadata": {},
   "outputs": [],
   "source": [
    "# Merging data from multiple sources\n",
    "\n",
    "urlretrieve('https://gist.githubusercontent.com/aakashns/8684589ef4f266116cdce023377fc9c8/raw/99ce3826b2a9d1e6d0bde7e9e559fc8b6e9ac88b/locations.csv', \n",
    "            '/media/ferganey/Data/00_Main_Folder/Shared_For_ALL/locations.csv')\n",
    "locations_df = pd.read_csv('/media/ferganey/Data/00_Main_Folder/Shared_For_ALL/locations.csv')\n",
    "locations_df\n",
    "locations_df['location']\n",
    "locations_df[locations_df.location == 'Italy']\n",
    "\n",
    "\"\"\"   \n",
    "We can merge this data into our existing data frame by adding more columns. \n",
    "However, to merge two data frames, we need at least one common column. \n",
    "Let's insert a location column in the covid_df dataframe with all values \n",
    "set to \"Italy\".\n",
    "\n",
    "\"\"\"\n",
    "covid_df['location'] = \"Italy\"\n",
    "covid_df\n",
    "\n",
    "merged_df = covid_df.merge(locations_df, on='location')\n",
    "merged_df\n",
    "\n",
    "# We can now calculate metrics like cases per million, deaths per million, and tests per million.\n",
    "\"\"\"  \n",
    "Per Million Calculation:\n",
    "\n",
    "When you want to express a quantity relative to a certain scale (in this case, per million), you need to adjust the number accordingly.\n",
    "By multiplying total_cases by 1e6, you are scaling the total cases up to represent how many cases would exist in a population of one million people.\n",
    "\"\"\"\n",
    "merged_df['cases_per_million'] = merged_df['total_cases']* 1e6 / merged_df['population']\n",
    "merged_df\n",
    "# merged_df['deaths_per_million'] = merged_df.total_deaths * 1e6 / merged_df.population\n",
    "# merged_df['tests_per_million'] = merged_df.total_tests * 1e6 / merged_df.population\n",
    "\n",
    "\n"
   ]
  },
  {
   "cell_type": "code",
   "execution_count": null,
   "metadata": {},
   "outputs": [],
   "source": [
    "# Writing data back to files\n",
    "\n",
    "\n",
    "\"\"\"  \n",
    "After completing your analysis and adding new columns, \n",
    "you should write the results back to a file. Otherwise, \n",
    "the data will be lost when the Jupyter notebook shuts down. \n",
    "Before writing to file, let us first create a data frame containing \n",
    "just the columns we wish to record.\n",
    "\"\"\"\n",
    "result_df = merged_df[['date',\n",
    "                       'new_cases', \n",
    "                       'total_cases', \n",
    "                       'new_deaths', \n",
    "                       'new_tests', \n",
    "                       'total_tests', \n",
    "                       'total_deaths',\n",
    "                       'cases_per_million']]\n",
    "\n",
    "result_df\n",
    "result_df.to_csv('/media/ferganey/Data/00_Main_Folder/Shared_For_ALL/result_df.csv', index=None)\n",
    "result_df"
   ]
  },
  {
   "cell_type": "code",
   "execution_count": null,
   "metadata": {},
   "outputs": [],
   "source": [
    "# Basic Plotting with Pandas\n",
    "\n",
    "result_df.new_cases.plot()\n",
    "\n",
    "\n"
   ]
  },
  {
   "cell_type": "code",
   "execution_count": 60,
   "metadata": {},
   "outputs": [],
   "source": [
    "result_df.set_index('date', inplace=True)"
   ]
  },
  {
   "cell_type": "code",
   "execution_count": null,
   "metadata": {},
   "outputs": [],
   "source": [
    "result_df"
   ]
  },
  {
   "cell_type": "code",
   "execution_count": null,
   "metadata": {},
   "outputs": [],
   "source": [
    "result_df.loc['2020-09-01']\n",
    "result_df.new_cases.plot()"
   ]
  },
  {
   "cell_type": "code",
   "execution_count": null,
   "metadata": {},
   "outputs": [],
   "source": [
    "# will be continous cause it is caummulative not discrete\n",
    "result_df.total_cases.plot()\n",
    "result_df.total_deaths.plot()\n",
    "result_df.total_tests.plot()\n"
   ]
  },
  {
   "cell_type": "code",
   "execution_count": null,
   "metadata": {},
   "outputs": [],
   "source": [
    "death_rate = result_df.total_deaths / result_df.total_cases\n",
    "\n",
    "death_rate.plot(title='Death Rate');\n"
   ]
  },
  {
   "cell_type": "code",
   "execution_count": null,
   "metadata": {},
   "outputs": [],
   "source": [
    "positive_rates = result_df.total_cases / result_df.total_tests\n",
    "positive_rates.plot(title='Positive Rate');"
   ]
  },
  {
   "cell_type": "code",
   "execution_count": null,
   "metadata": {},
   "outputs": [],
   "source": [
    "covid_month_df.new_cases.plot(kind='bar');\n"
   ]
  },
  {
   "cell_type": "markdown",
   "metadata": {},
   "source": [
    "# Data Visualization with Matplotlib and seaborn"
   ]
  },
  {
   "attachments": {
    "image.png": {
     "image/png": "[encoded data removed]"
    }
   },
   "cell_type": "markdown",
   "metadata": {},
   "source": [
    "![image.png](attachment:image.png)"
   ]
  },
  {
   "cell_type": "code",
   "execution_count": null,
   "metadata": {},
   "outputs": [],
   "source": [
    "import matplotlib\n",
    "import matplotlib.pyplot as plt\n",
    "import seaborn as sns\n",
    "%matplotlib inline\n",
    "\"\"\"  \n",
    "Notice this we also include the special command %matplotlib inline to \n",
    "ensure that our plots are shown and embedded within the Jupyter notebook itself.\n",
    "Without this command, sometimes plots may show up in pop-up windows.\n",
    "\"\"\""
   ]
  },
  {
   "cell_type": "code",
   "execution_count": null,
   "metadata": {},
   "outputs": [],
   "source": [
    "# Line Chart\n",
    "\n",
    "yield_Apples = [.4645,.7123,.53126,.64237,.967,.7327]\n",
    "plt.plot(yield_Apples);\n",
    "# using ; to avoid showing the output. only display the graph\n",
    "\n"
   ]
  },
  {
   "cell_type": "code",
   "execution_count": null,
   "metadata": {},
   "outputs": [],
   "source": [
    "# Customizing the X-axis\n",
    "\n",
    "years = [2010, 2011, 2012, 2013, 2014, 2015]\n",
    "yield_apples = [0.895, 0.91, 0.919, 0.926, 0.929, 0.931]\n",
    "plt.plot(years, yield_apples);\n"
   ]
  },
  {
   "cell_type": "code",
   "execution_count": null,
   "metadata": {},
   "outputs": [],
   "source": [
    "plt.plot(years, yield_apples)\n",
    "plt.xlabel('years')\n",
    "plt.ylabel('yield_apples');"
   ]
  },
  {
   "cell_type": "code",
   "execution_count": null,
   "metadata": {},
   "outputs": [],
   "source": [
    "# Plotting Multiple Lines\n",
    "# Chart Title and Legend\n",
    "# Line Markers\n",
    "# Styling Lines and Markers\n",
    "# Changing the Figure Size\n",
    "\n",
    "years = range(2000, 2012)\n",
    "apples = [0.895, 0.91, 0.919, 0.926, 0.929, 0.931, 0.934, 0.936, 0.937, 0.9375, 0.9372, 0.939]\n",
    "oranges = [0.962, 0.941, 0.930, 0.923, 0.918, 0.908, 0.907, 0.904, 0.901, 0.898, 0.9, 0.896, ]\n",
    "if (len(apples) == 12) and (len(years) ==12) and (len(oranges) ==12):\n",
    "    plt.plot(years, apples, marker='o')\n",
    "    plt.plot(years, oranges, marker= 'x')\n",
    "    plt.xlabel('years')\n",
    "    plt.ylabel('fruits_yields')\n",
    "    plt.title(\"Crop Yields in Kanto\")\n",
    "    plt.legend(['Apples', 'Oranges'])\n",
    "    plt.figure(figsize=(12,6))\n",
    "\n",
    "\n",
    "\n",
    "\n"
   ]
  },
  {
   "cell_type": "markdown",
   "metadata": {},
   "source": [
    "**Styling Lines and Markers**\n",
    "\n",
    "The `plt.plot` function supports many arguments for styling lines and markers:\n",
    "\n",
    "- `color` or `c`: Set the color of the line ([supported colors](https://matplotlib.org/3.1.0/gallery/color/named_colors.html))\n",
    "- `linestyle` or `ls`: Choose between a solid or dashed line\n",
    "- `linewidth` or `lw`: Set the width of a line\n",
    "- `markersize` or `ms`: Set the size of markers\n",
    "- `markeredgecolor` or `mec`: Set the edge color for markers\n",
    "- `markeredgewidth` or `mew`: Set the edge width for markers\n",
    "- `markerfacecolor` or `mfc`: Set the fill color for markers\n",
    "- `alpha`: Opacity of the plot\n",
    "\n",
    "\n",
    "Check out the documentation for `plt.plot` to learn more: [https://matplotlib.org/api/_as_gen/matplotlib.pyplot.plot.html#matplotlib.pyplot.plot](https://matplotlib.org/api/_as_gen/matplotlib.pyplot.plot.html#matplotlib.pyplot.plot) ."
   ]
  },
  {
   "cell_type": "code",
   "execution_count": null,
   "metadata": {},
   "outputs": [],
   "source": [
    "plt.plot(years, apples, marker='s', c='b', ls='-', lw=2, ms=8, mew=2, mec='navy')\n",
    "plt.plot(years, oranges, marker='o', c='r', ls='--', lw=3, ms=10, alpha=.5)\n",
    "\n",
    "plt.xlabel('Year')\n",
    "plt.ylabel('Yield (tons per hectare)')\n",
    "\n",
    "plt.title(\"Crop Yields in Kanto\")\n",
    "plt.legend(['Apples', 'Oranges']);"
   ]
  },
  {
   "cell_type": "code",
   "execution_count": null,
   "metadata": {},
   "outputs": [],
   "source": [
    "plt.plot(years, apples, 's-b')\n",
    "plt.plot(years, oranges, 'o--r')\n",
    "\n",
    "plt.xlabel('Year')\n",
    "plt.ylabel('Yield (tons per hectare)')\n",
    "\n",
    "plt.title(\"Crop Yields in Kanto\")\n",
    "plt.legend(['Apples', 'Oranges']);"
   ]
  },
  {
   "cell_type": "code",
   "execution_count": 74,
   "metadata": {},
   "outputs": [],
   "source": [
    "# Improving Default Styles using Seaborn\n",
    "\n",
    "\"\"\"  \n",
    "the sns.set_style(\"whitegrid\") command from Seaborn does affect \n",
    "Matplotlib plots because Seaborn is built on top of Matplotlib \n",
    "and modifies its default settings. \n",
    "\"\"\"\n",
    "sns.set_style('whitegrid')\n",
    "\n"
   ]
  },
  {
   "cell_type": "code",
   "execution_count": null,
   "metadata": {},
   "outputs": [],
   "source": [
    "plt.plot(years, apples, 's-b')\n",
    "plt.plot(years, oranges, 'o--r')\n",
    "\n",
    "plt.xlabel('Year')\n",
    "plt.ylabel('Yield (tons per hectare)')\n",
    "\n",
    "plt.title(\"Crop Yields in Kanto\")\n",
    "plt.legend(['Apples', 'Oranges']);"
   ]
  },
  {
   "cell_type": "code",
   "execution_count": null,
   "metadata": {},
   "outputs": [],
   "source": [
    "\"\"\"  \n",
    "You can also edit default styles directly by modifying the \n",
    "`matplotlib.rcParams` dictionary. Learn more: \n",
    "https://matplotlib.org/3.2.1/tutorials/introductory/customizing.html#matplotlib-rcparams .\n",
    "\"\"\"\n"
   ]
  },
  {
   "cell_type": "code",
   "execution_count": null,
   "metadata": {},
   "outputs": [],
   "source": [
    "# Scatter Plot\n",
    "flowers_df = sns.load_dataset(\"iris\")\n",
    "flowers_df\n",
    "flowers_df.species.unique()\n",
    "\n",
    "# let try \n",
    "plt.plot(flowers_df.sepal_length, flowers_df.sepal_width)\n"
   ]
  },
  {
   "cell_type": "code",
   "execution_count": null,
   "metadata": {},
   "outputs": [],
   "source": [
    "# use scatter\n",
    "\n",
    "sns.scatterplot(x=flowers_df.sepal_length, y=flowers_df.sepal_width)"
   ]
  },
  {
   "cell_type": "code",
   "execution_count": null,
   "metadata": {},
   "outputs": [],
   "source": [
    "sns.scatterplot(x=flowers_df.sepal_length, y=flowers_df.sepal_width, hue=flowers_df.species , s=50)"
   ]
  },
  {
   "cell_type": "code",
   "execution_count": null,
   "metadata": {},
   "outputs": [],
   "source": [
    "# Customizing Seaborn Figures\n",
    "\"\"\"  \n",
    "Since Seaborn uses Matplotlib's plotting functions internally,\n",
    "we can use functions like plt.figure and plt.title to modify the figure.\n",
    "\"\"\"\n",
    "plt.figure(figsize=(12,6))\n",
    "\n",
    "plt.title(\"sepal dimension analysis\")\n",
    "sns.scatterplot(x=flowers_df.sepal_length, y=flowers_df.sepal_width, hue=flowers_df.species , s=50)"
   ]
  },
  {
   "cell_type": "code",
   "execution_count": null,
   "metadata": {},
   "outputs": [],
   "source": [
    "\"\"\"  \n",
    "Plotting using Pandas Data Frames\n",
    "Seaborn has in-built support for Pandas data frames. \n",
    "Instead of passing each column as a series, you can provide \n",
    "column names and use the data argument to specify a data frame.\n",
    "\"\"\"\n",
    "\n",
    "\n",
    "plt.title(\"sepal dimension analysis\")\n",
    "sns.scatterplot(x='sepal_length', y='sepal_width', hue=flowers_df.species , s=50, data=flowers_df);"
   ]
  },
  {
   "cell_type": "code",
   "execution_count": null,
   "metadata": {},
   "outputs": [],
   "source": [
    "# Histogram\n",
    "\n",
    "plt.title(\"Distribution of Sepal Width\")\n",
    "plt.hist(flowers_df.sepal_width)\n",
    "\n",
    "\n",
    "\n",
    "\n",
    "\n",
    "\n",
    "\n",
    "\n",
    "\n",
    "\n"
   ]
  },
  {
   "cell_type": "code",
   "execution_count": null,
   "metadata": {},
   "outputs": [],
   "source": [
    "# Controlling the size and number of bins\n",
    "\n",
    "plt.hist(flowers_df.sepal_width, bins=np.arange(2,5,0.25))\n",
    "\n",
    "\n",
    "\n"
   ]
  },
  {
   "cell_type": "code",
   "execution_count": null,
   "metadata": {},
   "outputs": [],
   "source": [
    "plt.hist(flowers_df.sepal_width, bins=[1, 3, 4, 4.5]);"
   ]
  },
  {
   "cell_type": "code",
   "execution_count": null,
   "metadata": {},
   "outputs": [],
   "source": [
    "# Multiple Histograms\n",
    "\n",
    "flowers_df.species.unique()\n",
    "setosa_df       = flowers_df[flowers_df.species == 'setosa']\n",
    "versicolor_df   = flowers_df[flowers_df.species == 'versicolor']\n",
    "virginica_df    = flowers_df[flowers_df.species == 'virginica']\n",
    "\n",
    "plt.hist(setosa_df.sepal_width,alpha=0.4,bins=np.arange(2,5,0.25))\n",
    "plt.hist(versicolor_df.sepal_width,alpha=0.4,bins=np.arange(2,5,0.25))"
   ]
  },
  {
   "cell_type": "code",
   "execution_count": null,
   "metadata": {},
   "outputs": [],
   "source": [
    "\n",
    "plt.title('Distribution of Sepal Width')\n",
    "\n",
    "plt.hist([setosa_df.sepal_width, versicolor_df.sepal_width, virginica_df.sepal_width],stacked=True, bins=np.arange(2,5,0.5))\n",
    "plt.legend(['Setosa', 'Versicolor', 'Virginica']);"
   ]
  },
  {
   "cell_type": "code",
   "execution_count": null,
   "metadata": {},
   "outputs": [],
   "source": [
    "# Bar Chart\n",
    "\n",
    "years = range(2000, 2006)\n",
    "apples = [0.1, 0.6, 0.9, 0.8, 0.65, 0.8]\n",
    "oranges = [0.4, 0.8, 0.9, 0.7, 0.6, 0.8]\n",
    "\n",
    "# plt.bar(years, apples)\n",
    "plt.bar(years, oranges, bottom=apples);\n"
   ]
  },
  {
   "cell_type": "code",
   "execution_count": null,
   "metadata": {},
   "outputs": [],
   "source": [
    "\n",
    "plt.bar(years, apples)\n",
    "plt.bar(years, oranges, bottom=apples);"
   ]
  },
  {
   "cell_type": "markdown",
   "metadata": {},
   "source": [
    "**Key Differences Between `plt.bar()` and `sns.barplot()`**\n",
    "\n",
    "| Feature               | `plt.bar()` (Matplotlib)                  | `sns.barplot()` (Seaborn)               |\n",
    "|-----------------------|------------------------------------------|-----------------------------------------|\n",
    "| **Library**           | Matplotlib                               | Seaborn                                 |\n",
    "| **Input**             | Requires x and y values explicitly      | Works with DataFrames, computes stats   |\n",
    "| **Statistical**       | No statistical calculations              | Computes mean and confidence intervals   |\n",
    "| **Flexibility**       | High flexibility in bar customization    | Easier to create attractive plots with less code |\n",
    "| **Performance**       | Generally faster for small datasets      | May be slower for larger datasets due to aggregation calculations |\n",
    "| **Use Case**          | General-purpose bar charts               | Best for visualizing statistical data    |\n"
   ]
  },
  {
   "cell_type": "code",
   "execution_count": null,
   "metadata": {},
   "outputs": [],
   "source": [
    "# Bar Plots with Averages\n",
    "\n",
    "tips_df = sns.load_dataset(\"tips\");\n",
    "print(tips_df.day.unique())\n",
    "sns.barplot(x='day', y='total_bill',data=tips_df)\n"
   ]
  },
  {
   "cell_type": "code",
   "execution_count": null,
   "metadata": {},
   "outputs": [],
   "source": [
    "\"\"\"   \n",
    "In Seaborn, the hue parameter is a powerful feature that allows you to \n",
    "add an additional dimension to your data visualization by coloring the \n",
    "data points (or bars, in the case of a bar plot) based on a categorical \n",
    "variable. This makes it easier to compare and understand the relationships \n",
    "between multiple groups within the same plot.\n",
    "\"\"\"\n",
    "sns.barplot(x='day', y='total_bill', hue='sex',data=tips_df)\n",
    "\n",
    "\n",
    "\n",
    "\n"
   ]
  },
  {
   "cell_type": "code",
   "execution_count": null,
   "metadata": {},
   "outputs": [],
   "source": [
    "sns.barplot(x='total_bill', y='day', hue='sex', data=tips_df);\n"
   ]
  },
  {
   "cell_type": "code",
   "execution_count": null,
   "metadata": {},
   "outputs": [],
   "source": [
    "# Heatmap\n",
    "\n",
    "\"\"\"  \n",
    "A heatmap is used to visualize 2-dimensional data like a matrix or \n",
    "a table using colors. The best way to understand it is by looking at \n",
    "an example. We'll use another sample dataset from Seaborn, called flights, \n",
    "to visualize monthly passenger footfall at an airport over 12 years.\n",
    "\"\"\"\n",
    "flights_df = sns.load_dataset(\"flights\").pivot(\"month\", \"year\", \"passengers\")\n",
    "flights_df\n",
    "\n"
   ]
  },
  {
   "cell_type": "code",
   "execution_count": null,
   "metadata": {},
   "outputs": [],
   "source": [
    "plt.title(\"No. of Passengers (1000s)\")\n",
    "sns.heatmap(flights_df)\n",
    "\n",
    "\"\"\"  \n",
    "The brighter colors indicate a higher footfall at the airport. \n",
    "By looking at the graph, we can infer two things:\n",
    "\n",
    "  - The footfall at the airport in any given year tends to be the highest \n",
    "    around July & August.\n",
    "  - The footfall at the airport in any given month tends to grow year by year.\n",
    "\n",
    "  We can also display the actual values in each block by specifying annot=True \n",
    "  and using the cmap argument to change the color palette.\n",
    "\"\"\""
   ]
  },
  {
   "cell_type": "code",
   "execution_count": null,
   "metadata": {},
   "outputs": [],
   "source": [
    "plt.title(\"No. of Passengers (1000s)\")\n",
    "sns.heatmap(flights_df,fmt=\"d\",  annot=True, cmap='Blues');"
   ]
  },
  {
   "cell_type": "code",
   "execution_count": null,
   "metadata": {},
   "outputs": [],
   "source": [
    "# Images\n",
    "from urllib.request import urlretrieve\n",
    "\n",
    "from PIL import Image\n",
    "\n",
    "import time\n",
    "from urllib.request import urlretrieve, URLError, HTTPError\n",
    "\n",
    "def download_image(url, filename, retries=3, delay=5):\n",
    "    for attempt in range(retries):\n",
    "        try:\n",
    "            urlretrieve(url, filename)\n",
    "            print(f\"Downloaded: {filename}\")\n",
    "            return\n",
    "        except HTTPError as e:\n",
    "            if e.code == 429:\n",
    "                print(f\"Rate limit hit. Waitxing {delay} seconds before retrying...\")\n",
    "                time.sleep(delay)\n",
    "            else:\n",
    "                raise\n",
    "        except URLError as e:\n",
    "            print(f\"URL Error: {e}\")\n",
    "            raise\n",
    "    print(f\"Failed to download {url} after {retries} attempts.\")\n",
    "\n",
    "download_image('https://i.imgur.com/SkPbq.jpg', 'chart.jpg')\n",
    "\n",
    "\n",
    "img= Image.open('/media/ferganey/Data/00_Main_Folder/Shared_For_ALL/lion.jpg')\n",
    "img\n",
    "\n"
   ]
  },
  {
   "cell_type": "code",
   "execution_count": null,
   "metadata": {},
   "outputs": [],
   "source": [
    "img_array= np.array(img)\n",
    "img_array.shape\n",
    "\n",
    "plt.grid(False)\n",
    "plt.title(\"lion\")\n",
    "plt.axis('off')\n",
    "plt.imshow(img);\n",
    "\n",
    "\n"
   ]
  },
  {
   "cell_type": "code",
   "execution_count": null,
   "metadata": {},
   "outputs": [],
   "source": [
    "plt.grid(False)\n",
    "plt.imshow(img_array[125:325,105:305]);"
   ]
  },
  {
   "cell_type": "code",
   "execution_count": null,
   "metadata": {},
   "outputs": [],
   "source": [
    "# Plotting multiple charts in a grid\n",
    "\n",
    "plt.subplots(2,3, figsize=(16,8))\n"
   ]
  },
  {
   "cell_type": "code",
   "execution_count": null,
   "metadata": {},
   "outputs": [],
   "source": [
    "# Plotting multiple charts in a grid\n",
    "\n",
    "# using the variable ax for single a Axes\n",
    "fig, axes = plt.subplots()\n"
   ]
  },
  {
   "cell_type": "code",
   "execution_count": null,
   "metadata": {},
   "outputs": [],
   "source": [
    "# using the variable axs for multiple Axes\n",
    "fig, ax = plt.subplots(2,3, figsize=(16,8))\n"
   ]
  },
  {
   "cell_type": "code",
   "execution_count": null,
   "metadata": {},
   "outputs": [],
   "source": [
    "# using tuple unpacking for multiple Axes\n",
    "fig, ((ax1, ax2), (ax3, ax4)) = plt.subplots(2, 2, figsize=(10, 6))\n",
    "# Adding different data to each subplot\n",
    "ax1.plot([1, 2, 3], [1, 4, 9])\n",
    "ax2.plot([1, 2, 3], [9, 5, 1])\n",
    "ax3.bar([1, 2, 3], [3, 7, 1])\n",
    "ax4.scatter([1, 2, 3], [2, 5, 8])\n",
    "\n",
    "# Adding titles to each subplot for better understanding\n",
    "ax1.set_title('Line plot 1')\n",
    "ax2.set_title('Line plot 2')\n",
    "ax3.set_title('Bar chart')\n",
    "ax4.set_title('Scatter plot')\n",
    "\n",
    "# Adjust layout to prevent overlap\n",
    "plt.tight_layout()\n",
    "\n",
    "# Display the plot\n",
    "plt.show()"
   ]
  },
  {
   "cell_type": "code",
   "execution_count": null,
   "metadata": {},
   "outputs": [],
   "source": [
    "fig, axes = plt.subplots(2, 3, figsize=(16,8))\n",
    "\n",
    "# first plot \n",
    "axes[0,0].plot(years, apples, 's-b')\n",
    "axes[0,0].plot(years, oranges, 'o--r')\n",
    "axes[0,0].set_xlabel('Year')\n",
    "axes[0,0].set_ylabel('Yield (tons per hectare)')\n",
    "axes[0,0].legend(['Apples', 'Oranges'])\n",
    "axes[0,0].set_title('Crop Yields in Kanto')\n",
    "\n",
    "# second plot in first row\n",
    "axes[0,1].set_title('Sepal Length vs. Sepal Width')\n",
    "sns.scatterplot(x=flowers_df.sepal_length, \n",
    "                y=flowers_df.sepal_width, \n",
    "                hue=flowers_df.species, \n",
    "                s=100, \n",
    "                ax=axes[0,1])\n",
    "\n",
    "# Pass the axes into seaborn\n",
    "axes[0,1].set_title('Sepal Length vs. Sepal Width')\n",
    "sns.scatterplot(x=flowers_df.sepal_length, \n",
    "                y=flowers_df.sepal_width, \n",
    "                hue=flowers_df.species, \n",
    "                s=100, \n",
    "                ax=axes[0,1])\n",
    "\n",
    "# Use the axes for plotting\n",
    "axes[0,2].set_title('Distribution of Sepal Width')\n",
    "axes[0,2].hist([setosa_df.sepal_width, versicolor_df.sepal_width, virginica_df.sepal_width], \n",
    "         bins=np.arange(2, 5, 0.25), \n",
    "         stacked=True)\n",
    "\n",
    "axes[0,2].legend(['Setosa', 'Versicolor', 'Virginica']);\n",
    "\n",
    "# Pass the axes into seaborn\n",
    "axes[1,0].set_title('Restaurant bills')\n",
    "sns.barplot(x='day', y='total_bill', hue='sex', data=tips_df, ax=axes[1,0])\n",
    "\n",
    "# Pass the axes into seaborn\n",
    "axes[1,1].set_title('Flight traffic')\n",
    "sns.heatmap(flights_df, cmap='Blues', ax=axes[1,1])\n",
    "\n",
    "# Plot an image using the axes\n",
    "axes[1,2].set_title('Data Science Meme')\n",
    "axes[1,2].imshow(img)\n",
    "axes[1,2].grid(False)\n",
    "axes[1,2].set_xticks([])\n",
    "axes[1,2].set_yticks([])\n",
    "\n",
    "plt.tight_layout(pad=2)"
   ]
  },
  {
   "cell_type": "code",
   "execution_count": null,
   "metadata": {},
   "outputs": [],
   "source": [
    "# Pair plots with Seaborn\n",
    "\n",
    "sns.pairplot(flowers_df, hue='species');"
   ]
  },
  {
   "cell_type": "code",
   "execution_count": null,
   "metadata": {},
   "outputs": [],
   "source": [
    "sns.pairplot(tips_df, hue='sex');\n"
   ]
  },
  {
   "cell_type": "code",
   "execution_count": null,
   "metadata": {},
   "outputs": [],
   "source": []
  },
  {
   "cell_type": "code",
   "execution_count": null,
   "metadata": {},
   "outputs": [],
   "source": []
  },
  {
   "cell_type": "code",
   "execution_count": null,
   "metadata": {},
   "outputs": [],
   "source": []
  },
  {
   "cell_type": "markdown",
   "metadata": {},
   "source": [
    "#  Exploratory Data Analysis - A Case Study"
   ]
  },
  {
   "cell_type": "markdown",
   "metadata": {},
   "source": [
    "## **1. Importing Section**"
   ]
  },
  {
   "cell_type": "code",
   "execution_count": 96,
   "metadata": {},
   "outputs": [],
   "source": [
    "import opendatasets as od\n",
    "import os\n",
    "import pandas as pd\n"
   ]
  },
  {
   "cell_type": "markdown",
   "metadata": {},
   "source": [
    "## **2. Downloading the data**"
   ]
  },
  {
   "cell_type": "code",
   "execution_count": null,
   "metadata": {},
   "outputs": [],
   "source": [
    "od.download('stackoverflow-developer-survey-2020')\n"
   ]
  },
  {
   "cell_type": "markdown",
   "metadata": {},
   "source": [
    "## **3. Exploring the data**"
   ]
  },
  {
   "cell_type": "code",
   "execution_count": 97,
   "metadata": {},
   "outputs": [
    {
     "data": {
      "text/plain": [
       "['README.txt', 'survey_results_public.csv', 'survey_results_schema.csv']"
      ]
     },
     "execution_count": 97,
     "metadata": {},
     "output_type": "execute_result"
    }
   ],
   "source": [
    "os.listdir('/media/ferganey/Data/00_Main_Folder/02_Programming_OOP/01_Python/stackoverflow-developer-survey-2020')"
   ]
  },
  {
   "cell_type": "markdown",
   "metadata": {},
   "source": [
    "**Reading CSV Files**"
   ]
  },
  {
   "cell_type": "code",
   "execution_count": 99,
   "metadata": {},
   "outputs": [],
   "source": [
    "Data_Directory = '/media/ferganey/Data/00_Main_Folder/02_Programming_OOP/01_Python/stackoverflow-developer-survey-2020'\n",
    "survey_result_public_file = 'survey_results_public.csv'\n",
    "survey_result_schema_file = 'survey_results_schema.csv'\n",
    "\n",
    "# Joinning file path with dir path\n",
    "public_path = os.path.join(Data_Directory,survey_result_public_file)\n",
    "schema_path = os.path.join(Data_Directory,survey_result_schema_file)\n",
    "\n",
    "\n",
    "# Load the CSV data into DataFrames\n",
    "survey_raw_df = pd.read_csv(public_path)\n",
    "survey_schema_df = pd.read_csv(schema_path, index_col='Column').QuestionText\n"
   ]
  },
  {
   "cell_type": "code",
   "execution_count": 107,
   "metadata": {},
   "outputs": [
    {
     "data": {
      "text/html": [
       "<div>\n",
       "<style scoped>\n",
       "    .dataframe tbody tr th:only-of-type {\n",
       "        vertical-align: middle;\n",
       "    }\n",
       "\n",
       "    .dataframe tbody tr th {\n",
       "        vertical-align: top;\n",
       "    }\n",
       "\n",
       "    .dataframe thead th {\n",
       "        text-align: right;\n",
       "    }\n",
       "</style>\n",
       "<table border=\"1\" class=\"dataframe\">\n",
       "  <thead>\n",
       "    <tr style=\"text-align: right;\">\n",
       "      <th></th>\n",
       "      <th>Respondent</th>\n",
       "      <th>MainBranch</th>\n",
       "      <th>Hobbyist</th>\n",
       "      <th>Age</th>\n",
       "      <th>Age1stCode</th>\n",
       "      <th>CompFreq</th>\n",
       "      <th>CompTotal</th>\n",
       "      <th>ConvertedComp</th>\n",
       "      <th>Country</th>\n",
       "      <th>CurrencyDesc</th>\n",
       "      <th>...</th>\n",
       "      <th>SurveyEase</th>\n",
       "      <th>SurveyLength</th>\n",
       "      <th>Trans</th>\n",
       "      <th>UndergradMajor</th>\n",
       "      <th>WebframeDesireNextYear</th>\n",
       "      <th>WebframeWorkedWith</th>\n",
       "      <th>WelcomeChange</th>\n",
       "      <th>WorkWeekHrs</th>\n",
       "      <th>YearsCode</th>\n",
       "      <th>YearsCodePro</th>\n",
       "    </tr>\n",
       "  </thead>\n",
       "  <tbody>\n",
       "    <tr>\n",
       "      <th>0</th>\n",
       "      <td>1</td>\n",
       "      <td>I am a developer by profession</td>\n",
       "      <td>Yes</td>\n",
       "      <td>NaN</td>\n",
       "      <td>13</td>\n",
       "      <td>Monthly</td>\n",
       "      <td>NaN</td>\n",
       "      <td>NaN</td>\n",
       "      <td>Germany</td>\n",
       "      <td>European Euro</td>\n",
       "      <td>...</td>\n",
       "      <td>Neither easy nor difficult</td>\n",
       "      <td>Appropriate in length</td>\n",
       "      <td>No</td>\n",
       "      <td>Computer science, computer engineering, or software engineering</td>\n",
       "      <td>ASP.NET Core</td>\n",
       "      <td>ASP.NET;ASP.NET Core</td>\n",
       "      <td>Just as welcome now as I felt last year</td>\n",
       "      <td>50.0</td>\n",
       "      <td>36</td>\n",
       "      <td>27</td>\n",
       "    </tr>\n",
       "    <tr>\n",
       "      <th>1</th>\n",
       "      <td>2</td>\n",
       "      <td>I am a developer by profession</td>\n",
       "      <td>No</td>\n",
       "      <td>NaN</td>\n",
       "      <td>19</td>\n",
       "      <td>NaN</td>\n",
       "      <td>NaN</td>\n",
       "      <td>NaN</td>\n",
       "      <td>United Kingdom</td>\n",
       "      <td>Pound sterling</td>\n",
       "      <td>...</td>\n",
       "      <td>NaN</td>\n",
       "      <td>NaN</td>\n",
       "      <td>NaN</td>\n",
       "      <td>Computer science, computer engineering, or software engineering</td>\n",
       "      <td>NaN</td>\n",
       "      <td>NaN</td>\n",
       "      <td>Somewhat more welcome now than last year</td>\n",
       "      <td>NaN</td>\n",
       "      <td>7</td>\n",
       "      <td>4</td>\n",
       "    </tr>\n",
       "  </tbody>\n",
       "</table>\n",
       "<p>2 rows × 61 columns</p>\n",
       "</div>"
      ],
      "text/plain": [
       "   Respondent                      MainBranch Hobbyist  Age Age1stCode  \\\n",
       "0           1  I am a developer by profession      Yes  NaN         13   \n",
       "1           2  I am a developer by profession       No  NaN         19   \n",
       "\n",
       "  CompFreq  CompTotal  ConvertedComp         Country    CurrencyDesc  ...  \\\n",
       "0  Monthly        NaN            NaN         Germany   European Euro  ...   \n",
       "1      NaN        NaN            NaN  United Kingdom  Pound sterling  ...   \n",
       "\n",
       "                   SurveyEase           SurveyLength Trans  \\\n",
       "0  Neither easy nor difficult  Appropriate in length    No   \n",
       "1                         NaN                    NaN   NaN   \n",
       "\n",
       "                                                    UndergradMajor  \\\n",
       "0  Computer science, computer engineering, or software engineering   \n",
       "1  Computer science, computer engineering, or software engineering   \n",
       "\n",
       "  WebframeDesireNextYear    WebframeWorkedWith  \\\n",
       "0           ASP.NET Core  ASP.NET;ASP.NET Core   \n",
       "1                    NaN                   NaN   \n",
       "\n",
       "                              WelcomeChange WorkWeekHrs YearsCode YearsCodePro  \n",
       "0   Just as welcome now as I felt last year        50.0        36           27  \n",
       "1  Somewhat more welcome now than last year         NaN         7            4  \n",
       "\n",
       "[2 rows x 61 columns]"
      ]
     },
     "execution_count": 107,
     "metadata": {},
     "output_type": "execute_result"
    }
   ],
   "source": [
    "survey_raw_df.head(2)"
   ]
  },
  {
   "cell_type": "code",
   "execution_count": 108,
   "metadata": {},
   "outputs": [
    {
     "data": {
      "text/plain": [
       "Column\n",
       "Respondent                                                                                                                                                                                           Randomized respondent ID number (not in order of survey response time)\n",
       "MainBranch                                                                                                                                                 Which of the following options best describes you today? Here, by \"developer\" we mean \"someone who writes code.\"\n",
       "Hobbyist                                                                                                                                                                                                                                            Do you code as a hobby?\n",
       "Age                                                                                                                                                                            What is your age (in years)? If you prefer not to answer, you may leave this question blank.\n",
       "Age1stCode                                                                                                                                                      At what age did you write your first line of code or program? (e.g., webpage, Hello World, Scratch project)\n",
       "                                                                                                                                              ...                                                                                                                          \n",
       "WebframeWorkedWith    Which web frameworks have you done extensive development work in over the past year, and which do you want to work in over the next year? (If you both worked with the framework and want to continue to do so, please check both boxes in that row.)\n",
       "WelcomeChange                                                                                                                                                                                             Compared to last year, how welcome do you feel on Stack Overflow?\n",
       "WorkWeekHrs                                                                                                                                                                        On average, how many hours per week do you work? Please enter a whole number in the box.\n",
       "YearsCode                                                                                                                                                                                            Including any education, how many years have you been coding in total?\n",
       "YearsCodePro                                                                                                                                                                NOT including education, how many years have you coded professionally (as a part of your work)?\n",
       "Name: QuestionText, Length: 61, dtype: object"
      ]
     },
     "execution_count": 108,
     "metadata": {},
     "output_type": "execute_result"
    }
   ],
   "source": [
    "# Set display option to show the full string in the DataFrame\n",
    "pd.set_option('display.max_colwidth', None)\n",
    "survey_schema_df"
   ]
  },
  {
   "cell_type": "code",
   "execution_count": 113,
   "metadata": {},
   "outputs": [
    {
     "name": "stdout",
     "output_type": "stream",
     "text": [
      "Randomized respondent ID number (not in order of survey response time)\n"
     ]
    }
   ],
   "source": [
    "respondent_question = survey_schema_df['Respondent']\n",
    "print(respondent_question)"
   ]
  },
  {
   "cell_type": "code",
   "execution_count": 109,
   "metadata": {},
   "outputs": [
    {
     "data": {
      "text/plain": [
       "Index(['Respondent', 'MainBranch', 'Hobbyist', 'Age', 'Age1stCode', 'CompFreq',\n",
       "       'CompTotal', 'ConvertedComp', 'Country', 'CurrencyDesc',\n",
       "       'CurrencySymbol', 'DatabaseDesireNextYear', 'DatabaseWorkedWith',\n",
       "       'DevType', 'EdLevel', 'Employment', 'Ethnicity', 'Gender', 'JobFactors',\n",
       "       'JobSat', 'JobSeek', 'LanguageDesireNextYear', 'LanguageWorkedWith',\n",
       "       'MiscTechDesireNextYear', 'MiscTechWorkedWith',\n",
       "       'NEWCollabToolsDesireNextYear', 'NEWCollabToolsWorkedWith', 'NEWDevOps',\n",
       "       'NEWDevOpsImpt', 'NEWEdImpt', 'NEWJobHunt', 'NEWJobHuntResearch',\n",
       "       'NEWLearn', 'NEWOffTopic', 'NEWOnboardGood', 'NEWOtherComms',\n",
       "       'NEWOvertime', 'NEWPurchaseResearch', 'NEWPurpleLink', 'NEWSOSites',\n",
       "       'NEWStuck', 'OpSys', 'OrgSize', 'PlatformDesireNextYear',\n",
       "       'PlatformWorkedWith', 'PurchaseWhat', 'Sexuality', 'SOAccount',\n",
       "       'SOComm', 'SOPartFreq', 'SOVisitFreq', 'SurveyEase', 'SurveyLength',\n",
       "       'Trans', 'UndergradMajor', 'WebframeDesireNextYear',\n",
       "       'WebframeWorkedWith', 'WelcomeChange', 'WorkWeekHrs', 'YearsCode',\n",
       "       'YearsCodePro'],\n",
       "      dtype='object')"
      ]
     },
     "execution_count": 109,
     "metadata": {},
     "output_type": "execute_result"
    }
   ],
   "source": [
    "survey_raw_df.columns"
   ]
  },
  {
   "cell_type": "code",
   "execution_count": 110,
   "metadata": {},
   "outputs": [
    {
     "data": {
      "text/plain": [
       "0                      27\n",
       "1                       4\n",
       "2                     NaN\n",
       "3                       4\n",
       "4                       8\n",
       "               ...       \n",
       "64456    Less than 1 year\n",
       "64457                 NaN\n",
       "64458                 NaN\n",
       "64459                 NaN\n",
       "64460                 NaN\n",
       "Name: YearsCodePro, Length: 64461, dtype: object"
      ]
     },
     "execution_count": 110,
     "metadata": {},
     "output_type": "execute_result"
    }
   ],
   "source": [
    "survey_raw_df['YearsCodePro']"
   ]
  },
  {
   "cell_type": "markdown",
   "metadata": {},
   "source": [
    "# **4. Date Preparation and Cleaning**"
   ]
  },
  {
   "cell_type": "markdown",
   "metadata": {},
   "source": [
    "While the survey responses contain a wealth of information, we'll limit our analysis to the following areas:\n",
    "\n",
    " - Demographics of the survey respondents and the global programming community\n",
    " - Distribution of programming skills, experience, and preferences\n",
    " - Employment-related information, preferences, and opinions"
   ]
  },
  {
   "cell_type": "code",
   "execution_count": 111,
   "metadata": {},
   "outputs": [
    {
     "data": {
      "text/plain": [
       "20"
      ]
     },
     "execution_count": 111,
     "metadata": {},
     "output_type": "execute_result"
    }
   ],
   "source": [
    "# survey_raw_df\n",
    "# survey_schema_df\n",
    "survey_raw_df.columns\n",
    "selected_columns = [\n",
    "    # for Demographics\n",
    "    'Country',\n",
    "    'Age',\n",
    "    'Gender',\n",
    "    'EdLevel',\n",
    "    'UndergradMajor',\n",
    "    # for programming experience\n",
    "    'Hobbyist',\n",
    "    'Age1stCode',\n",
    "    'YearsCode',\n",
    "    'YearsCodePro',\n",
    "    'LanguageWorkedWith',\n",
    "    'LanguageDesireNextYear',\n",
    "    'NEWLearn',\n",
    "    'NEWStuck',\n",
    "    # for emplyment\n",
    "    'Employment',\n",
    "    'DevType',\n",
    "    'WorkWeekHrs',\n",
    "    'JobSat',\n",
    "    'JobFactors',\n",
    "    'NEWOvertime',\n",
    "    'NEWEdImpt'\n",
    "]\n",
    "len(selected_columns)"
   ]
  },
  {
   "cell_type": "code",
   "execution_count": 112,
   "metadata": {},
   "outputs": [
    {
     "data": {
      "text/html": [
       "<div>\n",
       "<style scoped>\n",
       "    .dataframe tbody tr th:only-of-type {\n",
       "        vertical-align: middle;\n",
       "    }\n",
       "\n",
       "    .dataframe tbody tr th {\n",
       "        vertical-align: top;\n",
       "    }\n",
       "\n",
       "    .dataframe thead th {\n",
       "        text-align: right;\n",
       "    }\n",
       "</style>\n",
       "<table border=\"1\" class=\"dataframe\">\n",
       "  <thead>\n",
       "    <tr style=\"text-align: right;\">\n",
       "      <th></th>\n",
       "      <th>Country</th>\n",
       "      <th>Age</th>\n",
       "      <th>Gender</th>\n",
       "      <th>EdLevel</th>\n",
       "      <th>UndergradMajor</th>\n",
       "      <th>Hobbyist</th>\n",
       "      <th>Age1stCode</th>\n",
       "      <th>YearsCode</th>\n",
       "      <th>YearsCodePro</th>\n",
       "      <th>LanguageWorkedWith</th>\n",
       "      <th>LanguageDesireNextYear</th>\n",
       "      <th>NEWLearn</th>\n",
       "      <th>NEWStuck</th>\n",
       "      <th>Employment</th>\n",
       "      <th>DevType</th>\n",
       "      <th>WorkWeekHrs</th>\n",
       "      <th>JobSat</th>\n",
       "      <th>JobFactors</th>\n",
       "      <th>NEWOvertime</th>\n",
       "      <th>NEWEdImpt</th>\n",
       "    </tr>\n",
       "  </thead>\n",
       "  <tbody>\n",
       "    <tr>\n",
       "      <th>0</th>\n",
       "      <td>Germany</td>\n",
       "      <td>NaN</td>\n",
       "      <td>Man</td>\n",
       "      <td>Master’s degree (M.A., M.S., M.Eng., MBA, etc.)</td>\n",
       "      <td>Computer science, computer engineering, or software engineering</td>\n",
       "      <td>Yes</td>\n",
       "      <td>13</td>\n",
       "      <td>36</td>\n",
       "      <td>27</td>\n",
       "      <td>C#;HTML/CSS;JavaScript</td>\n",
       "      <td>C#;HTML/CSS;JavaScript</td>\n",
       "      <td>Once a year</td>\n",
       "      <td>Visit Stack Overflow;Go for a walk or other physical activity;Do other work and come back later</td>\n",
       "      <td>Independent contractor, freelancer, or self-employed</td>\n",
       "      <td>Developer, desktop or enterprise applications;Developer, full-stack</td>\n",
       "      <td>50.0</td>\n",
       "      <td>Slightly satisfied</td>\n",
       "      <td>Languages, frameworks, and other technologies I’d be working with;Remote work options;Opportunities for professional development</td>\n",
       "      <td>Often: 1-2 days per week or more</td>\n",
       "      <td>Fairly important</td>\n",
       "    </tr>\n",
       "    <tr>\n",
       "      <th>1</th>\n",
       "      <td>United Kingdom</td>\n",
       "      <td>NaN</td>\n",
       "      <td>NaN</td>\n",
       "      <td>Bachelor’s degree (B.A., B.S., B.Eng., etc.)</td>\n",
       "      <td>Computer science, computer engineering, or software engineering</td>\n",
       "      <td>No</td>\n",
       "      <td>19</td>\n",
       "      <td>7</td>\n",
       "      <td>4</td>\n",
       "      <td>JavaScript;Swift</td>\n",
       "      <td>Python;Swift</td>\n",
       "      <td>Once a year</td>\n",
       "      <td>Visit Stack Overflow;Go for a walk or other physical activity</td>\n",
       "      <td>Employed full-time</td>\n",
       "      <td>Developer, full-stack;Developer, mobile</td>\n",
       "      <td>NaN</td>\n",
       "      <td>Very dissatisfied</td>\n",
       "      <td>NaN</td>\n",
       "      <td>NaN</td>\n",
       "      <td>Fairly important</td>\n",
       "    </tr>\n",
       "  </tbody>\n",
       "</table>\n",
       "</div>"
      ],
      "text/plain": [
       "          Country  Age Gender  \\\n",
       "0         Germany  NaN    Man   \n",
       "1  United Kingdom  NaN    NaN   \n",
       "\n",
       "                                           EdLevel  \\\n",
       "0  Master’s degree (M.A., M.S., M.Eng., MBA, etc.)   \n",
       "1     Bachelor’s degree (B.A., B.S., B.Eng., etc.)   \n",
       "\n",
       "                                                    UndergradMajor Hobbyist  \\\n",
       "0  Computer science, computer engineering, or software engineering      Yes   \n",
       "1  Computer science, computer engineering, or software engineering       No   \n",
       "\n",
       "  Age1stCode YearsCode YearsCodePro      LanguageWorkedWith  \\\n",
       "0         13        36           27  C#;HTML/CSS;JavaScript   \n",
       "1         19         7            4        JavaScript;Swift   \n",
       "\n",
       "   LanguageDesireNextYear     NEWLearn  \\\n",
       "0  C#;HTML/CSS;JavaScript  Once a year   \n",
       "1            Python;Swift  Once a year   \n",
       "\n",
       "                                                                                          NEWStuck  \\\n",
       "0  Visit Stack Overflow;Go for a walk or other physical activity;Do other work and come back later   \n",
       "1                                    Visit Stack Overflow;Go for a walk or other physical activity   \n",
       "\n",
       "                                             Employment  \\\n",
       "0  Independent contractor, freelancer, or self-employed   \n",
       "1                                    Employed full-time   \n",
       "\n",
       "                                                               DevType  \\\n",
       "0  Developer, desktop or enterprise applications;Developer, full-stack   \n",
       "1                              Developer, full-stack;Developer, mobile   \n",
       "\n",
       "   WorkWeekHrs              JobSat  \\\n",
       "0         50.0  Slightly satisfied   \n",
       "1          NaN   Very dissatisfied   \n",
       "\n",
       "                                                                                                                         JobFactors  \\\n",
       "0  Languages, frameworks, and other technologies I’d be working with;Remote work options;Opportunities for professional development   \n",
       "1                                                                                                                               NaN   \n",
       "\n",
       "                        NEWOvertime         NEWEdImpt  \n",
       "0  Often: 1-2 days per week or more  Fairly important  \n",
       "1                               NaN  Fairly important  "
      ]
     },
     "execution_count": 112,
     "metadata": {},
     "output_type": "execute_result"
    }
   ],
   "source": [
    "# survey_df = survey_raw_df[selected_columns] # it is a view so will affect on the original data\n",
    "survey_df = survey_raw_df[selected_columns].copy()\n",
    "survey_df.head(2)"
   ]
  },
  {
   "cell_type": "code",
   "execution_count": 117,
   "metadata": {},
   "outputs": [
    {
     "data": {
      "text/plain": [
       "Column\n",
       "Country                                                                                                                                                                                                                                                                                   Where do you live?\n",
       "Age                                                                                                                                                                                                             What is your age (in years)? If you prefer not to answer, you may leave this question blank.\n",
       "Gender                                                                                                                                                             Which of the following describe you, if any? Please check all that apply. If you prefer not to answer, you may leave this question blank.\n",
       "EdLevel                                                                                                                                                                                                   Which of the following best describes the highest level of formal education that you’ve completed?\n",
       "UndergradMajor                                                                                                                                                                                                                                                         What was your primary field of study?\n",
       "Hobbyist                                                                                                                                                                                                                                                                             Do you code as a hobby?\n",
       "Age1stCode                                                                                                                                                                                       At what age did you write your first line of code or program? (e.g., webpage, Hello World, Scratch project)\n",
       "YearsCode                                                                                                                                                                                                                             Including any education, how many years have you been coding in total?\n",
       "YearsCodePro                                                                                                                                                                                                 NOT including education, how many years have you coded professionally (as a part of your work)?\n",
       "LanguageWorkedWith        Which programming, scripting, and markup languages have you done extensive development work in over the past year, and which do you want to work in over the next year? (If you both worked with the language and want to continue to do so, please check both boxes in that row.)\n",
       "LanguageDesireNextYear    Which programming, scripting, and markup languages have you done extensive development work in over the past year, and which do you want to work in over the next year? (If you both worked with the language and want to continue to do so, please check both boxes in that row.)\n",
       "NEWLearn                                                                                                                                                                                                                                            How frequently do you learn a new language or framework?\n",
       "NEWStuck                                                                                                                                                                                                                              What do you do when you get stuck on a problem? Select all that apply.\n",
       "Employment                                                                                                                                                                                                                             Which of the following best describes your current employment status?\n",
       "DevType                                                                                                                                                                                                                                   Which of the following describe you? Please select all that apply.\n",
       "WorkWeekHrs                                                                                                                                                                                                         On average, how many hours per week do you work? Please enter a whole number in the box.\n",
       "JobSat                                                                                                                                                                             How satisfied are you with your current job? (If you work multiple jobs, answer for the one you spend the most hours on.)\n",
       "JobFactors                                                                                                                             Imagine that you are deciding between two job offers with the same compensation, benefits, and location. Of the following factors, which 3 are MOST important to you?\n",
       "NEWOvertime                                                                                                                                                                                                                How often do you work overtime or beyond the formal time expectation of your job?\n",
       "NEWEdImpt                                                                                                                                                                                              How important is a formal education, such as a university degree in computer science, to your career?\n",
       "Name: QuestionText, dtype: object"
      ]
     },
     "execution_count": 117,
     "metadata": {},
     "output_type": "execute_result"
    }
   ],
   "source": [
    "schema = survey_schema_df[selected_columns]\n",
    "schema"
   ]
  },
  {
   "cell_type": "code",
   "execution_count": 119,
   "metadata": {},
   "outputs": [
    {
     "data": {
      "text/plain": [
       "(64461, 20)"
      ]
     },
     "execution_count": 119,
     "metadata": {},
     "output_type": "execute_result"
    }
   ],
   "source": [
    "survey_df.shape"
   ]
  },
  {
   "cell_type": "code",
   "execution_count": 120,
   "metadata": {},
   "outputs": [
    {
     "name": "stdout",
     "output_type": "stream",
     "text": [
      "<class 'pandas.core.frame.DataFrame'>\n",
      "RangeIndex: 64461 entries, 0 to 64460\n",
      "Data columns (total 20 columns):\n",
      " #   Column                  Non-Null Count  Dtype  \n",
      "---  ------                  --------------  -----  \n",
      " 0   Country                 64072 non-null  object \n",
      " 1   Age                     45446 non-null  float64\n",
      " 2   Gender                  50557 non-null  object \n",
      " 3   EdLevel                 57431 non-null  object \n",
      " 4   UndergradMajor          50995 non-null  object \n",
      " 5   Hobbyist                64416 non-null  object \n",
      " 6   Age1stCode              57900 non-null  object \n",
      " 7   YearsCode               57684 non-null  object \n",
      " 8   YearsCodePro            46349 non-null  object \n",
      " 9   LanguageWorkedWith      57378 non-null  object \n",
      " 10  LanguageDesireNextYear  54113 non-null  object \n",
      " 11  NEWLearn                56156 non-null  object \n",
      " 12  NEWStuck                54983 non-null  object \n",
      " 13  Employment              63854 non-null  object \n",
      " 14  DevType                 49370 non-null  object \n",
      " 15  WorkWeekHrs             41151 non-null  float64\n",
      " 16  JobSat                  45194 non-null  object \n",
      " 17  JobFactors              49349 non-null  object \n",
      " 18  NEWOvertime             43231 non-null  object \n",
      " 19  NEWEdImpt               48465 non-null  object \n",
      "dtypes: float64(2), object(18)\n",
      "memory usage: 9.8+ MB\n"
     ]
    }
   ],
   "source": [
    "survey_df.info()"
   ]
  },
  {
   "cell_type": "markdown",
   "metadata": {},
   "source": [
    " - Only two of the columns were detected as numeric columns (Age and WorkWeekHrs), even though a few other columns have mostly numeric values. To make our analysis easier, let's convert some other columns into numeric data types while ignoring any non-numeric value. The non-numeric are converted to NaN."
   ]
  },
  {
   "cell_type": "code",
   "execution_count": 121,
   "metadata": {},
   "outputs": [
    {
     "data": {
      "text/plain": [
       "0         13\n",
       "1         19\n",
       "2         15\n",
       "3         18\n",
       "4         16\n",
       "        ... \n",
       "64456     16\n",
       "64457    NaN\n",
       "64458    NaN\n",
       "64459    NaN\n",
       "64460    NaN\n",
       "Name: Age1stCode, Length: 64461, dtype: object"
      ]
     },
     "execution_count": 121,
     "metadata": {},
     "output_type": "execute_result"
    }
   ],
   "source": [
    "survey_df['Age1stCode']"
   ]
  },
  {
   "cell_type": "code",
   "execution_count": 122,
   "metadata": {},
   "outputs": [
    {
     "data": {
      "text/plain": [
       "0         36\n",
       "1          7\n",
       "2          4\n",
       "3          7\n",
       "4         15\n",
       "        ... \n",
       "64456     10\n",
       "64457    NaN\n",
       "64458    NaN\n",
       "64459    NaN\n",
       "64460    NaN\n",
       "Name: YearsCode, Length: 64461, dtype: object"
      ]
     },
     "execution_count": 122,
     "metadata": {},
     "output_type": "execute_result"
    }
   ],
   "source": [
    "survey_df['YearsCode']"
   ]
  },
  {
   "cell_type": "code",
   "execution_count": 123,
   "metadata": {},
   "outputs": [
    {
     "data": {
      "text/plain": [
       "0                      27\n",
       "1                       4\n",
       "2                     NaN\n",
       "3                       4\n",
       "4                       8\n",
       "               ...       \n",
       "64456    Less than 1 year\n",
       "64457                 NaN\n",
       "64458                 NaN\n",
       "64459                 NaN\n",
       "64460                 NaN\n",
       "Name: YearsCodePro, Length: 64461, dtype: object"
      ]
     },
     "execution_count": 123,
     "metadata": {},
     "output_type": "execute_result"
    }
   ],
   "source": [
    "survey_df['YearsCodePro'] "
   ]
  },
  {
   "cell_type": "markdown",
   "metadata": {},
   "source": [
    " - In Pandas, the errors='coerce' argument is often used when converting data types, particularly when working with numeric conversions, dates, or other types where invalid values might occur. It tells Pandas to handle invalid data by converting those values into NaN (Not a Number) instead of raising an error."
   ]
  },
  {
   "cell_type": "code",
   "execution_count": 124,
   "metadata": {},
   "outputs": [],
   "source": [
    "survey_df['Age1stCode']   = pd.to_numeric(survey_df.Age1stCode, errors='coerce') \n",
    "survey_df['YearsCode']    = pd.to_numeric(survey_df.YearsCode, errors='coerce')\n",
    "survey_df['YearsCodePro'] = pd.to_numeric(survey_df.YearsCodePro, errors='coerce')"
   ]
  },
  {
   "cell_type": "code",
   "execution_count": 126,
   "metadata": {},
   "outputs": [
    {
     "name": "stdout",
     "output_type": "stream",
     "text": [
      "<class 'pandas.core.frame.DataFrame'>\n",
      "RangeIndex: 64461 entries, 0 to 64460\n",
      "Data columns (total 20 columns):\n",
      " #   Column                  Non-Null Count  Dtype  \n",
      "---  ------                  --------------  -----  \n",
      " 0   Country                 64072 non-null  object \n",
      " 1   Age                     45446 non-null  float64\n",
      " 2   Gender                  50557 non-null  object \n",
      " 3   EdLevel                 57431 non-null  object \n",
      " 4   UndergradMajor          50995 non-null  object \n",
      " 5   Hobbyist                64416 non-null  object \n",
      " 6   Age1stCode              57473 non-null  float64\n",
      " 7   YearsCode               56784 non-null  float64\n",
      " 8   YearsCodePro            44133 non-null  float64\n",
      " 9   LanguageWorkedWith      57378 non-null  object \n",
      " 10  LanguageDesireNextYear  54113 non-null  object \n",
      " 11  NEWLearn                56156 non-null  object \n",
      " 12  NEWStuck                54983 non-null  object \n",
      " 13  Employment              63854 non-null  object \n",
      " 14  DevType                 49370 non-null  object \n",
      " 15  WorkWeekHrs             41151 non-null  float64\n",
      " 16  JobSat                  45194 non-null  object \n",
      " 17  JobFactors              49349 non-null  object \n",
      " 18  NEWOvertime             43231 non-null  object \n",
      " 19  NEWEdImpt               48465 non-null  object \n",
      "dtypes: float64(5), object(15)\n",
      "memory usage: 9.8+ MB\n"
     ]
    }
   ],
   "source": [
    "survey_df.info()"
   ]
  },
  {
   "cell_type": "code",
   "execution_count": 125,
   "metadata": {},
   "outputs": [
    {
     "data": {
      "text/html": [
       "<div>\n",
       "<style scoped>\n",
       "    .dataframe tbody tr th:only-of-type {\n",
       "        vertical-align: middle;\n",
       "    }\n",
       "\n",
       "    .dataframe tbody tr th {\n",
       "        vertical-align: top;\n",
       "    }\n",
       "\n",
       "    .dataframe thead th {\n",
       "        text-align: right;\n",
       "    }\n",
       "</style>\n",
       "<table border=\"1\" class=\"dataframe\">\n",
       "  <thead>\n",
       "    <tr style=\"text-align: right;\">\n",
       "      <th></th>\n",
       "      <th>Age</th>\n",
       "      <th>Age1stCode</th>\n",
       "      <th>YearsCode</th>\n",
       "      <th>YearsCodePro</th>\n",
       "      <th>WorkWeekHrs</th>\n",
       "    </tr>\n",
       "  </thead>\n",
       "  <tbody>\n",
       "    <tr>\n",
       "      <th>count</th>\n",
       "      <td>45446.000000</td>\n",
       "      <td>57473.000000</td>\n",
       "      <td>56784.000000</td>\n",
       "      <td>44133.000000</td>\n",
       "      <td>41151.000000</td>\n",
       "    </tr>\n",
       "    <tr>\n",
       "      <th>mean</th>\n",
       "      <td>30.834111</td>\n",
       "      <td>15.476572</td>\n",
       "      <td>12.782051</td>\n",
       "      <td>8.869667</td>\n",
       "      <td>40.782174</td>\n",
       "    </tr>\n",
       "    <tr>\n",
       "      <th>std</th>\n",
       "      <td>9.585392</td>\n",
       "      <td>5.114081</td>\n",
       "      <td>9.490657</td>\n",
       "      <td>7.759961</td>\n",
       "      <td>17.816383</td>\n",
       "    </tr>\n",
       "    <tr>\n",
       "      <th>min</th>\n",
       "      <td>1.000000</td>\n",
       "      <td>5.000000</td>\n",
       "      <td>1.000000</td>\n",
       "      <td>1.000000</td>\n",
       "      <td>1.000000</td>\n",
       "    </tr>\n",
       "    <tr>\n",
       "      <th>25%</th>\n",
       "      <td>24.000000</td>\n",
       "      <td>12.000000</td>\n",
       "      <td>6.000000</td>\n",
       "      <td>3.000000</td>\n",
       "      <td>40.000000</td>\n",
       "    </tr>\n",
       "    <tr>\n",
       "      <th>50%</th>\n",
       "      <td>29.000000</td>\n",
       "      <td>15.000000</td>\n",
       "      <td>10.000000</td>\n",
       "      <td>6.000000</td>\n",
       "      <td>40.000000</td>\n",
       "    </tr>\n",
       "    <tr>\n",
       "      <th>75%</th>\n",
       "      <td>35.000000</td>\n",
       "      <td>18.000000</td>\n",
       "      <td>17.000000</td>\n",
       "      <td>12.000000</td>\n",
       "      <td>44.000000</td>\n",
       "    </tr>\n",
       "    <tr>\n",
       "      <th>max</th>\n",
       "      <td>279.000000</td>\n",
       "      <td>85.000000</td>\n",
       "      <td>50.000000</td>\n",
       "      <td>50.000000</td>\n",
       "      <td>475.000000</td>\n",
       "    </tr>\n",
       "  </tbody>\n",
       "</table>\n",
       "</div>"
      ],
      "text/plain": [
       "                Age    Age1stCode     YearsCode  YearsCodePro   WorkWeekHrs\n",
       "count  45446.000000  57473.000000  56784.000000  44133.000000  41151.000000\n",
       "mean      30.834111     15.476572     12.782051      8.869667     40.782174\n",
       "std        9.585392      5.114081      9.490657      7.759961     17.816383\n",
       "min        1.000000      5.000000      1.000000      1.000000      1.000000\n",
       "25%       24.000000     12.000000      6.000000      3.000000     40.000000\n",
       "50%       29.000000     15.000000     10.000000      6.000000     40.000000\n",
       "75%       35.000000     18.000000     17.000000     12.000000     44.000000\n",
       "max      279.000000     85.000000     50.000000     50.000000    475.000000"
      ]
     },
     "execution_count": 125,
     "metadata": {},
     "output_type": "execute_result"
    }
   ],
   "source": [
    "survey_df.describe()"
   ]
  },
  {
   "cell_type": "code",
   "execution_count": 131,
   "metadata": {},
   "outputs": [
    {
     "data": {
      "text/html": [
       "<div>\n",
       "<style scoped>\n",
       "    .dataframe tbody tr th:only-of-type {\n",
       "        vertical-align: middle;\n",
       "    }\n",
       "\n",
       "    .dataframe tbody tr th {\n",
       "        vertical-align: top;\n",
       "    }\n",
       "\n",
       "    .dataframe thead th {\n",
       "        text-align: right;\n",
       "    }\n",
       "</style>\n",
       "<table border=\"1\" class=\"dataframe\">\n",
       "  <thead>\n",
       "    <tr style=\"text-align: right;\">\n",
       "      <th></th>\n",
       "      <th>Country</th>\n",
       "      <th>Age</th>\n",
       "      <th>Gender</th>\n",
       "      <th>EdLevel</th>\n",
       "      <th>UndergradMajor</th>\n",
       "      <th>Hobbyist</th>\n",
       "      <th>Age1stCode</th>\n",
       "      <th>YearsCode</th>\n",
       "      <th>YearsCodePro</th>\n",
       "      <th>LanguageWorkedWith</th>\n",
       "      <th>LanguageDesireNextYear</th>\n",
       "      <th>NEWLearn</th>\n",
       "      <th>NEWStuck</th>\n",
       "      <th>Employment</th>\n",
       "      <th>DevType</th>\n",
       "      <th>WorkWeekHrs</th>\n",
       "      <th>JobSat</th>\n",
       "      <th>JobFactors</th>\n",
       "      <th>NEWOvertime</th>\n",
       "      <th>NEWEdImpt</th>\n",
       "    </tr>\n",
       "  </thead>\n",
       "  <tbody>\n",
       "    <tr>\n",
       "      <th>14375</th>\n",
       "      <td>Netherlands</td>\n",
       "      <td>279.0</td>\n",
       "      <td>Man</td>\n",
       "      <td>Bachelor’s degree (B.A., B.S., B.Eng., etc.)</td>\n",
       "      <td>Computer science, computer engineering, or software engineering</td>\n",
       "      <td>Yes</td>\n",
       "      <td>16.0</td>\n",
       "      <td>7.0</td>\n",
       "      <td>3.0</td>\n",
       "      <td>C++</td>\n",
       "      <td>Swift</td>\n",
       "      <td>Once every few years</td>\n",
       "      <td>Play games;Call a coworker or friend;Visit Stack Overflow;Go for a walk or other physical activity;Do other work and come back later</td>\n",
       "      <td>Employed full-time</td>\n",
       "      <td>Developer, mobile</td>\n",
       "      <td>40.0</td>\n",
       "      <td>Slightly satisfied</td>\n",
       "      <td>Industry that I’d be working in;Specific department or team I’d be working on;Office environment or company culture</td>\n",
       "      <td>Never</td>\n",
       "      <td>Very important</td>\n",
       "    </tr>\n",
       "  </tbody>\n",
       "</table>\n",
       "</div>"
      ],
      "text/plain": [
       "           Country    Age Gender  \\\n",
       "14375  Netherlands  279.0    Man   \n",
       "\n",
       "                                            EdLevel  \\\n",
       "14375  Bachelor’s degree (B.A., B.S., B.Eng., etc.)   \n",
       "\n",
       "                                                        UndergradMajor  \\\n",
       "14375  Computer science, computer engineering, or software engineering   \n",
       "\n",
       "      Hobbyist  Age1stCode  YearsCode  YearsCodePro LanguageWorkedWith  \\\n",
       "14375      Yes        16.0        7.0           3.0                C++   \n",
       "\n",
       "      LanguageDesireNextYear              NEWLearn  \\\n",
       "14375                  Swift  Once every few years   \n",
       "\n",
       "                                                                                                                                   NEWStuck  \\\n",
       "14375  Play games;Call a coworker or friend;Visit Stack Overflow;Go for a walk or other physical activity;Do other work and come back later   \n",
       "\n",
       "               Employment            DevType  WorkWeekHrs              JobSat  \\\n",
       "14375  Employed full-time  Developer, mobile         40.0  Slightly satisfied   \n",
       "\n",
       "                                                                                                                JobFactors  \\\n",
       "14375  Industry that I’d be working in;Specific department or team I’d be working on;Office environment or company culture   \n",
       "\n",
       "      NEWOvertime       NEWEdImpt  \n",
       "14375       Never  Very important  "
      ]
     },
     "execution_count": 131,
     "metadata": {},
     "output_type": "execute_result"
    }
   ],
   "source": [
    "np.count_nonzero(survey_df['Age'] > 100) \n",
    "rows_age_more_100 = survey_df[survey_df['Age'] > 100] \n",
    "rows_age_more_100"
   ]
  },
  {
   "cell_type": "markdown",
   "metadata": {},
   "source": [
    "- Update the value for the custom column for the row with index 14375\n"
   ]
  },
  {
   "cell_type": "code",
   "execution_count": 145,
   "metadata": {},
   "outputs": [
    {
     "data": {
      "text/plain": [
       "27.0"
      ]
     },
     "execution_count": 145,
     "metadata": {},
     "output_type": "execute_result"
    }
   ],
   "source": [
    "survey_df.loc[14375, 'Age'] = 27\n",
    "survey_df.loc[14375, 'Age'] "
   ]
  },
  {
   "cell_type": "code",
   "execution_count": 146,
   "metadata": {},
   "outputs": [
    {
     "data": {
      "text/plain": [
       "0"
      ]
     },
     "execution_count": 146,
     "metadata": {},
     "output_type": "execute_result"
    }
   ],
   "source": [
    "np.count_nonzero(survey_df['Age'] > 100) \n"
   ]
  },
  {
   "cell_type": "code",
   "execution_count": 147,
   "metadata": {},
   "outputs": [
    {
     "data": {
      "text/plain": [
       "9"
      ]
     },
     "execution_count": 147,
     "metadata": {},
     "output_type": "execute_result"
    }
   ],
   "source": [
    "np.count_nonzero(survey_df['Age'] < 10) \n"
   ]
  },
  {
   "cell_type": "code",
   "execution_count": 152,
   "metadata": {},
   "outputs": [
    {
     "data": {
      "text/plain": [
       "[8793, 11600, 12271, 20042, 25061, 26952, 54687, 58292, 64383]"
      ]
     },
     "execution_count": 152,
     "metadata": {},
     "output_type": "execute_result"
    }
   ],
   "source": [
    "rows_age_less_10 = survey_df[survey_df['Age'] < 10]\n",
    "indexes_rows_age_less_10 = rows_age_less_10.index.to_list()\n",
    "indexes_rows_age_less_10"
   ]
  },
  {
   "cell_type": "code",
   "execution_count": 155,
   "metadata": {},
   "outputs": [
    {
     "data": {
      "text/plain": [
       "8793     3.0\n",
       "11600    5.0\n",
       "12271    1.0\n",
       "20042    1.0\n",
       "25061    1.0\n",
       "26952    7.0\n",
       "54687    1.0\n",
       "58292    1.0\n",
       "64383    1.0\n",
       "Name: Age, dtype: float64"
      ]
     },
     "execution_count": 155,
     "metadata": {},
     "output_type": "execute_result"
    }
   ],
   "source": [
    "age_values = survey_df.loc[indexes_rows_age_less_10, 'Age']\n",
    "age_values"
   ]
  },
  {
   "cell_type": "code",
   "execution_count": 156,
   "metadata": {},
   "outputs": [],
   "source": [
    "survey_df.drop(survey_df[survey_df.Age < 10].index, inplace=True)"
   ]
  },
  {
   "cell_type": "code",
   "execution_count": 158,
   "metadata": {},
   "outputs": [
    {
     "data": {
      "text/html": [
       "<div>\n",
       "<style scoped>\n",
       "    .dataframe tbody tr th:only-of-type {\n",
       "        vertical-align: middle;\n",
       "    }\n",
       "\n",
       "    .dataframe tbody tr th {\n",
       "        vertical-align: top;\n",
       "    }\n",
       "\n",
       "    .dataframe thead th {\n",
       "        text-align: right;\n",
       "    }\n",
       "</style>\n",
       "<table border=\"1\" class=\"dataframe\">\n",
       "  <thead>\n",
       "    <tr style=\"text-align: right;\">\n",
       "      <th></th>\n",
       "      <th>Age</th>\n",
       "      <th>Age1stCode</th>\n",
       "      <th>YearsCode</th>\n",
       "      <th>YearsCodePro</th>\n",
       "      <th>WorkWeekHrs</th>\n",
       "    </tr>\n",
       "  </thead>\n",
       "  <tbody>\n",
       "    <tr>\n",
       "      <th>count</th>\n",
       "      <td>45437.000000</td>\n",
       "      <td>57468.000000</td>\n",
       "      <td>56777.000000</td>\n",
       "      <td>44129.000000</td>\n",
       "      <td>41148.000000</td>\n",
       "    </tr>\n",
       "    <tr>\n",
       "      <th>mean</th>\n",
       "      <td>30.834210</td>\n",
       "      <td>15.476282</td>\n",
       "      <td>12.783028</td>\n",
       "      <td>8.870221</td>\n",
       "      <td>40.782134</td>\n",
       "    </tr>\n",
       "    <tr>\n",
       "      <th>std</th>\n",
       "      <td>9.506894</td>\n",
       "      <td>5.113953</td>\n",
       "      <td>9.490718</td>\n",
       "      <td>7.760058</td>\n",
       "      <td>17.815886</td>\n",
       "    </tr>\n",
       "    <tr>\n",
       "      <th>min</th>\n",
       "      <td>10.000000</td>\n",
       "      <td>5.000000</td>\n",
       "      <td>1.000000</td>\n",
       "      <td>1.000000</td>\n",
       "      <td>1.000000</td>\n",
       "    </tr>\n",
       "    <tr>\n",
       "      <th>25%</th>\n",
       "      <td>24.000000</td>\n",
       "      <td>12.000000</td>\n",
       "      <td>6.000000</td>\n",
       "      <td>3.000000</td>\n",
       "      <td>40.000000</td>\n",
       "    </tr>\n",
       "    <tr>\n",
       "      <th>50%</th>\n",
       "      <td>29.000000</td>\n",
       "      <td>15.000000</td>\n",
       "      <td>10.000000</td>\n",
       "      <td>6.000000</td>\n",
       "      <td>40.000000</td>\n",
       "    </tr>\n",
       "    <tr>\n",
       "      <th>75%</th>\n",
       "      <td>35.000000</td>\n",
       "      <td>18.000000</td>\n",
       "      <td>17.000000</td>\n",
       "      <td>12.000000</td>\n",
       "      <td>44.000000</td>\n",
       "    </tr>\n",
       "    <tr>\n",
       "      <th>max</th>\n",
       "      <td>99.000000</td>\n",
       "      <td>85.000000</td>\n",
       "      <td>50.000000</td>\n",
       "      <td>50.000000</td>\n",
       "      <td>475.000000</td>\n",
       "    </tr>\n",
       "  </tbody>\n",
       "</table>\n",
       "</div>"
      ],
      "text/plain": [
       "                Age    Age1stCode     YearsCode  YearsCodePro   WorkWeekHrs\n",
       "count  45437.000000  57468.000000  56777.000000  44129.000000  41148.000000\n",
       "mean      30.834210     15.476282     12.783028      8.870221     40.782134\n",
       "std        9.506894      5.113953      9.490718      7.760058     17.815886\n",
       "min       10.000000      5.000000      1.000000      1.000000      1.000000\n",
       "25%       24.000000     12.000000      6.000000      3.000000     40.000000\n",
       "50%       29.000000     15.000000     10.000000      6.000000     40.000000\n",
       "75%       35.000000     18.000000     17.000000     12.000000     44.000000\n",
       "max       99.000000     85.000000     50.000000     50.000000    475.000000"
      ]
     },
     "execution_count": 158,
     "metadata": {},
     "output_type": "execute_result"
    }
   ],
   "source": [
    "survey_df.describe()"
   ]
  },
  {
   "cell_type": "code",
   "execution_count": 161,
   "metadata": {},
   "outputs": [
    {
     "data": {
      "text/plain": [
       "145"
      ]
     },
     "execution_count": 161,
     "metadata": {},
     "output_type": "execute_result"
    }
   ],
   "source": [
    "survey_df[survey_df.WorkWeekHrs > 140].shape[0]"
   ]
  },
  {
   "cell_type": "code",
   "execution_count": 164,
   "metadata": {},
   "outputs": [
    {
     "data": {
      "text/plain": [
       "[1358,\n",
       " 2640,\n",
       " 3512,\n",
       " 3953,\n",
       " 6021,\n",
       " 6915,\n",
       " 6964,\n",
       " 7370,\n",
       " 7959,\n",
       " 8296,\n",
       " 8815,\n",
       " 9184,\n",
       " 9323,\n",
       " 9355,\n",
       " 9674,\n",
       " 10583,\n",
       " 10656,\n",
       " 11060,\n",
       " 11271,\n",
       " 11464,\n",
       " 11604,\n",
       " 11705,\n",
       " 12008,\n",
       " 12163,\n",
       " 12233,\n",
       " 13077,\n",
       " 13376,\n",
       " 13989,\n",
       " 14041,\n",
       " 14310,\n",
       " 14787,\n",
       " 14820,\n",
       " 15555,\n",
       " 15841,\n",
       " 16062,\n",
       " 16078,\n",
       " 16575,\n",
       " 16690,\n",
       " 17394,\n",
       " 17721,\n",
       " 18030,\n",
       " 19158,\n",
       " 19825,\n",
       " 21153,\n",
       " 21565,\n",
       " 21819,\n",
       " 22401,\n",
       " 22800,\n",
       " 23163,\n",
       " 23214,\n",
       " 23228,\n",
       " 23728,\n",
       " 23786,\n",
       " 23870,\n",
       " 23917,\n",
       " 24297,\n",
       " 25413,\n",
       " 25477,\n",
       " 26545,\n",
       " 26569,\n",
       " 26844,\n",
       " 27257,\n",
       " 27512,\n",
       " 27796,\n",
       " 28972,\n",
       " 29269,\n",
       " 31119,\n",
       " 31649,\n",
       " 31733,\n",
       " 31848,\n",
       " 32284,\n",
       " 32492,\n",
       " 32610,\n",
       " 32807,\n",
       " 32889,\n",
       " 33873,\n",
       " 34020,\n",
       " 34730,\n",
       " 35060,\n",
       " 35897,\n",
       " 36894,\n",
       " 37122,\n",
       " 38218,\n",
       " 38432,\n",
       " 39048,\n",
       " 39210,\n",
       " 39258,\n",
       " 39576,\n",
       " 39712,\n",
       " 39763,\n",
       " 40599,\n",
       " 43898,\n",
       " 43908,\n",
       " 44014,\n",
       " 44070,\n",
       " 44257,\n",
       " 44266,\n",
       " 44437,\n",
       " 44745,\n",
       " 44913,\n",
       " 45114,\n",
       " 45728,\n",
       " 45753,\n",
       " 45855,\n",
       " 45866,\n",
       " 46012,\n",
       " 46020,\n",
       " 46348,\n",
       " 46379,\n",
       " 46385,\n",
       " 46642,\n",
       " 47248,\n",
       " 47615,\n",
       " 47710,\n",
       " 47779,\n",
       " 48179,\n",
       " 48364,\n",
       " 48494,\n",
       " 49060,\n",
       " 49878,\n",
       " 50034,\n",
       " 51876,\n",
       " 53231,\n",
       " 54664,\n",
       " 54675,\n",
       " 54685,\n",
       " 55167,\n",
       " 55256,\n",
       " 55554,\n",
       " 55683,\n",
       " 56561,\n",
       " 56725,\n",
       " 57064,\n",
       " 57678,\n",
       " 58301,\n",
       " 58509,\n",
       " 58826,\n",
       " 58861,\n",
       " 59351,\n",
       " 59962,\n",
       " 59994,\n",
       " 60001,\n",
       " 61308,\n",
       " 61756,\n",
       " 61923]"
      ]
     },
     "execution_count": 164,
     "metadata": {},
     "output_type": "execute_result"
    }
   ],
   "source": [
    "indexes_WorkWeekHrs_more_140 = survey_df[survey_df['WorkWeekHrs'] > 140]\n",
    "indexes_WorkWeekHrs_more_140 = indexes_WorkWeekHrs_more_140.index.to_list()\n",
    "indexes_WorkWeekHrs_more_140"
   ]
  },
  {
   "cell_type": "code",
   "execution_count": 165,
   "metadata": {},
   "outputs": [
    {
     "data": {
      "text/plain": [
       "1358     375.0\n",
       "2640     375.0\n",
       "3512     160.0\n",
       "3953     160.0\n",
       "6021     168.0\n",
       "         ...  \n",
       "59994    385.0\n",
       "60001    168.0\n",
       "61308    375.0\n",
       "61756    375.0\n",
       "61923    160.0\n",
       "Name: WorkWeekHrs, Length: 145, dtype: float64"
      ]
     },
     "execution_count": 165,
     "metadata": {},
     "output_type": "execute_result"
    }
   ],
   "source": [
    "WorkWeekHrs_Values = survey_df.loc[indexes_WorkWeekHrs_more_140, 'WorkWeekHrs']\n",
    "WorkWeekHrs_Values"
   ]
  },
  {
   "cell_type": "markdown",
   "metadata": {},
   "source": [
    " - The same holds for WorkWeekHrs. Let's ignore entries where the value for the column is higher than 140 hours. (~20 hours per day)."
   ]
  },
  {
   "cell_type": "code",
   "execution_count": 166,
   "metadata": {},
   "outputs": [],
   "source": [
    "survey_df.drop(survey_df[survey_df.WorkWeekHrs > 140].index, inplace=True)"
   ]
  },
  {
   "cell_type": "code",
   "execution_count": 167,
   "metadata": {},
   "outputs": [
    {
     "data": {
      "text/html": [
       "<div>\n",
       "<style scoped>\n",
       "    .dataframe tbody tr th:only-of-type {\n",
       "        vertical-align: middle;\n",
       "    }\n",
       "\n",
       "    .dataframe tbody tr th {\n",
       "        vertical-align: top;\n",
       "    }\n",
       "\n",
       "    .dataframe thead th {\n",
       "        text-align: right;\n",
       "    }\n",
       "</style>\n",
       "<table border=\"1\" class=\"dataframe\">\n",
       "  <thead>\n",
       "    <tr style=\"text-align: right;\">\n",
       "      <th></th>\n",
       "      <th>Age</th>\n",
       "      <th>Age1stCode</th>\n",
       "      <th>YearsCode</th>\n",
       "      <th>YearsCodePro</th>\n",
       "      <th>WorkWeekHrs</th>\n",
       "    </tr>\n",
       "  </thead>\n",
       "  <tbody>\n",
       "    <tr>\n",
       "      <th>count</th>\n",
       "      <td>45320.000000</td>\n",
       "      <td>57327.000000</td>\n",
       "      <td>56637.000000</td>\n",
       "      <td>43994.000000</td>\n",
       "      <td>41003.000000</td>\n",
       "    </tr>\n",
       "    <tr>\n",
       "      <th>mean</th>\n",
       "      <td>30.832237</td>\n",
       "      <td>15.475326</td>\n",
       "      <td>12.783781</td>\n",
       "      <td>8.872869</td>\n",
       "      <td>40.024394</td>\n",
       "    </tr>\n",
       "    <tr>\n",
       "      <th>std</th>\n",
       "      <td>9.505877</td>\n",
       "      <td>5.114908</td>\n",
       "      <td>9.494466</td>\n",
       "      <td>7.762052</td>\n",
       "      <td>10.629880</td>\n",
       "    </tr>\n",
       "    <tr>\n",
       "      <th>min</th>\n",
       "      <td>10.000000</td>\n",
       "      <td>5.000000</td>\n",
       "      <td>1.000000</td>\n",
       "      <td>1.000000</td>\n",
       "      <td>1.000000</td>\n",
       "    </tr>\n",
       "    <tr>\n",
       "      <th>25%</th>\n",
       "      <td>24.000000</td>\n",
       "      <td>12.000000</td>\n",
       "      <td>6.000000</td>\n",
       "      <td>3.000000</td>\n",
       "      <td>40.000000</td>\n",
       "    </tr>\n",
       "    <tr>\n",
       "      <th>50%</th>\n",
       "      <td>29.000000</td>\n",
       "      <td>15.000000</td>\n",
       "      <td>10.000000</td>\n",
       "      <td>6.000000</td>\n",
       "      <td>40.000000</td>\n",
       "    </tr>\n",
       "    <tr>\n",
       "      <th>75%</th>\n",
       "      <td>35.000000</td>\n",
       "      <td>18.000000</td>\n",
       "      <td>17.000000</td>\n",
       "      <td>12.000000</td>\n",
       "      <td>43.000000</td>\n",
       "    </tr>\n",
       "    <tr>\n",
       "      <th>max</th>\n",
       "      <td>99.000000</td>\n",
       "      <td>85.000000</td>\n",
       "      <td>50.000000</td>\n",
       "      <td>50.000000</td>\n",
       "      <td>140.000000</td>\n",
       "    </tr>\n",
       "  </tbody>\n",
       "</table>\n",
       "</div>"
      ],
      "text/plain": [
       "                Age    Age1stCode     YearsCode  YearsCodePro   WorkWeekHrs\n",
       "count  45320.000000  57327.000000  56637.000000  43994.000000  41003.000000\n",
       "mean      30.832237     15.475326     12.783781      8.872869     40.024394\n",
       "std        9.505877      5.114908      9.494466      7.762052     10.629880\n",
       "min       10.000000      5.000000      1.000000      1.000000      1.000000\n",
       "25%       24.000000     12.000000      6.000000      3.000000     40.000000\n",
       "50%       29.000000     15.000000     10.000000      6.000000     40.000000\n",
       "75%       35.000000     18.000000     17.000000     12.000000     43.000000\n",
       "max       99.000000     85.000000     50.000000     50.000000    140.000000"
      ]
     },
     "execution_count": 167,
     "metadata": {},
     "output_type": "execute_result"
    }
   ],
   "source": [
    "survey_df.describe()"
   ]
  },
  {
   "cell_type": "markdown",
   "metadata": {},
   "source": [
    "**alpha columns**"
   ]
  },
  {
   "cell_type": "code",
   "execution_count": 168,
   "metadata": {},
   "outputs": [
    {
     "data": {
      "text/plain": [
       "Man                                                            45896\n",
       "Woman                                                           3835\n",
       "Non-binary, genderqueer, or gender non-conforming                385\n",
       "Man;Non-binary, genderqueer, or gender non-conforming            121\n",
       "Woman;Non-binary, genderqueer, or gender non-conforming           92\n",
       "Woman;Man                                                         73\n",
       "Woman;Man;Non-binary, genderqueer, or gender non-conforming       25\n",
       "Name: Gender, dtype: int64"
      ]
     },
     "execution_count": 168,
     "metadata": {},
     "output_type": "execute_result"
    }
   ],
   "source": [
    "survey_df['Gender'].value_counts()"
   ]
  },
  {
   "cell_type": "code",
   "execution_count": 169,
   "metadata": {},
   "outputs": [
    {
     "data": {
      "text/plain": [
       "\" \\n    (survey_df.Gender.str.contains(';', na=False))\\nResult: This will return a Series of boolean values:\\n\\nFalse for entries that contain a semicolon.\\nTrue for entries that do not contain a semicolon or are NaN.\\n\\nEffect of where()\\nEntries that are True (i.e., do not contain a semicolon):\\nThese entries will remain unchanged in the DataFrame. \\nThe where() method keeps the original value for all rows where the condition is True.\\n\""
      ]
     },
     "execution_count": 169,
     "metadata": {},
     "output_type": "execute_result"
    }
   ],
   "source": [
    "\"\"\"   \n",
    "By using na=False, you instruct Pandas to treat any NaN values as False. \n",
    "This means that if an entry is NaN, it will not match the condition, \n",
    "effectively ignoring it in the context of your query.\n",
    "\"\"\"\n",
    "survey_df.where(~(survey_df.Gender.str.contains(';', na=False)), np.nan, inplace=True)\n",
    "\"\"\" \n",
    "    (survey_df.Gender.str.contains(';', na=False))\n",
    "Result: This will return a Series of boolean values:\n",
    "\n",
    "False for entries that contain a semicolon.\n",
    "True for entries that do not contain a semicolon or are NaN.\n",
    "\n",
    "Effect of where()\n",
    "Entries that are True (i.e., do not contain a semicolon):\n",
    "These entries will remain unchanged in the DataFrame. \n",
    "The where() method keeps the original value for all rows where the condition is True.\n",
    "\"\"\""
   ]
  },
  {
   "cell_type": "code",
   "execution_count": 170,
   "metadata": {},
   "outputs": [
    {
     "data": {
      "text/plain": [
       "Man                                                  45896\n",
       "Woman                                                 3835\n",
       "Non-binary, genderqueer, or gender non-conforming      385\n",
       "Name: Gender, dtype: int64"
      ]
     },
     "execution_count": 170,
     "metadata": {},
     "output_type": "execute_result"
    }
   ],
   "source": [
    "survey_df['Gender'].value_counts()"
   ]
  },
  {
   "cell_type": "code",
   "execution_count": 172,
   "metadata": {},
   "outputs": [
    {
     "data": {
      "text/html": [
       "<div>\n",
       "<style scoped>\n",
       "    .dataframe tbody tr th:only-of-type {\n",
       "        vertical-align: middle;\n",
       "    }\n",
       "\n",
       "    .dataframe tbody tr th {\n",
       "        vertical-align: top;\n",
       "    }\n",
       "\n",
       "    .dataframe thead th {\n",
       "        text-align: right;\n",
       "    }\n",
       "</style>\n",
       "<table border=\"1\" class=\"dataframe\">\n",
       "  <thead>\n",
       "    <tr style=\"text-align: right;\">\n",
       "      <th></th>\n",
       "      <th>Country</th>\n",
       "      <th>Age</th>\n",
       "      <th>Gender</th>\n",
       "      <th>EdLevel</th>\n",
       "      <th>UndergradMajor</th>\n",
       "      <th>Hobbyist</th>\n",
       "      <th>Age1stCode</th>\n",
       "      <th>YearsCode</th>\n",
       "      <th>YearsCodePro</th>\n",
       "      <th>LanguageWorkedWith</th>\n",
       "      <th>LanguageDesireNextYear</th>\n",
       "      <th>NEWLearn</th>\n",
       "      <th>NEWStuck</th>\n",
       "      <th>Employment</th>\n",
       "      <th>DevType</th>\n",
       "      <th>WorkWeekHrs</th>\n",
       "      <th>JobSat</th>\n",
       "      <th>JobFactors</th>\n",
       "      <th>NEWOvertime</th>\n",
       "      <th>NEWEdImpt</th>\n",
       "    </tr>\n",
       "  </thead>\n",
       "  <tbody>\n",
       "    <tr>\n",
       "      <th>967</th>\n",
       "      <td>United States</td>\n",
       "      <td>28.0</td>\n",
       "      <td>Man</td>\n",
       "      <td>Bachelor’s degree (B.A., B.S., B.Eng., etc.)</td>\n",
       "      <td>Computer science, computer engineering, or software engineering</td>\n",
       "      <td>Yes</td>\n",
       "      <td>15.0</td>\n",
       "      <td>13.0</td>\n",
       "      <td>7.0</td>\n",
       "      <td>C#;HTML/CSS;Java;JavaScript;Objective-C;Python;SQL;Swift;TypeScript</td>\n",
       "      <td>C#;HTML/CSS;Java;JavaScript;Python;SQL;Swift;TypeScript</td>\n",
       "      <td>Once a year</td>\n",
       "      <td>Visit Stack Overflow;Go for a walk or other physical activity;Watch help / tutorial videos;Do other work and come back later</td>\n",
       "      <td>Employed full-time</td>\n",
       "      <td>Developer, back-end;Developer, front-end;Developer, full-stack</td>\n",
       "      <td>40.0</td>\n",
       "      <td>Slightly satisfied</td>\n",
       "      <td>Industry that I’d be working in;Languages, frameworks, and other technologies I’d be working with;Remote work options</td>\n",
       "      <td>Occasionally: 1-2 days per quarter but less than monthly</td>\n",
       "      <td>Fairly important</td>\n",
       "    </tr>\n",
       "    <tr>\n",
       "      <th>19304</th>\n",
       "      <td>Iran</td>\n",
       "      <td>25.0</td>\n",
       "      <td>Woman</td>\n",
       "      <td>Bachelor’s degree (B.A., B.S., B.Eng., etc.)</td>\n",
       "      <td>Computer science, computer engineering, or software engineering</td>\n",
       "      <td>Yes</td>\n",
       "      <td>12.0</td>\n",
       "      <td>14.0</td>\n",
       "      <td>4.0</td>\n",
       "      <td>C;Kotlin;Python</td>\n",
       "      <td>C;C#;HTML/CSS;JavaScript;Kotlin;TypeScript</td>\n",
       "      <td>Every few months</td>\n",
       "      <td>Play games;Visit Stack Overflow;Go for a walk or other physical activity;Watch help / tutorial videos</td>\n",
       "      <td>Independent contractor, freelancer, or self-employed</td>\n",
       "      <td>Designer;Developer, embedded applications or devices;Developer, mobile</td>\n",
       "      <td>40.0</td>\n",
       "      <td>Slightly satisfied</td>\n",
       "      <td>Languages, frameworks, and other technologies I’d be working with;Specific department or team I’d be working on;How widely used or impactful my work output would be</td>\n",
       "      <td>Often: 1-2 days per week or more</td>\n",
       "      <td>Critically important</td>\n",
       "    </tr>\n",
       "    <tr>\n",
       "      <th>3295</th>\n",
       "      <td>United States</td>\n",
       "      <td>NaN</td>\n",
       "      <td>Man</td>\n",
       "      <td>Bachelor’s degree (B.A., B.S., B.Eng., etc.)</td>\n",
       "      <td>A natural science (such as biology, chemistry, physics, etc.)</td>\n",
       "      <td>Yes</td>\n",
       "      <td>23.0</td>\n",
       "      <td>9.0</td>\n",
       "      <td>6.0</td>\n",
       "      <td>HTML/CSS;JavaScript</td>\n",
       "      <td>Haskell;HTML/CSS;JavaScript;Rust;TypeScript</td>\n",
       "      <td>Once a year</td>\n",
       "      <td>Call a coworker or friend;Visit Stack Overflow;Go for a walk or other physical activity;Do other work and come back later</td>\n",
       "      <td>Employed full-time</td>\n",
       "      <td>Developer, back-end;Developer, front-end;Developer, full-stack</td>\n",
       "      <td>NaN</td>\n",
       "      <td>Very satisfied</td>\n",
       "      <td>Flex time or a flexible schedule;Languages, frameworks, and other technologies I’d be working with;Office environment or company culture</td>\n",
       "      <td>Occasionally: 1-2 days per quarter but less than monthly</td>\n",
       "      <td>Not at all important/not necessary</td>\n",
       "    </tr>\n",
       "  </tbody>\n",
       "</table>\n",
       "</div>"
      ],
      "text/plain": [
       "             Country   Age Gender  \\\n",
       "967    United States  28.0    Man   \n",
       "19304           Iran  25.0  Woman   \n",
       "3295   United States   NaN    Man   \n",
       "\n",
       "                                            EdLevel  \\\n",
       "967    Bachelor’s degree (B.A., B.S., B.Eng., etc.)   \n",
       "19304  Bachelor’s degree (B.A., B.S., B.Eng., etc.)   \n",
       "3295   Bachelor’s degree (B.A., B.S., B.Eng., etc.)   \n",
       "\n",
       "                                                        UndergradMajor  \\\n",
       "967    Computer science, computer engineering, or software engineering   \n",
       "19304  Computer science, computer engineering, or software engineering   \n",
       "3295     A natural science (such as biology, chemistry, physics, etc.)   \n",
       "\n",
       "      Hobbyist  Age1stCode  YearsCode  YearsCodePro  \\\n",
       "967        Yes        15.0       13.0           7.0   \n",
       "19304      Yes        12.0       14.0           4.0   \n",
       "3295       Yes        23.0        9.0           6.0   \n",
       "\n",
       "                                                        LanguageWorkedWith  \\\n",
       "967    C#;HTML/CSS;Java;JavaScript;Objective-C;Python;SQL;Swift;TypeScript   \n",
       "19304                                                      C;Kotlin;Python   \n",
       "3295                                                   HTML/CSS;JavaScript   \n",
       "\n",
       "                                        LanguageDesireNextYear  \\\n",
       "967    C#;HTML/CSS;Java;JavaScript;Python;SQL;Swift;TypeScript   \n",
       "19304               C;C#;HTML/CSS;JavaScript;Kotlin;TypeScript   \n",
       "3295               Haskell;HTML/CSS;JavaScript;Rust;TypeScript   \n",
       "\n",
       "               NEWLearn  \\\n",
       "967         Once a year   \n",
       "19304  Every few months   \n",
       "3295        Once a year   \n",
       "\n",
       "                                                                                                                           NEWStuck  \\\n",
       "967    Visit Stack Overflow;Go for a walk or other physical activity;Watch help / tutorial videos;Do other work and come back later   \n",
       "19304                         Play games;Visit Stack Overflow;Go for a walk or other physical activity;Watch help / tutorial videos   \n",
       "3295      Call a coworker or friend;Visit Stack Overflow;Go for a walk or other physical activity;Do other work and come back later   \n",
       "\n",
       "                                                 Employment  \\\n",
       "967                                      Employed full-time   \n",
       "19304  Independent contractor, freelancer, or self-employed   \n",
       "3295                                     Employed full-time   \n",
       "\n",
       "                                                                      DevType  \\\n",
       "967            Developer, back-end;Developer, front-end;Developer, full-stack   \n",
       "19304  Designer;Developer, embedded applications or devices;Developer, mobile   \n",
       "3295           Developer, back-end;Developer, front-end;Developer, full-stack   \n",
       "\n",
       "       WorkWeekHrs              JobSat  \\\n",
       "967           40.0  Slightly satisfied   \n",
       "19304         40.0  Slightly satisfied   \n",
       "3295           NaN      Very satisfied   \n",
       "\n",
       "                                                                                                                                                                 JobFactors  \\\n",
       "967                                                   Industry that I’d be working in;Languages, frameworks, and other technologies I’d be working with;Remote work options   \n",
       "19304  Languages, frameworks, and other technologies I’d be working with;Specific department or team I’d be working on;How widely used or impactful my work output would be   \n",
       "3295                               Flex time or a flexible schedule;Languages, frameworks, and other technologies I’d be working with;Office environment or company culture   \n",
       "\n",
       "                                                    NEWOvertime  \\\n",
       "967    Occasionally: 1-2 days per quarter but less than monthly   \n",
       "19304                          Often: 1-2 days per week or more   \n",
       "3295   Occasionally: 1-2 days per quarter but less than monthly   \n",
       "\n",
       "                                NEWEdImpt  \n",
       "967                      Fairly important  \n",
       "19304                Critically important  \n",
       "3295   Not at all important/not necessary  "
      ]
     },
     "execution_count": 172,
     "metadata": {},
     "output_type": "execute_result"
    }
   ],
   "source": [
    "\n",
    "survey_df.sample(3)\n"
   ]
  },
  {
   "cell_type": "markdown",
   "metadata": {},
   "source": []
  },
  {
   "cell_type": "code",
   "execution_count": null,
   "metadata": {},
   "outputs": [],
   "source": []
  },
  {
   "cell_type": "markdown",
   "metadata": {},
   "source": []
  },
  {
   "cell_type": "code",
   "execution_count": null,
   "metadata": {},
   "outputs": [],
   "source": []
  },
  {
   "cell_type": "markdown",
   "metadata": {},
   "source": []
  },
  {
   "cell_type": "code",
   "execution_count": null,
   "metadata": {},
   "outputs": [],
   "source": []
  },
  {
   "cell_type": "markdown",
   "metadata": {},
   "source": []
  },
  {
   "cell_type": "code",
   "execution_count": null,
   "metadata": {},
   "outputs": [],
   "source": []
  }
 ],
 "metadata": {
  "kernelspec": {
   "display_name": "ai",
   "language": "python",
   "name": "python3"
  },
  "language_info": {
   "codemirror_mode": {
    "name": "ipython",
    "version": 3
   },
   "file_extension": ".py",
   "mimetype": "text/x-python",
   "name": "python",
   "nbconvert_exporter": "python",
   "pygments_lexer": "ipython3",
   "version": "3.7.17"
  }
 },
 "nbformat": 4,
 "nbformat_minor": 2
}
