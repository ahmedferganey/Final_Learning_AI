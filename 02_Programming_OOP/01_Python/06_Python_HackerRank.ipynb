{
 "cells": [
  {
   "cell_type": "code",
   "execution_count": 7,
   "metadata": {},
   "outputs": [
    {
     "name": "stdout",
     "output_type": "stream",
     "text": [
      "not valid\n"
     ]
    }
   ],
   "source": [
    "#!/bin/python3\n",
    "\n",
    "import math\n",
    "import os\n",
    "import random\n",
    "import re\n",
    "import sys\n",
    "\n",
    "\n",
    "\n",
    "if __name__ == '__main__':\n",
    "    n = int(input().strip())\n",
    "    if not (1<= n <= 100):\n",
    "        print(\"not valid\")\n",
    "    else:\n",
    "        if n % 2 != 0:\n",
    "            print(\"Weird\")\n",
    "        elif 2 <= n <= 5:\n",
    "            print(\"Not Weird\")\n",
    "        elif 6 <= n <= 20:\n",
    "            print(\"Weird\")\n",
    "        else:  # n >= 20 and even\n",
    "            print(\"Not Weird\")\n",
    "        \n",
    "    \n"
   ]
  },
  {
   "cell_type": "markdown",
   "metadata": {},
   "source": [
    "> [HackerRank](https://www.hackerrank.com/challenges/text-alignment/problem?isFullScreen=true)"
   ]
  },
  {
   "cell_type": "code",
   "execution_count": 16,
   "metadata": {},
   "outputs": [
    {
     "name": "stdout",
     "output_type": "stream",
     "text": [
      "    H    \n",
      "   HHH   \n",
      "  HHHHH  \n",
      " HHHHHHH \n",
      "HHHHHHHHH\n",
      "  HHHHH         HHHHH  \n",
      "  HHHHH         HHHHH  \n",
      "  HHHHH         HHHHH  \n",
      "  HHHHH         HHHHH  \n",
      "  HHHHH         HHHHH  \n",
      "  HHHHH         HHHHH  \n",
      "  HHHHH         HHHHH  \n",
      "  HHHHH         HHHHH  \n",
      "  HHHHH         HHHHH  \n",
      "  HHHHH         HHHHH  \n",
      "  HHHHH         HHHHH  \n",
      "  HHHHH         HHHHH  \n",
      "HHHHHHHHH\n",
      " HHHHHHH \n",
      "  HHHHH  \n",
      "   HHH   \n",
      "    H    \n"
     ]
    }
   ],
   "source": [
    "def generate_hackerrank_logo(thickness):\n",
    "    # Top cone\n",
    "    for i in range(thickness):\n",
    "        # Create the string and then print it\n",
    "        print(('H' * (2 * i + 1)).center(thickness * 2 - 1))\n",
    "\n",
    "    # Top pillars\n",
    "    for i in range(thickness + 1):\n",
    "        print(('H' * thickness).center(thickness * 2 - 1) + ' ' * thickness + ('H' * thickness).center(thickness * 2 - 1))\n",
    "\n",
    "    # Bottom pillars\n",
    "    for i in range(thickness + 1):\n",
    "        print(('H' * thickness).center(thickness * 2 - 1) + ' ' * thickness + ('H' * thickness).center(thickness * 2 - 1))\n",
    "\n",
    "    # Bottom cone\n",
    "    for i in range(thickness):\n",
    "        print(('H' * (2 * (thickness - i) - 1)).center(thickness * 2 - 1))\n",
    "\n",
    "# Sample input\n",
    "thickness = 5\n",
    "generate_hackerrank_logo(thickness)\n"
   ]
  },
  {
   "cell_type": "code",
   "execution_count": 27,
   "metadata": {},
   "outputs": [
    {
     "name": "stdout",
     "output_type": "stream",
     "text": [
      "    H    \n",
      "   HHH   \n",
      "  HHHHH  \n",
      " HHHHHHH \n",
      "HHHHHHHHH\n",
      "  HHHHH               HHHHH             \n",
      "  HHHHH               HHHHH             \n",
      "  HHHHH               HHHHH             \n",
      "  HHHHH               HHHHH             \n",
      "  HHHHH               HHHHH             \n",
      "  HHHHH               HHHHH             \n",
      "  HHHHHHHHHHHHHHHHHHHHHHHHH   \n",
      "  HHHHHHHHHHHHHHHHHHHHHHHHH   \n",
      "  HHHHHHHHHHHHHHHHHHHHHHHHH   \n",
      "  HHHHH               HHHHH             \n",
      "  HHHHH               HHHHH             \n",
      "  HHHHH               HHHHH             \n",
      "  HHHHH               HHHHH             \n",
      "  HHHHH               HHHHH             \n",
      "  HHHHH               HHHHH             \n",
      "                    HHHHHHHHH \n",
      "                     HHHHHHH  \n",
      "                      HHHHH   \n",
      "                       HHH    \n",
      "                        H     \n"
     ]
    }
   ],
   "source": [
    "# Read thickness\n",
    "thickness = int(input())  # This must be an odd number\n",
    "c = 'H'\n",
    "\n",
    "# Top cone\n",
    "for i in range(thickness):\n",
    "    print((c * i).rjust(thickness - 1) + c + (c * i).ljust(thickness - 1))\n",
    "        # print(('H' * (2 * i + 1)).center(thickness * 2 - 1))\n",
    "\n",
    "# Top pillars\n",
    "for i in range(thickness + 1):\n",
    "    print((c * thickness).center(thickness * 2) + (c * thickness).center(thickness * 6))\n",
    "        # print(('H' * thickness).center(thickness * 2 - 1) + ' ' * thickness + ('H' * thickness).center(thickness * 2 - 1))\n",
    "\n",
    "# Middle belt\n",
    "for i in range((thickness + 1) // 2):\n",
    "    print((c * thickness * 5).center(thickness * 6))\n",
    "\n",
    "# Bottom pillars\n",
    "for i in range(thickness + 1):\n",
    "    print((c * thickness).center(thickness * 2) + (c * thickness).center(thickness * 6))\n",
    "        # print(('H' * thickness).center(thickness * 2 - 1) + ' ' * thickness + ('H' * thickness).center(thickness * 2 - 1))\n",
    "\n",
    "# Bottom cone\n",
    "for i in range(thickness):\n",
    "    print(((c * (thickness - i - 1)).rjust(thickness) + c + (c * (thickness - i - 1)).ljust(thickness)).rjust(thickness * 6))\n",
    "        # print(('H' * (2 * (thickness - i) - 1)).center(thickness * 2 - 1))\n",
    "\n"
   ]
  },
  {
   "cell_type": "code",
   "execution_count": 24,
   "metadata": {},
   "outputs": [
    {
     "name": "stdout",
     "output_type": "stream",
     "text": [
      "    \n",
      "   H\n",
      "  HH\n",
      " HHH\n",
      "HHHH\n",
      "    H\n",
      "   HH\n",
      "  HHH\n",
      " HHHH\n",
      "HHHHH\n",
      "    H    \n",
      "   HHH   \n",
      "  HHHHH  \n",
      " HHHHHHH \n",
      "HHHHHHHHH\n"
     ]
    }
   ],
   "source": [
    "# Top cone\n",
    "for i in range(thickness):\n",
    "    print((c * i).rjust(thickness - 1) )\n",
    "        # print(('H' * (2 * i + 1)).center(thickness * 2 - 1))\n",
    "\n",
    "# Top cone\n",
    "for i in range(thickness):\n",
    "    print((c * i).rjust(thickness - 1) + c )\n",
    "        # print(('H' * (2 * i + 1)).center(thickness * 2 - 1))        \n",
    "\n",
    "# Top cone\n",
    "for i in range(thickness):\n",
    "    print((c * i).rjust(thickness - 1) + c + (c * i).ljust(thickness - 1))\n",
    "        # print(('H' * (2 * i + 1)).center(thickness * 2 - 1))                "
   ]
  },
  {
   "cell_type": "markdown",
   "metadata": {},
   "source": [
    "> [HackerRank](https://www.hackerrank.com/challenges/itertools-product/problem?isFullScreen=true)"
   ]
  },
  {
   "cell_type": "code",
   "execution_count": 62,
   "metadata": {},
   "outputs": [
    {
     "data": {
      "text/plain": [
       "[(1, 1)]"
      ]
     },
     "execution_count": 62,
     "metadata": {},
     "output_type": "execute_result"
    }
   ],
   "source": [
    "import itertools\n",
    "\n",
    "# Read the number of elements in the first list\n",
    "n_A = int(input().strip())\n",
    "# Read the first list\n",
    "A = list(map(int, input().strip().split()))\n",
    "\n",
    "# Read the number of elements in the second list\n",
    "n_B = int(input().strip())\n",
    "# Read the second list\n",
    "B = list(map(int, input().strip().split()))\n",
    "\n",
    "# Calculate the Cartesian product\n",
    "AxB = list(itertools.product(A, B))\n",
    "AxB"
   ]
  },
  {
   "cell_type": "code",
   "execution_count": 91,
   "metadata": {},
   "outputs": [
    {
     "name": "stdout",
     "output_type": "stream",
     "text": [
      "AxB is a list of tuples:  [(1, 4), (1, 5), (2, 4), (2, 5)]\n",
      "\n",
      "\n",
      "(1, 4) (1, 5) (2, 4) (2, 5)\n"
     ]
    }
   ],
   "source": [
    "# Read the first list from input\n",
    "A = list(map(int, input().strip().split()))\n",
    "# Read the second list from input\n",
    "B = list(map(int, input().strip().split()))\n",
    "\n",
    "# Calculate the Cartesian product\n",
    "AxB = itertools.product(A, B)\n",
    "print(\"AxB is a list of tuples: \",list(AxB))\n",
    "print(\"\\n\")\n",
    "print(' '.join(str(tup) for tup in  itertools.product(A, B))) # convert tuple to str\n",
    "\n"
   ]
  },
  {
   "cell_type": "code",
   "execution_count": 83,
   "metadata": {},
   "outputs": [
    {
     "name": "stdout",
     "output_type": "stream",
     "text": [
      "\n"
     ]
    }
   ],
   "source": [
    "print(' '.join(str(tup) for tup in AxB)) # convert tuple to str\n"
   ]
  },
  {
   "cell_type": "code",
   "execution_count": 79,
   "metadata": {},
   "outputs": [
    {
     "name": "stdout",
     "output_type": "stream",
     "text": [
      "tup:(1, 3)\n",
      "tup:(1, 4)\n",
      "tup:(2, 3)\n",
      "tup:(2, 4)\n"
     ]
    }
   ],
   "source": [
    "for tup in itertools.product(A, B):\n",
    "    print(f\"tup:{tup}\") "
   ]
  },
  {
   "cell_type": "markdown",
   "metadata": {},
   "source": [
    "> [HackerRank](https://www.hackerrank.com/challenges/itertools-permutations/problem?isFullScreen=true)"
   ]
  },
  {
   "cell_type": "code",
   "execution_count": 103,
   "metadata": {},
   "outputs": [
    {
     "name": "stdout",
     "output_type": "stream",
     "text": [
      "aa\n",
      "aa\n",
      "aa\n",
      "ad\n",
      "ae\n",
      "ae\n",
      "ah\n",
      "ai\n",
      "al\n",
      "am\n",
      "am\n",
      "am\n",
      "ao\n",
      "ar\n",
      "av\n",
      "aa\n",
      "aa\n",
      "aa\n",
      "ad\n",
      "ae\n",
      "ae\n",
      "ah\n",
      "ai\n",
      "al\n",
      "am\n",
      "am\n",
      "am\n",
      "ao\n",
      "ar\n",
      "av\n",
      "aa\n",
      "aa\n",
      "aa\n",
      "ad\n",
      "ae\n",
      "ae\n",
      "ah\n",
      "ai\n",
      "al\n",
      "am\n",
      "am\n",
      "am\n",
      "ao\n",
      "ar\n",
      "av\n",
      "dd\n",
      "de\n",
      "de\n",
      "dh\n",
      "di\n",
      "dl\n",
      "dm\n",
      "dm\n",
      "dm\n",
      "do\n",
      "dr\n",
      "dv\n",
      "ee\n",
      "ee\n",
      "eh\n",
      "ei\n",
      "el\n",
      "em\n",
      "em\n",
      "em\n",
      "eo\n",
      "er\n",
      "ev\n",
      "ee\n",
      "ee\n",
      "eh\n",
      "ei\n",
      "el\n",
      "em\n",
      "em\n",
      "em\n",
      "eo\n",
      "er\n",
      "ev\n",
      "hh\n",
      "hi\n",
      "hl\n",
      "hm\n",
      "hm\n",
      "hm\n",
      "ho\n",
      "hr\n",
      "hv\n",
      "ii\n",
      "il\n",
      "im\n",
      "im\n",
      "im\n",
      "io\n",
      "ir\n",
      "iv\n",
      "ll\n",
      "lm\n",
      "lm\n",
      "lm\n",
      "lo\n",
      "lr\n",
      "lv\n",
      "mm\n",
      "mm\n",
      "mm\n",
      "mo\n",
      "mr\n",
      "mv\n",
      "mm\n",
      "mm\n",
      "mm\n",
      "mo\n",
      "mr\n",
      "mv\n",
      "mm\n",
      "mm\n",
      "mm\n",
      "mo\n",
      "mr\n",
      "mv\n",
      "oo\n",
      "or\n",
      "ov\n",
      "rr\n",
      "rv\n",
      "vv\n"
     ]
    }
   ],
   "source": [
    "\"\"\" \n",
    "    # HACK 2\n",
    "AC AH AK CA\n",
    "CH CK HA HC\n",
    "HK KA KC KH\n",
    "\"\"\"\n",
    "string = str(input())\n",
    "no = int(input())\n",
    "\n",
    "def func(string, no):\n",
    "    if no > len(string):\n",
    "        return \"not valid number\"\n",
    "    else:\n",
    "        string= sorted(string)\n",
    "        for i in string:\n",
    "            for j in range(string.index(i) , len(string)):\n",
    "                print(f\"{i}{string[j]}\")\n",
    "\n",
    "func(string,no)"
   ]
  },
  {
   "cell_type": "code",
   "execution_count": 130,
   "metadata": {},
   "outputs": [
    {
     "name": "stdout",
     "output_type": "stream",
     "text": [
      "AC\n",
      "AH\n",
      "AK\n",
      "CA\n",
      "CH\n",
      "CK\n",
      "HA\n",
      "HC\n",
      "HK\n",
      "KA\n",
      "KC\n",
      "KH\n"
     ]
    }
   ],
   "source": [
    "import itertools\n",
    "\n",
    "string, no = input().split()\n",
    "no = int(no)\n",
    "\n",
    "def func(string, no):\n",
    "    if no > len(string):\n",
    "        return \"not valid number\"\n",
    "    else:\n",
    "        string= sorted(string.upper())\n",
    "        for i in itertools.permutations(string, r= no):\n",
    "            print(f\"{i[0]}{i[1]}\")\n",
    "            \n",
    "\n",
    "func(string,no)"
   ]
  },
  {
   "cell_type": "code",
   "execution_count": 129,
   "metadata": {},
   "outputs": [
    {
     "name": "stdout",
     "output_type": "stream",
     "text": [
      "AC\n",
      "AH\n",
      "AK\n",
      "CA\n",
      "CH\n",
      "CK\n",
      "HA\n",
      "HC\n",
      "HK\n",
      "KA\n",
      "KC\n",
      "KH\n"
     ]
    }
   ],
   "source": [
    "import itertools\n",
    "\n",
    "string = str(input(\"Enter a string: \"))\n",
    "no = int(input(\"Enter the length of permutations: \"))\n",
    "\n",
    "def func(string, no):\n",
    "    if no > len(string):\n",
    "        return \"not valid number\"\n",
    "    else:\n",
    "        string = sorted(string.upper())\n",
    "        for i in itertools.permutations(string, r=no):\n",
    "            # Join the tuple into a string of the permutation and print\n",
    "            print(\"\".join(i))\n",
    "            \n",
    "func(string, no)\n"
   ]
  },
  {
   "cell_type": "code",
   "execution_count": 119,
   "metadata": {},
   "outputs": [
    {
     "data": {
      "text/plain": [
       "['A', 'A', 'A', 'D', 'D', 'D', 'S', 'S']"
      ]
     },
     "execution_count": 119,
     "metadata": {},
     "output_type": "execute_result"
    }
   ],
   "source": [
    "string= \"dasdadsa\"\n",
    "string= sorted(string.upper())\n",
    "string"
   ]
  },
  {
   "cell_type": "code",
   "execution_count": 121,
   "metadata": {},
   "outputs": [
    {
     "name": "stdout",
     "output_type": "stream",
     "text": [
      "('a', 'c')\n",
      "('a', 'h')\n",
      "('a', 'k')\n",
      "('c', 'a')\n",
      "('c', 'h')\n",
      "('c', 'k')\n",
      "('h', 'a')\n",
      "('h', 'c')\n",
      "('h', 'k')\n",
      "('k', 'a')\n",
      "('k', 'c')\n",
      "('k', 'h')\n"
     ]
    }
   ],
   "source": [
    "import itertools\n",
    "\n",
    "string = str(input())\n",
    "no = int(input())\n",
    "\n",
    "def func(string, no):\n",
    "    if no > len(string):\n",
    "        return \"not valid number\"\n",
    "    else:\n",
    "        string= sorted(string)\n",
    "        for i in itertools.permutations(string, r= no):\n",
    "            print(i)\n",
    "            \n",
    "\n",
    "func(string,no)"
   ]
  },
  {
   "cell_type": "markdown",
   "metadata": {},
   "source": [
    "> [HackerRank](https://www.hackerrank.com/challenges/merge-the-tools/problem?isFullScreen=true)"
   ]
  },
  {
   "cell_type": "code",
   "execution_count": 155,
   "metadata": {},
   "outputs": [
    {
     "name": "stdout",
     "output_type": "stream",
     "text": [
      "ma\n",
      "ma\n",
      "ri\n"
     ]
    }
   ],
   "source": [
    "\"\"\" \n",
    "STDIN       Function\n",
    "-----       --------\n",
    "AABCAAADA   s = 'AABCAAADA'\n",
    "3           k = 3\n",
    "Sample Output\n",
    "AB\n",
    "CA\n",
    "AD\n",
    "\"\"\"\n",
    "\n",
    "def merge_the_tools(string, k):\n",
    "    # your code goes here\n",
    "    if 0 < k <= len(string):\n",
    "        j = len(string) // k\n",
    "        head, tail = 0, j                 # j = 3 case string = 9 and k = 3\n",
    "        substring_arr=[]\n",
    "        while string and tail < len(string):\n",
    "            substring_arr.append((string[head:tail]))\n",
    "            head, tail = tail , tail+j\n",
    "            for substring in substring_arr:\n",
    "                unique_chars = ''.join(dict.fromkeys(substring))  # Using dict.fromkeys to preserve order\n",
    "                print(unique_chars)             \n",
    "    else:\n",
    "        return \"invalid k\"\n",
    "\n",
    "if __name__ == '__main__':\n",
    "    string, k = input(), int(input())\n",
    "    merge_the_tools(string, k)"
   ]
  },
  {
   "cell_type": "code",
   "execution_count": 131,
   "metadata": {},
   "outputs": [
    {
     "data": {
      "text/plain": [
       "'da'"
      ]
     },
     "execution_count": 131,
     "metadata": {},
     "output_type": "execute_result"
    }
   ],
   "source": [
    "string = \"dasdas\"\n",
    "string[0:2]"
   ]
  },
  {
   "cell_type": "code",
   "execution_count": 149,
   "metadata": {},
   "outputs": [
    {
     "ename": "AttributeError",
     "evalue": "'str' object has no attribute 'unique'",
     "output_type": "error",
     "traceback": [
      "\u001b[0;31m---------------------------------------------------------------------------\u001b[0m",
      "\u001b[0;31mAttributeError\u001b[0m                            Traceback (most recent call last)",
      "\u001b[0;32m/tmp/ipykernel_37698/395119433.py\u001b[0m in \u001b[0;36m<module>\u001b[0;34m\u001b[0m\n\u001b[1;32m      1\u001b[0m \u001b[0msubstring_arr\u001b[0m  \u001b[0;34m=\u001b[0m \u001b[0;34m[\u001b[0m\u001b[0;34m'das'\u001b[0m\u001b[0;34m,\u001b[0m \u001b[0;34m'igd'\u001b[0m\u001b[0;34m]\u001b[0m\u001b[0;34m\u001b[0m\u001b[0;34m\u001b[0m\u001b[0m\n\u001b[0;32m----> 2\u001b[0;31m \u001b[0msubstring_arr\u001b[0m\u001b[0;34m[\u001b[0m\u001b[0;36m0\u001b[0m\u001b[0;34m]\u001b[0m \u001b[0;34m=\u001b[0m \u001b[0msubstring_arr\u001b[0m\u001b[0;34m[\u001b[0m\u001b[0;36m0\u001b[0m\u001b[0;34m]\u001b[0m\u001b[0;34m.\u001b[0m\u001b[0munique\u001b[0m\u001b[0;34m(\u001b[0m\u001b[0;34m)\u001b[0m  \u001b[0;31m# Replace with unique values\u001b[0m\u001b[0;34m\u001b[0m\u001b[0;34m\u001b[0m\u001b[0m\n\u001b[0m",
      "\u001b[0;31mAttributeError\u001b[0m: 'str' object has no attribute 'unique'"
     ]
    }
   ],
   "source": [
    "# substring_arr  = ['das', 'igd']\n",
    "# substring_arr[0] = substring_arr[0].unique()  # Replace with unique values\n"
   ]
  },
  {
   "cell_type": "code",
   "execution_count": 157,
   "metadata": {},
   "outputs": [
    {
     "name": "stdout",
     "output_type": "stream",
     "text": [
      "ma\n",
      "ri\n",
      "am\n"
     ]
    }
   ],
   "source": [
    "def merge_the_tools(string, k):\n",
    "    # Check if k is valid\n",
    "    if 0 < k <= len(string):\n",
    "        # Split the string into substrings of length k\n",
    "        substring_arr = [string[i:i + k] for i in range(0, len(string), k)]\n",
    "        \n",
    "        # Process each substring to get unique characters\n",
    "        for substring in substring_arr:\n",
    "            # Get unique characters while maintaining order\n",
    "            unique_chars = ''.join(dict.fromkeys(substring))  # Using dict.fromkeys to preserve order\n",
    "            print(unique_chars)  # Print the unique characters for each substring\n",
    "    else:\n",
    "        return \"invalid k\"\n",
    "\n",
    "if __name__ == '__main__':\n",
    "    string, k = input(), int(input())\n",
    "    merge_the_tools(string, k)\n"
   ]
  },
  {
   "cell_type": "code",
   "execution_count": 164,
   "metadata": {},
   "outputs": [
    {
     "data": {
      "text/plain": [
       "['aa', 'ri', 'am']"
      ]
     },
     "execution_count": 164,
     "metadata": {},
     "output_type": "execute_result"
    }
   ],
   "source": [
    "string = \"aariam\"\n",
    "substring_arr = [string[i:i + k] for i in range(0, len(string), k)]\n",
    "substring_arr"
   ]
  },
  {
   "cell_type": "code",
   "execution_count": 165,
   "metadata": {},
   "outputs": [
    {
     "name": "stdout",
     "output_type": "stream",
     "text": [
      "{'a': None}\n",
      "{'r': None, 'i': None}\n",
      "{'a': None, 'm': None}\n"
     ]
    }
   ],
   "source": [
    "for substring in substring_arr:\n",
    "    unique_chars = dict.fromkeys(substring)\n",
    "    print(unique_chars)\n",
    "    "
   ]
  },
  {
   "cell_type": "markdown",
   "metadata": {},
   "source": [
    "> [HackerRank](https://www.hackerrank.com/challenges/word-order/problem?isFullScreen=true)"
   ]
  },
  {
   "cell_type": "code",
   "execution_count": 16,
   "metadata": {},
   "outputs": [
    {
     "name": "stdout",
     "output_type": "stream",
     "text": [
      "3\n",
      "221"
     ]
    }
   ],
   "source": [
    "# Enter your code here. Read input from STDIN. Print output to STDOUT\n",
    "\n",
    "\n",
    "\n",
    "\"\"\"  \n",
    "input  :    1 : n : no of words\n",
    "            2 : Each input line ends with a \"\\n\" character.\n",
    "return : \n",
    "            1 : no of distinct words\n",
    "            2 : no of occurance of each distinct word\n",
    "\n",
    "                4\n",
    "                bcdef\n",
    "                abcdefg\n",
    "                bcde\n",
    "                bcdef\n",
    "           op:\n",
    "                3\n",
    "                2 1 1 \n",
    "\"\"\"\n",
    "n = int(input())\n",
    "\n",
    "word_dictionary = {}\n",
    "# word_dictionary = dict()\n",
    "\n",
    "for i in range(n):\n",
    "    word = input()\n",
    "    if word in word_dictionary:\n",
    "        word_dictionary[f\"{word}\"] +=1\n",
    "    else:\n",
    "        word_dictionary[f\"{word}\"] = 1\n",
    "\n",
    "no_of_distinct_words = len(word_dictionary)\n",
    "\n",
    "print(no_of_distinct_words)  \n",
    "for key, value in word_dictionary.items():\n",
    "    # print(key, value)\n",
    "    print(value, end=' ')    "
   ]
  },
  {
   "cell_type": "code",
   "execution_count": 6,
   "metadata": {},
   "outputs": [
    {
     "data": {
      "text/plain": [
       "{'as': 2, 'df': 1}"
      ]
     },
     "execution_count": 6,
     "metadata": {},
     "output_type": "execute_result"
    }
   ],
   "source": [
    "word_dictionary"
   ]
  },
  {
   "cell_type": "code",
   "execution_count": 10,
   "metadata": {},
   "outputs": [
    {
     "data": {
      "text/plain": [
       "<enumerate at 0x72640403a640>"
      ]
     },
     "execution_count": 10,
     "metadata": {},
     "output_type": "execute_result"
    }
   ],
   "source": [
    "enumerate(word_dictionary.items())"
   ]
  },
  {
   "cell_type": "markdown",
   "metadata": {},
   "source": [
    "| Operation                         | Syntax                                    | Description                                                   |\n",
    "|-----------------------------------|-------------------------------------------|---------------------------------------------------------------|\n",
    "| Create a dictionary                | `my_dict = {}`                           | Creates an empty dictionary.                                   |\n",
    "| Create with values                 | `my_dict = {'key1': 'value1', 'key2': 'value2'}` | Creates a dictionary with initial key-value pairs.            |\n",
    "| Access a value                    | `value = my_dict['key1']`                | Retrieves the value associated with 'key1'.                   |\n",
    "| Add or update a key-value pair    | `my_dict['key3'] = 'value3'`             | Adds a new key-value pair or updates the value of an existing key. |\n",
    "| Delete a key-value pair           | `del my_dict['key1']`                     | Deletes the key 'key1' and its associated value from the dictionary. |\n",
    "| Check if a key exists             | `'key2' in my_dict`                       | Returns `True` if 'key2' exists in the dictionary, `False` otherwise. |\n",
    "| Get all keys                      | `keys = my_dict.keys()`                   | Returns a view of all keys in the dictionary.                 |\n",
    "| Get all values                    | `values = my_dict.values()`               | Returns a view of all values in the dictionary.               |\n",
    "| Get all items                     | `items = my_dict.items()`                 | Returns a view of all key-value pairs as tuples.              |\n",
    "| Clear all items                   | `my_dict.clear()`                         | Removes all items from the dictionary.                         |\n",
    "| Get value with default            | `value = my_dict.get('key4', 'default_value')` | Retrieves the value of 'key4' or returns 'default_value' if the key does not exist. |\n",
    "| Copy a dictionary                 | `new_dict = my_dict.copy()`               | Creates a shallow copy of the dictionary.                     |\n"
   ]
  },
  {
   "cell_type": "markdown",
   "metadata": {},
   "source": [
    "> [HackerRank](https://www.hackerrank.com/challenges/py-collections-deque/problem?isFullScreen=true)"
   ]
  },
  {
   "cell_type": "code",
   "execution_count": 30,
   "metadata": {},
   "outputs": [
    {
     "name": "stdout",
     "output_type": "stream",
     "text": [
      "12\n"
     ]
    }
   ],
   "source": [
    "# Enter your code here. Read input from STDIN. Print output to STDOUT\n",
    "\n",
    "from collections import deque\n",
    "\n",
    "\n",
    "\"\"\" \n",
    "input:\n",
    "        6\n",
    "        append 1\n",
    "        append 2\n",
    "        append 3\n",
    "        appendleft 4\n",
    "        pop\n",
    "        popleft\n",
    "\n",
    "output: \n",
    "        1 2\n",
    "\"\"\"\n",
    "# Initialize an empty deque\n",
    "our_queue = deque()\n",
    "\n",
    "# Number of operations\n",
    "NoOfOperation = int(input())\n",
    "\n",
    "\n",
    "# Process each operation\n",
    "for ind in range(NoOfOperation):\n",
    "    string = input().split()\n",
    "    operation = string[0]\n",
    "    if len(string) > 1:\n",
    "        value = string[1]\n",
    "        getattr(our_queue, operation)(value)\n",
    "    else:\n",
    "        getattr(our_queue, operation)()\n",
    "\n",
    "print(\" \".join(our_queue))\n",
    "   \n",
    "\n",
    "\n",
    "\n",
    "#    Op_Val= list(string.split())\n",
    "#    our_queue = our_queue.Op_Val[0](Op_Val[1])\n"
   ]
  },
  {
   "cell_type": "code",
   "execution_count": 18,
   "metadata": {},
   "outputs": [
    {
     "ename": "SyntaxError",
     "evalue": "invalid syntax (3788506964.py, line 2)",
     "output_type": "error",
     "traceback": [
      "\u001b[0;36m  File \u001b[0;32m\"/tmp/ipykernel_51059/3788506964.py\"\u001b[0;36m, line \u001b[0;32m2\u001b[0m\n\u001b[0;31m    [operation, value for i, j in input().strip()]\u001b[0m\n\u001b[0m                        ^\u001b[0m\n\u001b[0;31mSyntaxError\u001b[0m\u001b[0;31m:\u001b[0m invalid syntax\n"
     ]
    }
   ],
   "source": [
    "# operation, value = map(operation, value for i, j in input().strip())\n",
    "[operation, value for _ in input()]\n",
    "    Op_Val= list(Op_Val)"
   ]
  },
  {
   "cell_type": "code",
   "execution_count": 24,
   "metadata": {},
   "outputs": [
    {
     "ename": "IndexError",
     "evalue": "list index out of range",
     "output_type": "error",
     "traceback": [
      "\u001b[0;31m---------------------------------------------------------------------------\u001b[0m",
      "\u001b[0;31mIndexError\u001b[0m                                Traceback (most recent call last)",
      "\u001b[0;32m/tmp/ipykernel_51059/1479329744.py\u001b[0m in \u001b[0;36m<module>\u001b[0;34m\u001b[0m\n\u001b[1;32m      1\u001b[0m \u001b[0;32mfor\u001b[0m \u001b[0mOp_Val\u001b[0m \u001b[0;32min\u001b[0m \u001b[0minput\u001b[0m\u001b[0;34m(\u001b[0m\u001b[0;34m)\u001b[0m\u001b[0;34m:\u001b[0m\u001b[0;34m\u001b[0m\u001b[0;34m\u001b[0m\u001b[0m\n\u001b[1;32m      2\u001b[0m     \u001b[0mOp_Val\u001b[0m\u001b[0;34m=\u001b[0m \u001b[0mlist\u001b[0m\u001b[0;34m(\u001b[0m\u001b[0mOp_Val\u001b[0m\u001b[0;34m)\u001b[0m\u001b[0;34m\u001b[0m\u001b[0;34m\u001b[0m\u001b[0m\n\u001b[0;32m----> 3\u001b[0;31m     \u001b[0mprint\u001b[0m\u001b[0;34m(\u001b[0m\u001b[0mOp_Val\u001b[0m\u001b[0;34m[\u001b[0m\u001b[0;36m0\u001b[0m\u001b[0;34m]\u001b[0m\u001b[0;34m,\u001b[0m \u001b[0mOp_Val\u001b[0m\u001b[0;34m[\u001b[0m\u001b[0;36m1\u001b[0m\u001b[0;34m]\u001b[0m\u001b[0;34m)\u001b[0m\u001b[0;34m\u001b[0m\u001b[0;34m\u001b[0m\u001b[0m\n\u001b[0m",
      "\u001b[0;31mIndexError\u001b[0m: list index out of range"
     ]
    }
   ],
   "source": [
    "for Op_Val in input():\n",
    "    Op_Val= list(Op_Val)\n",
    "    print(Op_Val[0], Op_Val[1])    "
   ]
  },
  {
   "cell_type": "code",
   "execution_count": 27,
   "metadata": {},
   "outputs": [
    {
     "data": {
      "text/plain": [
       "('dasd', '5')"
      ]
     },
     "execution_count": 27,
     "metadata": {},
     "output_type": "execute_result"
    }
   ],
   "source": [
    "string = input()\n",
    "Op_Val= list(string.split())\n",
    "Op_Val[0], Op_Val[1]"
   ]
  },
  {
   "cell_type": "markdown",
   "metadata": {},
   "source": [
    "| Function       | Description                                                                   | Syntax                              | Example                                                                                       | Output                   |\n",
    "|----------------|-------------------------------------------------------------------------------|-------------------------------------|-----------------------------------------------------------------------------------------------|--------------------------|\n",
    "| `getattr()`    | Retrieves the value of an attribute from an object.                           | `getattr(object, \"attribute\")`     | ```python<br>class Example:<br>    def __init__(self):<br>        self.value = 42<br>    obj = Example()<br>    getattr(obj, \"value\")<br>``` | `42`                     |\n",
    "|                | If the attribute doesn’t exist, it returns a default value if provided.     | `getattr(object, \"attribute\", default)` | ```python<br>class Example:<br>    pass<br>obj = Example()<br>getattr(obj, \"value\", \"Not Found\")<br>``` | `\"Not Found\"`            |\n"
   ]
  },
  {
   "cell_type": "markdown",
   "metadata": {},
   "source": [
    "> [HackerRank](https://www.hackerrank.com/challenges/ginorts/problem?isFullScreen=true)"
   ]
  },
  {
   "cell_type": "code",
   "execution_count": 101,
   "metadata": {},
   "outputs": [
    {
     "name": "stdout",
     "output_type": "stream",
     "text": [
      "addsADDS3322\n"
     ]
    }
   ],
   "source": [
    "def func(user_input):\n",
    "    lower_case = sorted([ch for ch in user_input if ch.islower()])\n",
    "    upper_case = sorted([ch for ch in user_input if ch.isupper()])\n",
    "    odd_digits = sorted([ch for ch in user_input if ch.isdigit() and int(ch) % 2 != 0])\n",
    "    even_digits = sorted([ch for ch in user_input if ch.isdigit() and int(ch) % 2 == 0])\n",
    "    \n",
    "    result = ''.join(lower_case + upper_case + odd_digits + even_digits)\n",
    "    print(result)\n",
    "\n",
    "user_input = input()\n",
    "func(user_input)"
   ]
  },
  {
   "cell_type": "code",
   "execution_count": 80,
   "metadata": {},
   "outputs": [
    {
     "name": "stdout",
     "output_type": "stream",
     "text": [
      "ASddqw45\n"
     ]
    }
   ],
   "source": [
    "# Enter your code here. Read input from STDIN. Print output to STDOUT\n",
    "\n",
    "user_input = input()\n",
    "# list_of_values = list(map(user_input.split))\n",
    "\n",
    "# list(\"dasdas\")\n",
    "\n",
    "def func(list_1):\n",
    "    list_1 = sorted(list_1)\n",
    "    result = \"\"\n",
    "    idx = 0\n",
    "    \n",
    "    # Handle digits first\n",
    "    while idx < len(list_1) and list_1[idx].isdigit():\n",
    "        result += list_1[idx]\n",
    "        idx += 1\n",
    "\n",
    "    # Concatenate the rest of the characters\n",
    "    result = ''.join(list_1[idx:]) + result\n",
    "    print(result)   \n",
    "\n",
    "\n",
    "func(user_input)\n",
    "\n",
    "\n",
    "\n",
    "#     list = sorted(list_1)\n",
    "#     # for i in len(list):\n",
    "#     result = \"\"\n",
    "#     idx = 0\n",
    "#     if list[idx].isdigit():\n",
    "#         while list[i].isdigit():\n",
    "#             result+=(list[i])\n",
    "#             idx+=1\n",
    "#         result = list[idx:] + sorted(list[0:idx])\n",
    "#         print(result)\n",
    "#     else:\n",
    "#         print(list)\n",
    "\n",
    "\n",
    "\n",
    "# list = [\"d\",\"S\",\"4\", \"u\"]\n",
    "# print(sorted(list))\n",
    "# list[0].isdigit()\n",
    "# \"\"\"  \n",
    "# ['4', 'S', 'd', 'u']\n",
    "# \"\"\""
   ]
  },
  {
   "cell_type": "code",
   "execution_count": 100,
   "metadata": {},
   "outputs": [
    {
     "name": "stdout",
     "output_type": "stream",
     "text": [
      "addsDFFGG223\n"
     ]
    }
   ],
   "source": [
    "user_input = input()\n",
    "\n",
    "def func(list_1):\n",
    "    list = sorted(list_1)\n",
    "    # for i in len(list):\n",
    "    result = \"\"\n",
    "    idx = 0\n",
    "    if list[idx].isdigit():\n",
    "        while list[idx].isdigit():\n",
    "            result+=(list[idx])\n",
    "            idx+=1\n",
    "            \n",
    "\n",
    "        lower_case = sorted([ch for ch in list[idx:] if ch.islower()])\n",
    "        upper_case = sorted([ch for ch in list[idx:] if ch.isupper()])\n",
    "\n",
    "        result2 = ''.join(lower_case+upper_case) + result\n",
    "        print(result2)\n",
    "    else:\n",
    "        print(list)\n",
    "\n",
    "func(user_input)\n"
   ]
  },
  {
   "cell_type": "code",
   "execution_count": 83,
   "metadata": {},
   "outputs": [
    {
     "name": "stdout",
     "output_type": "stream",
     "text": [
      "['4', 'S', 'd', 'u']\n",
      "True\n"
     ]
    },
    {
     "data": {
      "text/plain": [
       "'4'"
      ]
     },
     "execution_count": 83,
     "metadata": {},
     "output_type": "execute_result"
    }
   ],
   "source": [
    "list = [\"d\",\"S\",\"4\", \"u\"]\n",
    "newone = sorted(list)\n",
    "print(newone)\n",
    "print(newone[0].isdigit())\n",
    "newone[0]"
   ]
  },
  {
   "cell_type": "code",
   "execution_count": 55,
   "metadata": {},
   "outputs": [
    {
     "data": {
      "text/plain": [
       "'a'"
      ]
     },
     "execution_count": 55,
     "metadata": {},
     "output_type": "execute_result"
    }
   ],
   "source": [
    "result = \"\"\n",
    "result+=(\"a\")\n",
    "result"
   ]
  },
  {
   "cell_type": "code",
   "execution_count": 87,
   "metadata": {},
   "outputs": [
    {
     "data": {
      "text/plain": [
       "['2', '3', '4', '5', 'A', 'D', 'S', 'a', 'd', 'd', 'd', 'q', 's', 's', 'w']"
      ]
     },
     "execution_count": 87,
     "metadata": {},
     "output_type": "execute_result"
    }
   ],
   "source": [
    "user_input = input()\n",
    "list = sorted(user_input)\n",
    "list"
   ]
  },
  {
   "cell_type": "code",
   "execution_count": 73,
   "metadata": {},
   "outputs": [
    {
     "data": {
      "text/plain": [
       "[' ', '5', 'a', 'a', 'a', 'd', 'd', 'd', 's', 's', 's']"
      ]
     },
     "execution_count": 73,
     "metadata": {},
     "output_type": "execute_result"
    }
   ],
   "source": [
    "sorted(user_input)"
   ]
  },
  {
   "cell_type": "code",
   "execution_count": 72,
   "metadata": {},
   "outputs": [
    {
     "ename": "TypeError",
     "evalue": "'str' object is not callable",
     "output_type": "error",
     "traceback": [
      "\u001b[0;31m---------------------------------------------------------------------------\u001b[0m",
      "\u001b[0;31mTypeError\u001b[0m                                 Traceback (most recent call last)",
      "\u001b[0;32m/tmp/ipykernel_51059/4045759746.py\u001b[0m in \u001b[0;36m<module>\u001b[0;34m\u001b[0m\n\u001b[0;32m----> 1\u001b[0;31m \u001b[0mlist\u001b[0m\u001b[0;34m(\u001b[0m\u001b[0muser_input\u001b[0m\u001b[0;34m)\u001b[0m\u001b[0;34m\u001b[0m\u001b[0;34m\u001b[0m\u001b[0m\n\u001b[0m",
      "\u001b[0;31mTypeError\u001b[0m: 'str' object is not callable"
     ]
    }
   ],
   "source": [
    "list(user_input)"
   ]
  },
  {
   "cell_type": "code",
   "execution_count": null,
   "metadata": {},
   "outputs": [],
   "source": []
  },
  {
   "cell_type": "code",
   "execution_count": null,
   "metadata": {},
   "outputs": [],
   "source": []
  },
  {
   "cell_type": "code",
   "execution_count": null,
   "metadata": {},
   "outputs": [],
   "source": []
  },
  {
   "cell_type": "code",
   "execution_count": null,
   "metadata": {},
   "outputs": [],
   "source": []
  },
  {
   "cell_type": "code",
   "execution_count": null,
   "metadata": {},
   "outputs": [],
   "source": []
  },
  {
   "cell_type": "code",
   "execution_count": null,
   "metadata": {},
   "outputs": [],
   "source": []
  },
  {
   "cell_type": "code",
   "execution_count": null,
   "metadata": {},
   "outputs": [],
   "source": []
  },
  {
   "cell_type": "code",
   "execution_count": null,
   "metadata": {},
   "outputs": [],
   "source": []
  },
  {
   "cell_type": "code",
   "execution_count": null,
   "metadata": {},
   "outputs": [],
   "source": []
  },
  {
   "cell_type": "code",
   "execution_count": null,
   "metadata": {},
   "outputs": [],
   "source": []
  },
  {
   "cell_type": "code",
   "execution_count": null,
   "metadata": {},
   "outputs": [],
   "source": []
  },
  {
   "cell_type": "code",
   "execution_count": null,
   "metadata": {},
   "outputs": [],
   "source": []
  },
  {
   "cell_type": "code",
   "execution_count": null,
   "metadata": {},
   "outputs": [],
   "source": []
  },
  {
   "cell_type": "code",
   "execution_count": null,
   "metadata": {},
   "outputs": [],
   "source": []
  }
 ],
 "metadata": {
  "kernelspec": {
   "display_name": "ai",
   "language": "python",
   "name": "python3"
  },
  "language_info": {
   "codemirror_mode": {
    "name": "ipython",
    "version": 3
   },
   "file_extension": ".py",
   "mimetype": "text/x-python",
   "name": "python",
   "nbconvert_exporter": "python",
   "pygments_lexer": "ipython3",
   "version": "3.7.17"
  }
 },
 "nbformat": 4,
 "nbformat_minor": 2
}
