{
 "cells": [
  {
   "cell_type": "markdown",
   "metadata": {},
   "source": [
    "#  Data Structure and Algorithm\n",
    "---\n",
    "## Systematic Approach to Problem Solving\n",
    "\n",
    "### 1. State the Problem Clearly\n",
    "- **Understand the problem:** Identify the key points, goals, and constraints.\n",
    "- **Define inputs and outputs:** Clarify what kind of input is expected and what output is required.\n",
    "\n",
    "### 2. Generate Example Inputs & Outputs\n",
    "- **Create examples:** Make test cases that cover typical, edge, and extreme cases.\n",
    "- **Validate understanding:** Ensure that the examples match the expected behavior of the solution.\n",
    "\n",
    "### 3. Plan the Solution in Plain English\n",
    "- **Describe the logic:** Outline the steps needed to reach the solution clearly, without diving into code.\n",
    "- **Ensure correctness:** Validate that the solution covers all cases.\n",
    "\n",
    "### 4. Implement the Solution\n",
    "- **Translate plan into code:** Write the code based on the plain English explanation.\n",
    "- **Test thoroughly:** Use the examples from step 2 to ensure correctness.\n",
    "\n",
    "### 5. Fix Bugs (if any)\n",
    "- **Debug:** Identify where errors occur and make adjustments.\n",
    "- **Re-test:** Confirm the solution works properly after fixing.\n",
    "\n",
    "### 6. Analyze the Algorithm\n",
    "- **Determine complexity:** Analyze time and space complexity (Big O notation).\n",
    "- **Check performance:** Identify any inefficiencies or bottlenecks.\n",
    "\n",
    "### 7. Optimize\n",
    "- **Apply techniques:** Use techniques like memoization, dynamic programming, or data structure optimization.\n",
    "- **Iterate:** Refine and optimize the solution, repeating steps 3 to 6 if necessary.\n"
   ]
  },
  {
   "cell_type": "markdown",
   "metadata": {},
   "source": []
  },
  {
   "cell_type": "code",
   "execution_count": 3,
   "metadata": {},
   "outputs": [
    {
     "name": "stdout",
     "output_type": "stream",
     "text": [
      "None\n"
     ]
    }
   ],
   "source": [
    "\n",
    "\n",
    "\n",
    "\n",
    "\n",
    "\n",
    "\n",
    "\n",
    "\n",
    "\n"
   ]
  },
  {
   "cell_type": "code",
   "execution_count": null,
   "metadata": {},
   "outputs": [],
   "source": []
  },
  {
   "cell_type": "code",
   "execution_count": null,
   "metadata": {},
   "outputs": [],
   "source": []
  },
  {
   "cell_type": "code",
   "execution_count": null,
   "metadata": {},
   "outputs": [],
   "source": []
  },
  {
   "cell_type": "code",
   "execution_count": null,
   "metadata": {},
   "outputs": [],
   "source": []
  },
  {
   "cell_type": "code",
   "execution_count": null,
   "metadata": {},
   "outputs": [],
   "source": []
  },
  {
   "cell_type": "code",
   "execution_count": null,
   "metadata": {},
   "outputs": [],
   "source": []
  },
  {
   "cell_type": "code",
   "execution_count": null,
   "metadata": {},
   "outputs": [],
   "source": []
  },
  {
   "cell_type": "code",
   "execution_count": null,
   "metadata": {},
   "outputs": [],
   "source": []
  },
  {
   "cell_type": "code",
   "execution_count": null,
   "metadata": {},
   "outputs": [],
   "source": []
  },
  {
   "cell_type": "code",
   "execution_count": null,
   "metadata": {},
   "outputs": [],
   "source": []
  },
  {
   "cell_type": "code",
   "execution_count": null,
   "metadata": {},
   "outputs": [],
   "source": []
  },
  {
   "cell_type": "code",
   "execution_count": null,
   "metadata": {},
   "outputs": [],
   "source": []
  },
  {
   "cell_type": "code",
   "execution_count": null,
   "metadata": {},
   "outputs": [],
   "source": []
  },
  {
   "cell_type": "code",
   "execution_count": null,
   "metadata": {},
   "outputs": [],
   "source": []
  },
  {
   "cell_type": "code",
   "execution_count": null,
   "metadata": {},
   "outputs": [],
   "source": []
  }
 ],
 "metadata": {
  "kernelspec": {
   "display_name": ".venv",
   "language": "python",
   "name": "python3"
  },
  "language_info": {
   "codemirror_mode": {
    "name": "ipython",
    "version": 3
   },
   "file_extension": ".py",
   "mimetype": "text/x-python",
   "name": "python",
   "nbconvert_exporter": "python",
   "pygments_lexer": "ipython3",
   "version": "3.7.17"
  }
 },
 "nbformat": 4,
 "nbformat_minor": 2
}
