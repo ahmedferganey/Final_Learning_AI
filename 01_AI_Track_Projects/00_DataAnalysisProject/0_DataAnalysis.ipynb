{
 "cells": [
  {
   "cell_type": "markdown",
   "metadata": {},
   "source": [
    "# Projects on Data Analysis"
   ]
  },
  {
   "cell_type": "markdown",
   "metadata": {},
   "source": [
    "\n",
    "**Step 1: Select a real-world dataset**\n",
    "\n",
    "Find an interesting dataset on this page: https://www.kaggle.com/datasets?fileType=csv\n",
    "The data should be in CSV format, and should contain at least 3 columns and 150 rows\n",
    "Download the dataset using the opendatasets Python library\n",
    "Here's some sample code for downloading the US Elections Dataset:\n",
    "\n",
    "**Step 2: Perform data preparation & cleaning**\n",
    "\n",
    "Load the dataset into a data frame using Pandas\n",
    "Explore the number of rows & columns, ranges of values etc.\n",
    "Handle missing, incorrect and invalid data\n",
    "Perform any additional steps (parsing dates, creating additional columns, merging multiple dataset etc.)\n",
    "\n",
    "**Step 3: Perform exploratory analysis & visualization**\n",
    "\n",
    "Compute the mean, sum, range and other interesting statistics for numeric columns\n",
    "Explore distributions of numeric columns using histograms etc.\n",
    "Explore relationship between columns using scatter plots, bar charts etc.\n",
    "Make a note of interesting insights from the exploratory analysis\n",
    "\n",
    "**Step 4: Ask & answer questions about the data**\n",
    "\n",
    "Ask at least 4 interesting questions about your dataset\n",
    "Answer the questions either by computing the results using Numpy/Pandas or by plotting graphs using Matplotlib/Seaborn\n",
    "Create new columns, merge multiple dataset and perform grouping/aggregation wherever necessary\n",
    "Wherever you're using a library function from Pandas/Numpy/Matplotlib etc. explain briefly what it does\n",
    "\n",
    "\n",
    "**Step 5: Summarize your inferences & write a conclusion**\n",
    "\n",
    "Write a summary of what you've learned from the analysis\n",
    "Include interesting insights and graphs from previous sections\n",
    "Share ideas for future work on the same topic using other relevant datasets\n",
    "Share links to resources you found useful during your analysis\n"
   ]
  },
  {
   "cell_type": "code",
   "execution_count": null,
   "metadata": {},
   "outputs": [],
   "source": []
  },
  {
   "cell_type": "code",
   "execution_count": null,
   "metadata": {},
   "outputs": [],
   "source": []
  },
  {
   "cell_type": "markdown",
   "metadata": {},
   "source": [
    "# **1. Loading our dataset**"
   ]
  },
  {
   "cell_type": "code",
   "execution_count": null,
   "metadata": {},
   "outputs": [],
   "source": []
  }
 ],
 "metadata": {
  "kernelspec": {
   "display_name": "ai",
   "language": "python",
   "name": "python3"
  },
  "language_info": {
   "codemirror_mode": {
    "name": "ipython",
    "version": 3
   },
   "file_extension": ".py",
   "mimetype": "text/x-python",
   "name": "python",
   "nbconvert_exporter": "python",
   "pygments_lexer": "ipython3",
   "version": "3.7.17"
  }
 },
 "nbformat": 4,
 "nbformat_minor": 2
}
