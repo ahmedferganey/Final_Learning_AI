{
 "cells": [
  {
   "cell_type": "markdown",
   "metadata": {},
   "source": [
    "# **1. Lecture One : Introduction to Advanced Deep Learning**\n",
    "\n",
    "## **1.1 Resources**\n",
    "[Deep Learning Course MIT](https://www.youtube.com/playlist?list=PLtBw6njQRU-rwp5__7C0oIVt26ZgjG9NI)\n",
    "\n",
    "[aamini/introtodeeplearning.github](https://github.com/aamini/introtodeeplearning)\n",
    "\n",
    "## Generating images from Natural Language\n",
    "\n",
    "\n",
    "## what is Deep learning in between AI, Ml, DL?\n",
    "\n"
   ]
  },
  {
   "cell_type": "markdown",
   "metadata": {},
   "source": [
    "# **2. Lecture TWo : Deep Sequence Modeling**\n",
    "\n"
   ]
  },
  {
   "cell_type": "markdown",
   "metadata": {},
   "source": [
    "# **3. Lecture One : Intro to advanced deep learning**\n"
   ]
  },
  {
   "cell_type": "markdown",
   "metadata": {},
   "source": [
    "# **4. Lecture One : Intro to advanced deep learning**\n"
   ]
  },
  {
   "cell_type": "markdown",
   "metadata": {},
   "source": [
    "# **5. Lecture One : Intro to advanced deep learning**\n"
   ]
  },
  {
   "cell_type": "markdown",
   "metadata": {},
   "source": [
    "# **6. Lecture One : Intro to advanced deep learning**\n"
   ]
  },
  {
   "cell_type": "markdown",
   "metadata": {},
   "source": [
    "# **7. Lecture One : Intro to advanced deep learning**\n"
   ]
  },
  {
   "cell_type": "markdown",
   "metadata": {},
   "source": [
    "# **8. Lecture One : Intro to advanced deep learning**\n"
   ]
  },
  {
   "cell_type": "markdown",
   "metadata": {},
   "source": [
    "# **9. Lecture One : Intro to advanced deep learning**\n"
   ]
  },
  {
   "cell_type": "markdown",
   "metadata": {},
   "source": [
    "# **10. Lecture One : Intro to advanced deep learning**\n"
   ]
  },
  {
   "cell_type": "markdown",
   "metadata": {},
   "source": [
    "# **11. Lecture One : Intro to advanced deep learning**\n"
   ]
  },
  {
   "cell_type": "markdown",
   "metadata": {},
   "source": [
    "# **12. Lecture One : Intro to advanced deep learning**\n"
   ]
  },
  {
   "cell_type": "markdown",
   "metadata": {},
   "source": [
    "# **13. Lecture One : Intro to advanced deep learning**\n"
   ]
  },
  {
   "cell_type": "markdown",
   "metadata": {},
   "source": [
    "# **14. Labs and projects**\n",
    "\n",
    "## **Lab: 1 Music Generation**\n",
    "\n",
    " - build a neural network that can learn the genre of irish folk songs and use it to generate brand new songs!\n",
    "\n",
    "## **Lab: 2 Computer Vision**\n",
    "\n",
    " - build a neural network that can detect and mitigate biases in computer vision facial recognition systems!\n",
    "\n",
    "## **Lab: 3 LLMs**\n",
    "\n",
    " - Fine tune a large language model (LLM) as a chat assistant and evaluate it on cognitive tests!\n",
    "\n",
    "\n",
    "\n",
    "\n"
   ]
  }
 ],
 "metadata": {
  "language_info": {
   "name": "python"
  }
 },
 "nbformat": 4,
 "nbformat_minor": 2
}
