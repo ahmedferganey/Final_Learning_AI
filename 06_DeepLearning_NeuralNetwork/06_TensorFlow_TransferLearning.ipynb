{
 "cells": [
  {
   "cell_type": "markdown",
   "metadata": {},
   "source": [
    "# **Ch-05: Transfer Learning with NN on Tensor Flow**"
   ]
  }
 ],
 "metadata": {
  "language_info": {
   "name": "python"
  }
 },
 "nbformat": 4,
 "nbformat_minor": 2
}
